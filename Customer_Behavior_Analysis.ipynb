{
 "cells": [
  {
   "cell_type": "markdown",
   "metadata": {},
   "source": [
    "Hola &#x1F600;\n",
    "\n",
    "Soy **Hesus Garcia**  como \"Jesús\" pero con H. Sé que puede ser confuso al principio, pero una vez que lo recuerdes, ¡nunca lo olvidarás! &#x1F31D;\t. Como revisor de código de Triple-Ten, estoy emocionado de examinar tus proyectos y ayudarte a mejorar tus habilidades en programación. si has cometido algún error, no te preocupes, pues ¡estoy aquí para ayudarte a corregirlo y hacer que tu código brille! &#x1F31F;. Si encuentro algún detalle en tu código, te lo señalaré para que lo corrijas, ya que mi objetivo es ayudarte a prepararte para un ambiente de trabajo real, donde el líder de tu equipo actuaría de la misma manera. Si no puedes solucionar el problema, te proporcionaré más información en la próxima oportunidad. Cuando encuentres un comentario,  **por favor, no los muevas, no los modifiques ni los borres**.\n",
    "\n",
    "Revisaré cuidadosamente todas las implementaciones que has realizado para cumplir con los requisitos y te proporcionaré mis comentarios de la siguiente manera:\n",
    "\n",
    "\n",
    "<div class=\"alert alert-block alert-success\">\n",
    "<b>Comentario del revisor</b> <a class=“tocSkip”></a>\n",
    "Si todo está perfecto.\n",
    "</div>\n",
    "\n",
    "<div class=\"alert alert-block alert-warning\">\n",
    "<b>Comentario del revisor</b> <a class=“tocSkip”></a>\n",
    "Si tu código está bien pero se puede mejorar o hay algún detalle que le hace falta.\n",
    "</div>\n",
    "\n",
    "<div class=\"alert alert-block alert-danger\">\n",
    "<b>Comentario del revisor</b> <a class=“tocSkip”></a>\n",
    "Si de pronto hace falta algo o existe algún problema con tu código o conclusiones.\n",
    "</div>\n",
    "\n",
    "Puedes responderme de esta forma:\n",
    "<div class=\"alert alert-block alert-info\">\n",
    "<b>Respuesta del estudiante</b> <a class=“tocSkip”></a>\n",
    "</div>\n",
    "\n",
    "</br>\n",
    "\n",
    "**¡Empecemos!**  &#x1F680;\n",
    "\n",
    "\n",
    "\n"
   ]
  },
  {
   "cell_type": "markdown",
   "metadata": {
    "id": "3rYiDeEH0q0f"
   },
   "source": [
    "# ¿Cuál es la mejor tarifa?\n",
    "\n",
    "Trabajas como analista para el operador de telecomunicaciones Megaline. La empresa ofrece a sus clientes dos tarifas de prepago, Surf y Ultimate. El departamento comercial quiere saber cuál de las tarifas genera más ingresos para poder ajustar el presupuesto de publicidad.\n",
    "\n",
    "Vas a realizar un análisis preliminar de las tarifas basado en una selección de clientes relativamente pequeña. Tendrás los datos de 500 clientes de Megaline: quiénes son los clientes, de dónde son, qué tarifa usan, así como la cantidad de llamadas que hicieron y los mensajes de texto que enviaron en 2018. Tu trabajo es analizar el comportamiento de los clientes y determinar qué tarifa de prepago genera más ingresos."
   ]
  },
  {
   "cell_type": "markdown",
   "metadata": {},
   "source": [
    "## Propósito del proyecto \n",
    "\n",
    "Realizar análisis preliminar para saber que si cual de ambas tarifas (Surf o Ultimate) genera más ingresos a la compañía Megaline\n",
    "\n",
    "## Acciones a realizar\n",
    "\n",
    "1. Revisión de datos para saber cual es su estructo\n",
    "2. Limpieza de los datos y modificaciones necesarias\n",
    "3. Trabajar con los datos limpios y hacer el análisis correcpondiente"
   ]
  },
  {
   "cell_type": "markdown",
   "metadata": {
    "id": "VNddPNRQ0q0w"
   },
   "source": [
    "[Te proporcionamos algunos comentarios para orientarte mientras completas este proyecto. Pero debes asegurarte de eliminar todos los comentarios entre corchetes antes de entregar tu proyecto.]\n",
    "\n",
    "[Antes de sumergirte en el análisis de datos, explica por tu propia cuenta el propósito del proyecto y las acciones que planeas realizar.]\n",
    "\n",
    "[Ten en cuenta que estudiar, modificar y analizar datos es un proceso iterativo. Es normal volver a los pasos anteriores y corregirlos/ampliarlos para permitir nuevos pasos.]"
   ]
  },
  {
   "cell_type": "markdown",
   "metadata": {
    "id": "MQi4IPy70q0y"
   },
   "source": [
    "## Inicialización"
   ]
  },
  {
   "cell_type": "code",
   "execution_count": 1,
   "metadata": {
    "id": "MtYIuBxu0q0z"
   },
   "outputs": [],
   "source": [
    "# Cargar todas las librerías\n",
    "import pandas as pd\n",
    "import numpy as np\n",
    "from scipy import stats as st\n",
    "from matplotlib import pyplot as plt\n",
    "import seaborn as sns"
   ]
  },
  {
   "cell_type": "markdown",
   "metadata": {
    "id": "4ysWWC5i0q00"
   },
   "source": [
    "## Cargar datos"
   ]
  },
  {
   "cell_type": "code",
   "execution_count": 2,
   "metadata": {
    "id": "CCqPW7rS0q01"
   },
   "outputs": [],
   "source": [
    "# Carga los archivos de datos en diferentes DataFrames\n",
    "users = pd.read_csv('/datasets/megaline_users.csv')\n",
    "calls = pd.read_csv('/datasets/megaline_calls.csv')\n",
    "messages = pd.read_csv('/datasets/megaline_messages.csv')\n",
    "internet = pd.read_csv('/datasets/megaline_internet.csv')\n",
    "plans = pd.read_csv('/datasets/megaline_plans.csv')"
   ]
  },
  {
   "cell_type": "markdown",
   "metadata": {
    "id": "69qqoJ3r0q01"
   },
   "source": [
    "## Preparar los datos"
   ]
  },
  {
   "cell_type": "markdown",
   "metadata": {
    "id": "vUuZw80S0q01"
   },
   "source": [
    "[Los datos para este proyecto se dividen en varias tablas. Explora cada una para tener una comprensión inicial de los datos. Si es necesario, haz las correcciones requeridas en cada tabla.]"
   ]
  },
  {
   "cell_type": "markdown",
   "metadata": {
    "id": "ohBhimvH0q01"
   },
   "source": [
    "## Tarifas"
   ]
  },
  {
   "cell_type": "code",
   "execution_count": 3,
   "metadata": {
    "id": "GptqP3Q40q02"
   },
   "outputs": [
    {
     "name": "stdout",
     "output_type": "stream",
     "text": [
      "<class 'pandas.core.frame.DataFrame'>\n",
      "RangeIndex: 2 entries, 0 to 1\n",
      "Data columns (total 8 columns):\n",
      " #   Column                 Non-Null Count  Dtype  \n",
      "---  ------                 --------------  -----  \n",
      " 0   messages_included      2 non-null      int64  \n",
      " 1   mb_per_month_included  2 non-null      int64  \n",
      " 2   minutes_included       2 non-null      int64  \n",
      " 3   usd_monthly_pay        2 non-null      int64  \n",
      " 4   usd_per_gb             2 non-null      int64  \n",
      " 5   usd_per_message        2 non-null      float64\n",
      " 6   usd_per_minute         2 non-null      float64\n",
      " 7   plan_name              2 non-null      object \n",
      "dtypes: float64(2), int64(5), object(1)\n",
      "memory usage: 256.0+ bytes\n"
     ]
    }
   ],
   "source": [
    "# Imprime la información general/resumida sobre el DataFrame de las tarifas\n",
    "\n",
    "plans.info()"
   ]
  },
  {
   "cell_type": "code",
   "execution_count": 4,
   "metadata": {
    "id": "64xzjwL70q02"
   },
   "outputs": [
    {
     "name": "stdout",
     "output_type": "stream",
     "text": [
      "   messages_included  mb_per_month_included  minutes_included  \\\n",
      "0                 50                  15360               500   \n",
      "1               1000                  30720              3000   \n",
      "\n",
      "   usd_monthly_pay  usd_per_gb  usd_per_message  usd_per_minute plan_name  \n",
      "0               20          10             0.03            0.03      surf  \n",
      "1               70           7             0.01            0.01  ultimate  \n"
     ]
    }
   ],
   "source": [
    "# Imprime una muestra de los datos para las tarifas\n",
    "print(plans.head())"
   ]
  },
  {
   "cell_type": "markdown",
   "metadata": {
    "id": "mEc_3_hs0q02"
   },
   "source": [
    "[Describe lo que ves y observas en la información general y en la muestra de datos impresa para el precio de datos anterior. ¿Hay algún problema (tipos de datos no adecuados, datos ausentes, etc.) que pudieran necesitar investigación y cambios adicionales? ¿Cómo se puede arreglar?]\n"
   ]
  },
  {
   "cell_type": "markdown",
   "metadata": {
    "id": "R3C05i1l0q03"
   },
   "source": [
    "## Corregir datos"
   ]
  },
  {
   "cell_type": "markdown",
   "metadata": {
    "id": "bIi8StZI0q03"
   },
   "source": [
    "[Corrige los problemas obvios con los datos basándote en las observaciones iniciales.]"
   ]
  },
  {
   "cell_type": "markdown",
   "metadata": {
    "id": "Y7SVmjGn0q03"
   },
   "source": [
    "No hay errores en la información general, revisé los datos de la tabla y tampooco hay errores, no hay duplicados implícitos ni explicitos, ni valores NA"
   ]
  },
  {
   "cell_type": "markdown",
   "metadata": {
    "id": "LJir7bml0q03"
   },
   "source": [
    "## Enriquecer los datos"
   ]
  },
  {
   "cell_type": "markdown",
   "metadata": {
    "id": "eqADpCfg0q04"
   },
   "source": [
    "[Agrega factores adicionales a los datos si crees que pudieran ser útiles.]"
   ]
  },
  {
   "cell_type": "code",
   "execution_count": null,
   "metadata": {
    "id": "gfcIEuXV0q04"
   },
   "outputs": [],
   "source": []
  },
  {
   "cell_type": "markdown",
   "metadata": {
    "id": "1n2X6WXf0q04"
   },
   "source": [
    "## Usuarios/as"
   ]
  },
  {
   "cell_type": "code",
   "execution_count": 5,
   "metadata": {
    "id": "2NgjWFqx0q05"
   },
   "outputs": [
    {
     "name": "stdout",
     "output_type": "stream",
     "text": [
      "<class 'pandas.core.frame.DataFrame'>\n",
      "RangeIndex: 500 entries, 0 to 499\n",
      "Data columns (total 8 columns):\n",
      " #   Column      Non-Null Count  Dtype \n",
      "---  ------      --------------  ----- \n",
      " 0   user_id     500 non-null    int64 \n",
      " 1   first_name  500 non-null    object\n",
      " 2   last_name   500 non-null    object\n",
      " 3   age         500 non-null    int64 \n",
      " 4   city        500 non-null    object\n",
      " 5   reg_date    500 non-null    object\n",
      " 6   plan        500 non-null    object\n",
      " 7   churn_date  34 non-null     object\n",
      "dtypes: int64(2), object(6)\n",
      "memory usage: 31.4+ KB\n"
     ]
    }
   ],
   "source": [
    "# Imprime la información general/resumida sobre el DataFrame de usuarios\n",
    "\n",
    "users.info()"
   ]
  },
  {
   "cell_type": "code",
   "execution_count": 6,
   "metadata": {
    "id": "1IN1L9uh0q05"
   },
   "outputs": [
    {
     "name": "stdout",
     "output_type": "stream",
     "text": [
      "   user_id first_name  last_name  age                                    city  \\\n",
      "0     1000   Anamaria      Bauer   45   Atlanta-Sandy Springs-Roswell, GA MSA   \n",
      "1     1001     Mickey  Wilkerson   28         Seattle-Tacoma-Bellevue, WA MSA   \n",
      "2     1002     Carlee    Hoffman   36    Las Vegas-Henderson-Paradise, NV MSA   \n",
      "3     1003   Reynaldo    Jenkins   52                           Tulsa, OK MSA   \n",
      "4     1004    Leonila   Thompson   40         Seattle-Tacoma-Bellevue, WA MSA   \n",
      "5     1005      Livia    Shields   31     Dallas-Fort Worth-Arlington, TX MSA   \n",
      "6     1006     Jesusa   Bradford   73  San Francisco-Oakland-Berkeley, CA MSA   \n",
      "7     1007    Eusebio      Welch   42           Grand Rapids-Kentwood, MI MSA   \n",
      "8     1008      Emely    Hoffman   53       Orlando-Kissimmee-Sanford, FL MSA   \n",
      "9     1009      Gerry     Little   19  San Jose-Sunnyvale-Santa Clara, CA MSA   \n",
      "\n",
      "     reg_date      plan  churn_date  \n",
      "0  2018-12-24  ultimate         NaN  \n",
      "1  2018-08-13      surf         NaN  \n",
      "2  2018-10-21      surf         NaN  \n",
      "3  2018-01-28      surf         NaN  \n",
      "4  2018-05-23      surf         NaN  \n",
      "5  2018-11-29      surf         NaN  \n",
      "6  2018-11-27  ultimate  2018-12-18  \n",
      "7  2018-07-11      surf         NaN  \n",
      "8  2018-08-03  ultimate         NaN  \n",
      "9  2018-04-22      surf         NaN  \n"
     ]
    }
   ],
   "source": [
    "# Imprime una muestra de datos para usuarios\n",
    "\n",
    "print(users.head(10))"
   ]
  },
  {
   "cell_type": "markdown",
   "metadata": {
    "id": "dCZoUq4f0q06"
   },
   "source": [
    "[Describe lo que ves y observas en la información general y en la muestra de datos impresa para el precio de datos anterior. ¿Hay algún problema (tipos de datos no adecuados, datos ausentes, etc.) que pudieran necesitar investigación y cambios adicionales? ¿Cómo se puede arreglar?]\n",
    "\n",
    "Cambie el tipo de datos necesario a fecha, revise que no hubiera duplicados de ningun tipo y valores ausentes, cambie las columnas object a minusculas para trabajar memejor y evitar errores"
   ]
  },
  {
   "cell_type": "markdown",
   "metadata": {
    "id": "BX5FQh_I0q06"
   },
   "source": [
    "### Corregir los datos"
   ]
  },
  {
   "cell_type": "markdown",
   "metadata": {
    "id": "8OdKMwJv0q06"
   },
   "source": [
    "[Corrige los problemas obvios con los datos basándote en las observaciones iniciales.]"
   ]
  },
  {
   "cell_type": "code",
   "execution_count": 7,
   "metadata": {
    "id": "yUqX-K0C0q07"
   },
   "outputs": [
    {
     "name": "stdout",
     "output_type": "stream",
     "text": [
      "<class 'pandas.core.frame.DataFrame'>\n",
      "RangeIndex: 500 entries, 0 to 499\n",
      "Data columns (total 8 columns):\n",
      " #   Column      Non-Null Count  Dtype         \n",
      "---  ------      --------------  -----         \n",
      " 0   user_id     500 non-null    int64         \n",
      " 1   first_name  500 non-null    object        \n",
      " 2   last_name   500 non-null    object        \n",
      " 3   age         500 non-null    int64         \n",
      " 4   city        500 non-null    object        \n",
      " 5   reg_date    500 non-null    datetime64[ns]\n",
      " 6   plan        500 non-null    object        \n",
      " 7   churn_date  34 non-null     datetime64[ns]\n",
      "dtypes: datetime64[ns](2), int64(2), object(4)\n",
      "memory usage: 31.4+ KB\n"
     ]
    }
   ],
   "source": [
    "# Cambiar el tipo de dato a fecha\n",
    "users['reg_date'] = pd.to_datetime(users['reg_date'])\n",
    "users['churn_date'] = pd.to_datetime(users['churn_date'])\n",
    "\n",
    "users.info()"
   ]
  },
  {
   "cell_type": "markdown",
   "metadata": {
    "id": "ycwuARJp0q07"
   },
   "source": [
    "### Enriquecer los datos"
   ]
  },
  {
   "cell_type": "markdown",
   "metadata": {
    "id": "96NIh4CJ0q08"
   },
   "source": [
    "[Agrega factores adicionales a los datos si crees que pudieran ser útiles.]"
   ]
  },
  {
   "cell_type": "code",
   "execution_count": 8,
   "metadata": {
    "id": "iq0AaBS90q08"
   },
   "outputs": [
    {
     "data": {
      "text/html": [
       "<div>\n",
       "<style scoped>\n",
       "    .dataframe tbody tr th:only-of-type {\n",
       "        vertical-align: middle;\n",
       "    }\n",
       "\n",
       "    .dataframe tbody tr th {\n",
       "        vertical-align: top;\n",
       "    }\n",
       "\n",
       "    .dataframe thead th {\n",
       "        text-align: right;\n",
       "    }\n",
       "</style>\n",
       "<table border=\"1\" class=\"dataframe\">\n",
       "  <thead>\n",
       "    <tr style=\"text-align: right;\">\n",
       "      <th></th>\n",
       "      <th>user_id</th>\n",
       "      <th>first_name</th>\n",
       "      <th>last_name</th>\n",
       "      <th>age</th>\n",
       "      <th>city</th>\n",
       "      <th>reg_date</th>\n",
       "      <th>plan</th>\n",
       "      <th>churn_date</th>\n",
       "    </tr>\n",
       "  </thead>\n",
       "  <tbody>\n",
       "    <tr>\n",
       "      <th>197</th>\n",
       "      <td>1197</td>\n",
       "      <td>lon</td>\n",
       "      <td>parker</td>\n",
       "      <td>56</td>\n",
       "      <td>new york-newark-jersey city, ny-nj-pa msa</td>\n",
       "      <td>2018-11-05</td>\n",
       "      <td>surf</td>\n",
       "      <td>NaT</td>\n",
       "    </tr>\n",
       "    <tr>\n",
       "      <th>253</th>\n",
       "      <td>1253</td>\n",
       "      <td>sumiko</td>\n",
       "      <td>dudley</td>\n",
       "      <td>28</td>\n",
       "      <td>cleveland-elyria, oh msa</td>\n",
       "      <td>2018-08-18</td>\n",
       "      <td>ultimate</td>\n",
       "      <td>NaT</td>\n",
       "    </tr>\n",
       "    <tr>\n",
       "      <th>386</th>\n",
       "      <td>1386</td>\n",
       "      <td>jeni</td>\n",
       "      <td>gilbert</td>\n",
       "      <td>30</td>\n",
       "      <td>seattle-tacoma-bellevue, wa msa</td>\n",
       "      <td>2018-04-11</td>\n",
       "      <td>surf</td>\n",
       "      <td>NaT</td>\n",
       "    </tr>\n",
       "    <tr>\n",
       "      <th>385</th>\n",
       "      <td>1385</td>\n",
       "      <td>nohemi</td>\n",
       "      <td>erickson</td>\n",
       "      <td>52</td>\n",
       "      <td>new york-newark-jersey city, ny-nj-pa msa</td>\n",
       "      <td>2018-01-19</td>\n",
       "      <td>surf</td>\n",
       "      <td>NaT</td>\n",
       "    </tr>\n",
       "    <tr>\n",
       "      <th>145</th>\n",
       "      <td>1145</td>\n",
       "      <td>venice</td>\n",
       "      <td>brooks</td>\n",
       "      <td>29</td>\n",
       "      <td>san jose-sunnyvale-santa clara, ca msa</td>\n",
       "      <td>2018-04-12</td>\n",
       "      <td>surf</td>\n",
       "      <td>NaT</td>\n",
       "    </tr>\n",
       "    <tr>\n",
       "      <th>78</th>\n",
       "      <td>1078</td>\n",
       "      <td>earnest</td>\n",
       "      <td>gray</td>\n",
       "      <td>47</td>\n",
       "      <td>seattle-tacoma-bellevue, wa msa</td>\n",
       "      <td>2018-02-11</td>\n",
       "      <td>surf</td>\n",
       "      <td>NaT</td>\n",
       "    </tr>\n",
       "    <tr>\n",
       "      <th>309</th>\n",
       "      <td>1309</td>\n",
       "      <td>winfred</td>\n",
       "      <td>zimmerman</td>\n",
       "      <td>19</td>\n",
       "      <td>san diego-chula vista-carlsbad, ca msa</td>\n",
       "      <td>2018-07-04</td>\n",
       "      <td>surf</td>\n",
       "      <td>NaT</td>\n",
       "    </tr>\n",
       "    <tr>\n",
       "      <th>135</th>\n",
       "      <td>1135</td>\n",
       "      <td>scotty</td>\n",
       "      <td>white</td>\n",
       "      <td>51</td>\n",
       "      <td>miami-fort lauderdale-west palm beach, fl msa</td>\n",
       "      <td>2018-12-23</td>\n",
       "      <td>ultimate</td>\n",
       "      <td>NaT</td>\n",
       "    </tr>\n",
       "    <tr>\n",
       "      <th>433</th>\n",
       "      <td>1433</td>\n",
       "      <td>lyndon</td>\n",
       "      <td>morrison</td>\n",
       "      <td>29</td>\n",
       "      <td>philadelphia-camden-wilmington, pa-nj-de-md msa</td>\n",
       "      <td>2018-08-29</td>\n",
       "      <td>ultimate</td>\n",
       "      <td>NaT</td>\n",
       "    </tr>\n",
       "    <tr>\n",
       "      <th>351</th>\n",
       "      <td>1351</td>\n",
       "      <td>kyle</td>\n",
       "      <td>grimes</td>\n",
       "      <td>47</td>\n",
       "      <td>san antonio-new braunfels, tx msa</td>\n",
       "      <td>2018-09-05</td>\n",
       "      <td>ultimate</td>\n",
       "      <td>NaT</td>\n",
       "    </tr>\n",
       "  </tbody>\n",
       "</table>\n",
       "</div>"
      ],
      "text/plain": [
       "     user_id first_name  last_name  age  \\\n",
       "197     1197        lon     parker   56   \n",
       "253     1253     sumiko     dudley   28   \n",
       "386     1386       jeni    gilbert   30   \n",
       "385     1385     nohemi   erickson   52   \n",
       "145     1145     venice     brooks   29   \n",
       "78      1078    earnest       gray   47   \n",
       "309     1309    winfred  zimmerman   19   \n",
       "135     1135     scotty      white   51   \n",
       "433     1433     lyndon   morrison   29   \n",
       "351     1351       kyle     grimes   47   \n",
       "\n",
       "                                                city   reg_date      plan  \\\n",
       "197        new york-newark-jersey city, ny-nj-pa msa 2018-11-05      surf   \n",
       "253                         cleveland-elyria, oh msa 2018-08-18  ultimate   \n",
       "386                  seattle-tacoma-bellevue, wa msa 2018-04-11      surf   \n",
       "385        new york-newark-jersey city, ny-nj-pa msa 2018-01-19      surf   \n",
       "145           san jose-sunnyvale-santa clara, ca msa 2018-04-12      surf   \n",
       "78                   seattle-tacoma-bellevue, wa msa 2018-02-11      surf   \n",
       "309           san diego-chula vista-carlsbad, ca msa 2018-07-04      surf   \n",
       "135    miami-fort lauderdale-west palm beach, fl msa 2018-12-23  ultimate   \n",
       "433  philadelphia-camden-wilmington, pa-nj-de-md msa 2018-08-29  ultimate   \n",
       "351                san antonio-new braunfels, tx msa 2018-09-05  ultimate   \n",
       "\n",
       "    churn_date  \n",
       "197        NaT  \n",
       "253        NaT  \n",
       "386        NaT  \n",
       "385        NaT  \n",
       "145        NaT  \n",
       "78         NaT  \n",
       "309        NaT  \n",
       "135        NaT  \n",
       "433        NaT  \n",
       "351        NaT  "
      ]
     },
     "execution_count": 8,
     "metadata": {},
     "output_type": "execute_result"
    }
   ],
   "source": [
    "# Cambiar las columnas a minusculas para evitar duplicados\n",
    "\n",
    "for column in users.columns:\n",
    "    if users[column].dtype == 'object':\n",
    "        users[column] = users [column].str.lower()\n",
    "users.sample(10)"
   ]
  },
  {
   "cell_type": "code",
   "execution_count": 9,
   "metadata": {},
   "outputs": [
    {
     "name": "stdout",
     "output_type": "stream",
     "text": [
      "Hay 0 lineas duplicadas \n",
      "\n",
      "user_id         0\n",
      "first_name      0\n",
      "last_name       0\n",
      "age             0\n",
      "city            0\n",
      "reg_date        0\n",
      "plan            0\n",
      "churn_date    466\n",
      "dtype: int64\n"
     ]
    }
   ],
   "source": [
    "# Revision de duplicados y valores ausentes\n",
    "\n",
    "print('Hay', users.duplicated().sum(), 'lineas duplicadas \\n')\n",
    "print(users.isna().sum())"
   ]
  },
  {
   "cell_type": "markdown",
   "metadata": {
    "id": "o7MeKCid0q08"
   },
   "source": [
    "## Llamadas"
   ]
  },
  {
   "cell_type": "code",
   "execution_count": 10,
   "metadata": {
    "id": "6dDlnoDm0q08"
   },
   "outputs": [
    {
     "name": "stdout",
     "output_type": "stream",
     "text": [
      "<class 'pandas.core.frame.DataFrame'>\n",
      "RangeIndex: 137735 entries, 0 to 137734\n",
      "Data columns (total 4 columns):\n",
      " #   Column     Non-Null Count   Dtype  \n",
      "---  ------     --------------   -----  \n",
      " 0   id         137735 non-null  object \n",
      " 1   user_id    137735 non-null  int64  \n",
      " 2   call_date  137735 non-null  object \n",
      " 3   duration   137735 non-null  float64\n",
      "dtypes: float64(1), int64(1), object(2)\n",
      "memory usage: 4.2+ MB\n"
     ]
    }
   ],
   "source": [
    "# Imprime la información general/resumida sobre el DataFrame de las llamadas\n",
    "\n",
    "calls.info()"
   ]
  },
  {
   "cell_type": "code",
   "execution_count": 11,
   "metadata": {
    "id": "kuh1vlNB0q09"
   },
   "outputs": [
    {
     "name": "stdout",
     "output_type": "stream",
     "text": [
      "         id  user_id   call_date  duration\n",
      "0   1000_93     1000  2018-12-27      8.52\n",
      "1  1000_145     1000  2018-12-27     13.66\n",
      "2  1000_247     1000  2018-12-27     14.48\n",
      "3  1000_309     1000  2018-12-28      5.76\n",
      "4  1000_380     1000  2018-12-30      4.22\n",
      "5  1000_388     1000  2018-12-31      2.20\n",
      "6  1000_510     1000  2018-12-27      5.75\n",
      "7  1000_521     1000  2018-12-28     14.18\n",
      "8  1000_530     1000  2018-12-28      5.77\n",
      "9  1000_544     1000  2018-12-26      4.40\n"
     ]
    }
   ],
   "source": [
    "# Imprime una muestra de datos para las llamadas\n",
    "\n",
    "print(calls.head(10))"
   ]
  },
  {
   "cell_type": "markdown",
   "metadata": {
    "id": "DOAxYJSx0q09"
   },
   "source": [
    "[Describe lo que ves y observas en la información general y en la muestra de datos impresa para el precio de datos anterior. ¿Hay algún problema (tipos de datos no adecuados, datos ausentes, etc.) que pudieran necesitar investigación y cambios adicionales? ¿Cómo se puede arreglar?]\n",
    "\n",
    "Cambie la columna 'call_date' a tipo de dato fecha, y redondeé la duracion de llamada hacia arriba y cambie el tipo de dato a entero como lo indica el proyecto"
   ]
  },
  {
   "cell_type": "markdown",
   "metadata": {
    "id": "S7hzxmbX0q0-"
   },
   "source": [
    "### Corregir los datos"
   ]
  },
  {
   "cell_type": "markdown",
   "metadata": {
    "id": "YxWyAjD20q0-"
   },
   "source": [
    "[Corrige los problemas obvios con los datos basándote en las observaciones iniciales.]"
   ]
  },
  {
   "cell_type": "code",
   "execution_count": 12,
   "metadata": {
    "id": "S2r8xA4f0q0-"
   },
   "outputs": [
    {
     "name": "stdout",
     "output_type": "stream",
     "text": [
      "         id  user_id   call_date  duration\n",
      "0   1000_93     1000  2018-12-27         9\n",
      "1  1000_145     1000  2018-12-27        14\n",
      "2  1000_247     1000  2018-12-27        15\n",
      "3  1000_309     1000  2018-12-28         6\n",
      "4  1000_380     1000  2018-12-30         5\n"
     ]
    }
   ],
   "source": [
    "# Redondear los segundos de la llamada a minutos y cambiarlos a int\n",
    "\n",
    "calls['duration'] = np.ceil(calls['duration']).astype(int)\n",
    "print(calls.head())\n"
   ]
  },
  {
   "cell_type": "markdown",
   "metadata": {
    "id": "KrMgTrlG0q0_"
   },
   "source": [
    "### Enriquecer los datos"
   ]
  },
  {
   "cell_type": "markdown",
   "metadata": {
    "id": "a9MbmEvE0q0_"
   },
   "source": [
    "[Agrega factores adicionales a los datos si crees que pudieran ser útiles.]"
   ]
  },
  {
   "cell_type": "code",
   "execution_count": 13,
   "metadata": {
    "id": "iZ1avpA_0q0_"
   },
   "outputs": [
    {
     "name": "stdout",
     "output_type": "stream",
     "text": [
      "              id  user_id  call_date  duration  month\n",
      "36551   1138_515     1138 2018-10-12        25     10\n",
      "112766  1397_411     1397 2018-11-06        11     11\n",
      "712     1004_206     1004 2018-07-30         1      7\n",
      "17759    1068_85     1068 2018-09-13         0      9\n",
      "106581  1377_133     1377 2018-12-25        10     12\n"
     ]
    }
   ],
   "source": [
    "# Cambiar a tipo de dato datetime y extraer el mes\n",
    "\n",
    "calls ['call_date'] = pd.to_datetime(calls ['call_date'])\n",
    "calls['month'] = calls['call_date'].dt.month\n",
    "\n",
    "print(calls.sample(5))"
   ]
  },
  {
   "cell_type": "markdown",
   "metadata": {
    "id": "mOUZSi180q0_"
   },
   "source": [
    "## Mensajes"
   ]
  },
  {
   "cell_type": "code",
   "execution_count": 14,
   "metadata": {
    "id": "R-bYJpdV0q1A"
   },
   "outputs": [
    {
     "name": "stdout",
     "output_type": "stream",
     "text": [
      "<class 'pandas.core.frame.DataFrame'>\n",
      "RangeIndex: 76051 entries, 0 to 76050\n",
      "Data columns (total 3 columns):\n",
      " #   Column        Non-Null Count  Dtype \n",
      "---  ------        --------------  ----- \n",
      " 0   id            76051 non-null  object\n",
      " 1   user_id       76051 non-null  int64 \n",
      " 2   message_date  76051 non-null  object\n",
      "dtypes: int64(1), object(2)\n",
      "memory usage: 1.7+ MB\n"
     ]
    }
   ],
   "source": [
    "# Imprime la información general/resumida sobre el DataFrame de los mensajes\n",
    "\n",
    "messages.info()"
   ]
  },
  {
   "cell_type": "code",
   "execution_count": 15,
   "metadata": {
    "id": "mCEl2iGE0q1A"
   },
   "outputs": [
    {
     "name": "stdout",
     "output_type": "stream",
     "text": [
      "         id  user_id message_date\n",
      "0  1000_125     1000   2018-12-27\n",
      "1  1000_160     1000   2018-12-31\n",
      "2  1000_223     1000   2018-12-31\n",
      "3  1000_251     1000   2018-12-27\n",
      "4  1000_255     1000   2018-12-26\n",
      "5  1000_346     1000   2018-12-29\n",
      "6  1000_386     1000   2018-12-30\n",
      "7  1000_413     1000   2018-12-31\n",
      "8  1000_502     1000   2018-12-27\n",
      "9  1000_525     1000   2018-12-28\n"
     ]
    }
   ],
   "source": [
    "# Imprime una muestra de datos para los mensajes\n",
    "\n",
    "print(messages.head(10))"
   ]
  },
  {
   "cell_type": "markdown",
   "metadata": {
    "id": "04xDj7KH0q1A"
   },
   "source": [
    "[Describe lo que ves y observas en la información general y en la muestra de datos impresa para el precio de datos anterior. ¿Hay algún problema (tipos de datos no adecuados, datos ausentes, etc.) que pudieran necesitar investigación y cambios adicionales? ¿Cómo se puede arreglar?]\n",
    "\n",
    "No hay valores nulos y el tipo de dato en fecha debe ser datetime"
   ]
  },
  {
   "cell_type": "markdown",
   "metadata": {
    "id": "Sprfak900q1B"
   },
   "source": [
    "### Corregir los datos"
   ]
  },
  {
   "cell_type": "markdown",
   "metadata": {
    "id": "eGw7d9j10q1B"
   },
   "source": [
    "[Corrige los problemas obvios con los datos basándote en las observaciones iniciales.]"
   ]
  },
  {
   "cell_type": "code",
   "execution_count": 16,
   "metadata": {
    "id": "vsllvkoa0q1B"
   },
   "outputs": [
    {
     "name": "stdout",
     "output_type": "stream",
     "text": [
      "0\n"
     ]
    }
   ],
   "source": [
    "# Revisar si hay duplicados y cambiar el tipo de dato a fecha \n",
    "\n",
    "messages['message_date'] = pd.to_datetime(messages['message_date'])\n",
    "\n",
    "print(messages.duplicated().sum())"
   ]
  },
  {
   "cell_type": "markdown",
   "metadata": {
    "id": "HvLid7iD0q1B"
   },
   "source": [
    "### Enriquecer los datos"
   ]
  },
  {
   "cell_type": "markdown",
   "metadata": {
    "id": "8nhPFKIe0q1C"
   },
   "source": [
    "[Agrega factores adicionales a los datos si crees que pudieran ser útiles.]"
   ]
  },
  {
   "cell_type": "code",
   "execution_count": 17,
   "metadata": {
    "id": "zYEXZac10q1C"
   },
   "outputs": [
    {
     "name": "stdout",
     "output_type": "stream",
     "text": [
      "              id  user_id message_date  month\n",
      "31944    1199_32     1199   2018-08-04      8\n",
      "3792    1038_145     1038   2018-10-29     10\n",
      "50151  1328_1109     1328   2018-12-20     12\n",
      "36545    1243_25     1243   2018-11-01     11\n",
      "22362   1133_433     1133   2018-07-30      7\n"
     ]
    }
   ],
   "source": [
    "messages['month'] = messages['message_date'].dt.month\n",
    "\n",
    "print(messages.sample(5))"
   ]
  },
  {
   "cell_type": "markdown",
   "metadata": {
    "id": "bStkaxn40q1C"
   },
   "source": [
    "## Internet"
   ]
  },
  {
   "cell_type": "code",
   "execution_count": 18,
   "metadata": {
    "id": "e-Uz5qyn0q1C"
   },
   "outputs": [
    {
     "name": "stdout",
     "output_type": "stream",
     "text": [
      "<class 'pandas.core.frame.DataFrame'>\n",
      "RangeIndex: 104825 entries, 0 to 104824\n",
      "Data columns (total 4 columns):\n",
      " #   Column        Non-Null Count   Dtype  \n",
      "---  ------        --------------   -----  \n",
      " 0   id            104825 non-null  object \n",
      " 1   user_id       104825 non-null  int64  \n",
      " 2   session_date  104825 non-null  object \n",
      " 3   mb_used       104825 non-null  float64\n",
      "dtypes: float64(1), int64(1), object(2)\n",
      "memory usage: 3.2+ MB\n"
     ]
    }
   ],
   "source": [
    "# Imprime la información general/resumida sobre el DataFrame de internet\n",
    "\n",
    "internet.info()"
   ]
  },
  {
   "cell_type": "code",
   "execution_count": 19,
   "metadata": {
    "id": "9r3x_XLw0q1C"
   },
   "outputs": [
    {
     "name": "stdout",
     "output_type": "stream",
     "text": [
      "              id  user_id session_date  mb_used\n",
      "19797    1090_28     1090   2018-05-26   695.44\n",
      "9636     1050_55     1050   2018-10-24     0.00\n",
      "88776   1408_495     1408   2018-12-06     0.00\n",
      "91564    1422_95     1422   2018-12-23     0.00\n",
      "82727    1386_42     1386   2018-12-28   214.66\n",
      "84300   1392_268     1392   2018-09-01     0.00\n",
      "20968   1097_206     1097   2018-12-13   476.24\n",
      "32025   1145_161     1145   2018-07-15   220.30\n",
      "12045   1059_149     1059   2018-05-06   202.93\n",
      "100455  1475_248     1475   2018-10-05   228.58\n"
     ]
    }
   ],
   "source": [
    "# Imprime una muestra de datos para el tráfico de internet\n",
    "\n",
    "print(internet.sample(10))"
   ]
  },
  {
   "cell_type": "markdown",
   "metadata": {
    "id": "EzOG5ik30q1D"
   },
   "source": [
    "[Describe lo que ves y observas en la información general y en la muestra de datos impresa para el precio de datos anterior. ¿Hay algún problema (tipos de datos no adecuados, datos ausentes, etc.) que pudieran necesitar investigación y cambios adicionales? ¿Cómo se puede arreglar?]\n",
    "\n",
    "No hay valores nulos y la columna 'session_date' debe ser del tipo de dato datetime"
   ]
  },
  {
   "cell_type": "markdown",
   "metadata": {},
   "source": [
    "<div class=\"alert alert-block alert-success\">\n",
    "<b>Comentario del revisor</b> <a class=“tocSkip”></a>\n",
    "¡Excelente trabajo hasta ahora! Has realizado un análisis detallado y bien estructurado de los datos. La limpieza de los mismos está clara y eficaz, además de que la transformación de las columnas a los tipos de datos correctos demuestra un buen dominio de las herramientas. ¡Sigue así! 💪✨\n",
    "</div>\n"
   ]
  },
  {
   "cell_type": "markdown",
   "metadata": {
    "id": "yA0tkPFg0q1D"
   },
   "source": [
    "### Corregir los datos"
   ]
  },
  {
   "cell_type": "markdown",
   "metadata": {
    "id": "zlZMuIEK0q1D"
   },
   "source": [
    "[Corrige los problemas obvios con los datos basándote en las observaciones iniciales.]"
   ]
  },
  {
   "cell_type": "code",
   "execution_count": 20,
   "metadata": {
    "id": "zVeanzdd0q1E"
   },
   "outputs": [
    {
     "name": "stdout",
     "output_type": "stream",
     "text": [
      "0\n"
     ]
    }
   ],
   "source": [
    "# Cambiar el tipo de dato a fecta en la columna correspondiente y verificar que no hayan duplicados\n",
    "\n",
    "internet['session_date'] = pd.to_datetime(internet['session_date'])\n",
    "\n",
    "print(internet.duplicated().sum())"
   ]
  },
  {
   "cell_type": "markdown",
   "metadata": {
    "id": "e8_mLF4a0q1E"
   },
   "source": [
    "### Enriquecer los datos"
   ]
  },
  {
   "cell_type": "markdown",
   "metadata": {
    "id": "xhNdn2tE0q1E"
   },
   "source": [
    "[Agrega factores adicionales a los datos si crees que pudieran ser útiles.]"
   ]
  },
  {
   "cell_type": "code",
   "execution_count": 21,
   "metadata": {
    "id": "ESiYPIEK0q1E"
   },
   "outputs": [
    {
     "name": "stdout",
     "output_type": "stream",
     "text": [
      "              id  user_id session_date  mb_used  month\n",
      "94697   1440_335     1440   2018-10-18   213.31     10\n",
      "76080   1358_190     1358   2018-08-09   512.62      8\n",
      "102447  1490_262     1490   2018-08-31   412.42      8\n",
      "96762     1455_5     1455   2018-11-29   557.29     11\n",
      "69650    1325_52     1325   2018-12-30   249.61     12\n"
     ]
    }
   ],
   "source": [
    "internet['month'] = internet['session_date'].dt.month\n",
    "\n",
    "print(internet.sample(5))"
   ]
  },
  {
   "cell_type": "markdown",
   "metadata": {
    "id": "3UA2cqIW0q1E"
   },
   "source": [
    "## Estudiar las condiciones de las tarifas"
   ]
  },
  {
   "cell_type": "markdown",
   "metadata": {
    "id": "T86Sqltq0q1F"
   },
   "source": [
    "[Es sumamente importante entender cómo funcionan las tarifas, cómo se les cobra a los usuarios en función de su plan de suscripción. Así que te sugerimos imprimir la información de la tarifa para ver una vez más sus condiciones.]"
   ]
  },
  {
   "cell_type": "code",
   "execution_count": 22,
   "metadata": {
    "id": "i409op8p0q1F"
   },
   "outputs": [
    {
     "name": "stdout",
     "output_type": "stream",
     "text": [
      "   messages_included  mb_per_month_included  minutes_included  \\\n",
      "0                 50                  15360               500   \n",
      "1               1000                  30720              3000   \n",
      "\n",
      "   usd_monthly_pay  usd_per_gb  usd_per_message  usd_per_minute plan_name  \n",
      "0               20          10             0.03            0.03      surf  \n",
      "1               70           7             0.01            0.01  ultimate  \n"
     ]
    }
   ],
   "source": [
    "# Imprime las condiciones de la tarifa y asegúrate de que te quedan claras\n",
    "\n",
    "print(plans.head())"
   ]
  },
  {
   "cell_type": "markdown",
   "metadata": {
    "id": "hMR1tP5d0q1F"
   },
   "source": [
    "## Agregar datos por usuario\n",
    "\n",
    "[Ahora que los datos están limpios, agrega los datos por usuario y por periodo para que solo haya un registro por usuario y por periodo. Esto facilitará mucho el análisis posterior.]"
   ]
  },
  {
   "cell_type": "code",
   "execution_count": 23,
   "metadata": {},
   "outputs": [
    {
     "name": "stdout",
     "output_type": "stream",
     "text": [
      "user_id  month\n",
      "1000     12       16\n",
      "1001     8        27\n",
      "         9        49\n",
      "         10       65\n",
      "         11       64\n",
      "                  ..\n",
      "1498     12       39\n",
      "1499     9        41\n",
      "         10       53\n",
      "         11       45\n",
      "         12       65\n",
      "Name: id, Length: 2258, dtype: int64\n"
     ]
    }
   ],
   "source": [
    "calls_by_user = calls.groupby(['user_id','month'])['id'].count()\n",
    "\n",
    "print(calls_by_user)"
   ]
  },
  {
   "cell_type": "code",
   "execution_count": 24,
   "metadata": {
    "id": "aw2cmuql0q1G"
   },
   "outputs": [
    {
     "name": "stdout",
     "output_type": "stream",
     "text": [
      "user_id  month\n",
      "1000     12       124\n",
      "1001     8        182\n",
      "         9        315\n",
      "         10       393\n",
      "         11       426\n",
      "                 ... \n",
      "1498     12       339\n",
      "1499     9        346\n",
      "         10       385\n",
      "         11       308\n",
      "         12       496\n",
      "Name: duration, Length: 2258, dtype: int64\n"
     ]
    }
   ],
   "source": [
    "# Calcula la cantidad de minutos usados por cada usuario al mes. Guarda el resultado.\n",
    "\n",
    "minutes_by_user = calls.groupby(['user_id','month'])['duration'].sum()\n",
    "\n",
    "print(minutes_by_user)"
   ]
  },
  {
   "cell_type": "code",
   "execution_count": 25,
   "metadata": {
    "id": "CcQvNHn60q1G"
   },
   "outputs": [
    {
     "name": "stdout",
     "output_type": "stream",
     "text": [
      "user_id  month\n",
      "1000     12       11\n",
      "1001     8        30\n",
      "         9        44\n",
      "         10       53\n",
      "         11       36\n",
      "                  ..\n",
      "1496     9        21\n",
      "         10       18\n",
      "         11       13\n",
      "         12       11\n",
      "1497     12       50\n",
      "Name: id, Length: 1806, dtype: int64\n"
     ]
    }
   ],
   "source": [
    "# Calcula el número de mensajes enviados por cada usuario al mes. Guarda el resultado.\n",
    "\n",
    "messages_number_by_user = messages.groupby(['user_id','month'])['id'].count()\n",
    "\n",
    "print(messages_number_by_user)"
   ]
  },
  {
   "cell_type": "code",
   "execution_count": 26,
   "metadata": {
    "id": "H1AqN2eG0q1H"
   },
   "outputs": [
    {
     "name": "stdout",
     "output_type": "stream",
     "text": [
      "user_id  month\n",
      "1000     12        1901.47\n",
      "1001     8         6919.15\n",
      "         9        13314.82\n",
      "         10       22330.49\n",
      "         11       18504.30\n",
      "                    ...   \n",
      "1498     12       23137.69\n",
      "1499     9        12984.76\n",
      "         10       19492.43\n",
      "         11       16813.83\n",
      "         12       22059.21\n",
      "Name: mb_used, Length: 2277, dtype: float64\n"
     ]
    }
   ],
   "source": [
    "# Calcula el volumen del tráfico de Internet usado por cada usuario al mes. Guarda el resultado.\n",
    "\n",
    "internet_volume_by_user = internet.groupby(['user_id','month'])['mb_used'].sum()\n",
    "\n",
    "print(internet_volume_by_user)"
   ]
  },
  {
   "cell_type": "markdown",
   "metadata": {
    "id": "VDfYXnj80q1H"
   },
   "source": [
    "[Junta los datos agregados en un DataFrame para que haya un registro que represente lo que consumió un usuario único en un mes determinado.]"
   ]
  },
  {
   "cell_type": "code",
   "execution_count": 27,
   "metadata": {
    "id": "FW99ykyf0q1H"
   },
   "outputs": [
    {
     "name": "stdout",
     "output_type": "stream",
     "text": [
      "               calls_by_user  minutes_by_user  messages_number_by_user  \\\n",
      "user_id month                                                            \n",
      "1000    12              16.0            124.0                     11.0   \n",
      "1001    8               27.0            182.0                     30.0   \n",
      "        9               49.0            315.0                     44.0   \n",
      "        10              65.0            393.0                     53.0   \n",
      "        11              64.0            426.0                     36.0   \n",
      "...                      ...              ...                      ...   \n",
      "1498    12              39.0            339.0                      0.0   \n",
      "1499    9               41.0            346.0                      0.0   \n",
      "        10              53.0            385.0                      0.0   \n",
      "        11              45.0            308.0                      0.0   \n",
      "        12              65.0            496.0                      0.0   \n",
      "\n",
      "               internet_volume_mb_by_user  \n",
      "user_id month                              \n",
      "1000    12                        1901.47  \n",
      "1001    8                         6919.15  \n",
      "        9                        13314.82  \n",
      "        10                       22330.49  \n",
      "        11                       18504.30  \n",
      "...                                   ...  \n",
      "1498    12                       23137.69  \n",
      "1499    9                        12984.76  \n",
      "        10                       19492.43  \n",
      "        11                       16813.83  \n",
      "        12                       22059.21  \n",
      "\n",
      "[2293 rows x 4 columns]\n"
     ]
    }
   ],
   "source": [
    "# Fusiona los datos de llamadas, minutos, mensajes e Internet con base en user_id y month\n",
    "\n",
    "fusion_dfs = pd.concat([calls_by_user,minutes_by_user,messages_number_by_user,internet_volume_by_user], axis = 'columns')\n",
    "\n",
    "fusion_dfs.columns = ['calls_by_user','minutes_by_user','messages_number_by_user','internet_volume_mb_by_user']\n",
    "\n",
    "# Reemplazar los valors NaN por 0\n",
    "fusion_dfs[['calls_by_user','minutes_by_user','messages_number_by_user','internet_volume_mb_by_user']] = fusion_dfs[['calls_by_user','minutes_by_user','messages_number_by_user','internet_volume_mb_by_user']].fillna(0)\n",
    "\n",
    "\n",
    "print(fusion_dfs)"
   ]
  },
  {
   "cell_type": "code",
   "execution_count": 28,
   "metadata": {},
   "outputs": [
    {
     "name": "stdout",
     "output_type": "stream",
     "text": [
      "      user_id  month  calls_by_user  minutes_by_user  messages_number_by_user  \\\n",
      "0        1000     12           16.0            124.0                     11.0   \n",
      "1        1001      8           27.0            182.0                     30.0   \n",
      "2        1001      9           49.0            315.0                     44.0   \n",
      "3        1001     10           65.0            393.0                     53.0   \n",
      "4        1001     11           64.0            426.0                     36.0   \n",
      "...       ...    ...            ...              ...                      ...   \n",
      "2288     1498     12           39.0            339.0                      0.0   \n",
      "2289     1499      9           41.0            346.0                      0.0   \n",
      "2290     1499     10           53.0            385.0                      0.0   \n",
      "2291     1499     11           45.0            308.0                      0.0   \n",
      "2292     1499     12           65.0            496.0                      0.0   \n",
      "\n",
      "      internet_volume_mb_by_user  \n",
      "0                        1901.47  \n",
      "1                        6919.15  \n",
      "2                       13314.82  \n",
      "3                       22330.49  \n",
      "4                       18504.30  \n",
      "...                          ...  \n",
      "2288                    23137.69  \n",
      "2289                    12984.76  \n",
      "2290                    19492.43  \n",
      "2291                    16813.83  \n",
      "2292                    22059.21  \n",
      "\n",
      "[2293 rows x 6 columns]\n"
     ]
    }
   ],
   "source": [
    "# Resetee los indices\n",
    "\n",
    "fusion_dfs = fusion_dfs.reset_index()\n",
    "\n",
    "print(fusion_dfs)"
   ]
  },
  {
   "cell_type": "code",
   "execution_count": 29,
   "metadata": {
    "id": "0dNOXHag0q1H"
   },
   "outputs": [
    {
     "data": {
      "text/html": [
       "<div>\n",
       "<style scoped>\n",
       "    .dataframe tbody tr th:only-of-type {\n",
       "        vertical-align: middle;\n",
       "    }\n",
       "\n",
       "    .dataframe tbody tr th {\n",
       "        vertical-align: top;\n",
       "    }\n",
       "\n",
       "    .dataframe thead th {\n",
       "        text-align: right;\n",
       "    }\n",
       "</style>\n",
       "<table border=\"1\" class=\"dataframe\">\n",
       "  <thead>\n",
       "    <tr style=\"text-align: right;\">\n",
       "      <th></th>\n",
       "      <th>user_id</th>\n",
       "      <th>month</th>\n",
       "      <th>calls_by_user</th>\n",
       "      <th>minutes_by_user</th>\n",
       "      <th>messages_number_by_user</th>\n",
       "      <th>internet_volume_mb_by_user</th>\n",
       "      <th>city</th>\n",
       "      <th>plan_name</th>\n",
       "      <th>messages_included</th>\n",
       "      <th>mb_per_month_included</th>\n",
       "      <th>minutes_included</th>\n",
       "      <th>usd_monthly_pay</th>\n",
       "      <th>usd_per_gb</th>\n",
       "      <th>usd_per_message</th>\n",
       "      <th>usd_per_minute</th>\n",
       "    </tr>\n",
       "  </thead>\n",
       "  <tbody>\n",
       "    <tr>\n",
       "      <th>0</th>\n",
       "      <td>1000</td>\n",
       "      <td>12</td>\n",
       "      <td>16.0</td>\n",
       "      <td>124.0</td>\n",
       "      <td>11.0</td>\n",
       "      <td>1901.47</td>\n",
       "      <td>atlanta-sandy springs-roswell, ga msa</td>\n",
       "      <td>ultimate</td>\n",
       "      <td>1000</td>\n",
       "      <td>30720</td>\n",
       "      <td>3000</td>\n",
       "      <td>70</td>\n",
       "      <td>7</td>\n",
       "      <td>0.01</td>\n",
       "      <td>0.01</td>\n",
       "    </tr>\n",
       "    <tr>\n",
       "      <th>1</th>\n",
       "      <td>1001</td>\n",
       "      <td>8</td>\n",
       "      <td>27.0</td>\n",
       "      <td>182.0</td>\n",
       "      <td>30.0</td>\n",
       "      <td>6919.15</td>\n",
       "      <td>seattle-tacoma-bellevue, wa msa</td>\n",
       "      <td>surf</td>\n",
       "      <td>50</td>\n",
       "      <td>15360</td>\n",
       "      <td>500</td>\n",
       "      <td>20</td>\n",
       "      <td>10</td>\n",
       "      <td>0.03</td>\n",
       "      <td>0.03</td>\n",
       "    </tr>\n",
       "    <tr>\n",
       "      <th>2</th>\n",
       "      <td>1001</td>\n",
       "      <td>9</td>\n",
       "      <td>49.0</td>\n",
       "      <td>315.0</td>\n",
       "      <td>44.0</td>\n",
       "      <td>13314.82</td>\n",
       "      <td>seattle-tacoma-bellevue, wa msa</td>\n",
       "      <td>surf</td>\n",
       "      <td>50</td>\n",
       "      <td>15360</td>\n",
       "      <td>500</td>\n",
       "      <td>20</td>\n",
       "      <td>10</td>\n",
       "      <td>0.03</td>\n",
       "      <td>0.03</td>\n",
       "    </tr>\n",
       "    <tr>\n",
       "      <th>3</th>\n",
       "      <td>1001</td>\n",
       "      <td>10</td>\n",
       "      <td>65.0</td>\n",
       "      <td>393.0</td>\n",
       "      <td>53.0</td>\n",
       "      <td>22330.49</td>\n",
       "      <td>seattle-tacoma-bellevue, wa msa</td>\n",
       "      <td>surf</td>\n",
       "      <td>50</td>\n",
       "      <td>15360</td>\n",
       "      <td>500</td>\n",
       "      <td>20</td>\n",
       "      <td>10</td>\n",
       "      <td>0.03</td>\n",
       "      <td>0.03</td>\n",
       "    </tr>\n",
       "    <tr>\n",
       "      <th>4</th>\n",
       "      <td>1001</td>\n",
       "      <td>11</td>\n",
       "      <td>64.0</td>\n",
       "      <td>426.0</td>\n",
       "      <td>36.0</td>\n",
       "      <td>18504.30</td>\n",
       "      <td>seattle-tacoma-bellevue, wa msa</td>\n",
       "      <td>surf</td>\n",
       "      <td>50</td>\n",
       "      <td>15360</td>\n",
       "      <td>500</td>\n",
       "      <td>20</td>\n",
       "      <td>10</td>\n",
       "      <td>0.03</td>\n",
       "      <td>0.03</td>\n",
       "    </tr>\n",
       "    <tr>\n",
       "      <th>...</th>\n",
       "      <td>...</td>\n",
       "      <td>...</td>\n",
       "      <td>...</td>\n",
       "      <td>...</td>\n",
       "      <td>...</td>\n",
       "      <td>...</td>\n",
       "      <td>...</td>\n",
       "      <td>...</td>\n",
       "      <td>...</td>\n",
       "      <td>...</td>\n",
       "      <td>...</td>\n",
       "      <td>...</td>\n",
       "      <td>...</td>\n",
       "      <td>...</td>\n",
       "      <td>...</td>\n",
       "    </tr>\n",
       "    <tr>\n",
       "      <th>2288</th>\n",
       "      <td>1498</td>\n",
       "      <td>12</td>\n",
       "      <td>39.0</td>\n",
       "      <td>339.0</td>\n",
       "      <td>0.0</td>\n",
       "      <td>23137.69</td>\n",
       "      <td>new york-newark-jersey city, ny-nj-pa msa</td>\n",
       "      <td>surf</td>\n",
       "      <td>50</td>\n",
       "      <td>15360</td>\n",
       "      <td>500</td>\n",
       "      <td>20</td>\n",
       "      <td>10</td>\n",
       "      <td>0.03</td>\n",
       "      <td>0.03</td>\n",
       "    </tr>\n",
       "    <tr>\n",
       "      <th>2289</th>\n",
       "      <td>1499</td>\n",
       "      <td>9</td>\n",
       "      <td>41.0</td>\n",
       "      <td>346.0</td>\n",
       "      <td>0.0</td>\n",
       "      <td>12984.76</td>\n",
       "      <td>orlando-kissimmee-sanford, fl msa</td>\n",
       "      <td>surf</td>\n",
       "      <td>50</td>\n",
       "      <td>15360</td>\n",
       "      <td>500</td>\n",
       "      <td>20</td>\n",
       "      <td>10</td>\n",
       "      <td>0.03</td>\n",
       "      <td>0.03</td>\n",
       "    </tr>\n",
       "    <tr>\n",
       "      <th>2290</th>\n",
       "      <td>1499</td>\n",
       "      <td>10</td>\n",
       "      <td>53.0</td>\n",
       "      <td>385.0</td>\n",
       "      <td>0.0</td>\n",
       "      <td>19492.43</td>\n",
       "      <td>orlando-kissimmee-sanford, fl msa</td>\n",
       "      <td>surf</td>\n",
       "      <td>50</td>\n",
       "      <td>15360</td>\n",
       "      <td>500</td>\n",
       "      <td>20</td>\n",
       "      <td>10</td>\n",
       "      <td>0.03</td>\n",
       "      <td>0.03</td>\n",
       "    </tr>\n",
       "    <tr>\n",
       "      <th>2291</th>\n",
       "      <td>1499</td>\n",
       "      <td>11</td>\n",
       "      <td>45.0</td>\n",
       "      <td>308.0</td>\n",
       "      <td>0.0</td>\n",
       "      <td>16813.83</td>\n",
       "      <td>orlando-kissimmee-sanford, fl msa</td>\n",
       "      <td>surf</td>\n",
       "      <td>50</td>\n",
       "      <td>15360</td>\n",
       "      <td>500</td>\n",
       "      <td>20</td>\n",
       "      <td>10</td>\n",
       "      <td>0.03</td>\n",
       "      <td>0.03</td>\n",
       "    </tr>\n",
       "    <tr>\n",
       "      <th>2292</th>\n",
       "      <td>1499</td>\n",
       "      <td>12</td>\n",
       "      <td>65.0</td>\n",
       "      <td>496.0</td>\n",
       "      <td>0.0</td>\n",
       "      <td>22059.21</td>\n",
       "      <td>orlando-kissimmee-sanford, fl msa</td>\n",
       "      <td>surf</td>\n",
       "      <td>50</td>\n",
       "      <td>15360</td>\n",
       "      <td>500</td>\n",
       "      <td>20</td>\n",
       "      <td>10</td>\n",
       "      <td>0.03</td>\n",
       "      <td>0.03</td>\n",
       "    </tr>\n",
       "  </tbody>\n",
       "</table>\n",
       "<p>2293 rows × 15 columns</p>\n",
       "</div>"
      ],
      "text/plain": [
       "      user_id  month  calls_by_user  minutes_by_user  messages_number_by_user  \\\n",
       "0        1000     12           16.0            124.0                     11.0   \n",
       "1        1001      8           27.0            182.0                     30.0   \n",
       "2        1001      9           49.0            315.0                     44.0   \n",
       "3        1001     10           65.0            393.0                     53.0   \n",
       "4        1001     11           64.0            426.0                     36.0   \n",
       "...       ...    ...            ...              ...                      ...   \n",
       "2288     1498     12           39.0            339.0                      0.0   \n",
       "2289     1499      9           41.0            346.0                      0.0   \n",
       "2290     1499     10           53.0            385.0                      0.0   \n",
       "2291     1499     11           45.0            308.0                      0.0   \n",
       "2292     1499     12           65.0            496.0                      0.0   \n",
       "\n",
       "      internet_volume_mb_by_user                                       city  \\\n",
       "0                        1901.47      atlanta-sandy springs-roswell, ga msa   \n",
       "1                        6919.15            seattle-tacoma-bellevue, wa msa   \n",
       "2                       13314.82            seattle-tacoma-bellevue, wa msa   \n",
       "3                       22330.49            seattle-tacoma-bellevue, wa msa   \n",
       "4                       18504.30            seattle-tacoma-bellevue, wa msa   \n",
       "...                          ...                                        ...   \n",
       "2288                    23137.69  new york-newark-jersey city, ny-nj-pa msa   \n",
       "2289                    12984.76          orlando-kissimmee-sanford, fl msa   \n",
       "2290                    19492.43          orlando-kissimmee-sanford, fl msa   \n",
       "2291                    16813.83          orlando-kissimmee-sanford, fl msa   \n",
       "2292                    22059.21          orlando-kissimmee-sanford, fl msa   \n",
       "\n",
       "     plan_name  messages_included  mb_per_month_included  minutes_included  \\\n",
       "0     ultimate               1000                  30720              3000   \n",
       "1         surf                 50                  15360               500   \n",
       "2         surf                 50                  15360               500   \n",
       "3         surf                 50                  15360               500   \n",
       "4         surf                 50                  15360               500   \n",
       "...        ...                ...                    ...               ...   \n",
       "2288      surf                 50                  15360               500   \n",
       "2289      surf                 50                  15360               500   \n",
       "2290      surf                 50                  15360               500   \n",
       "2291      surf                 50                  15360               500   \n",
       "2292      surf                 50                  15360               500   \n",
       "\n",
       "      usd_monthly_pay  usd_per_gb  usd_per_message  usd_per_minute  \n",
       "0                  70           7             0.01            0.01  \n",
       "1                  20          10             0.03            0.03  \n",
       "2                  20          10             0.03            0.03  \n",
       "3                  20          10             0.03            0.03  \n",
       "4                  20          10             0.03            0.03  \n",
       "...               ...         ...              ...             ...  \n",
       "2288               20          10             0.03            0.03  \n",
       "2289               20          10             0.03            0.03  \n",
       "2290               20          10             0.03            0.03  \n",
       "2291               20          10             0.03            0.03  \n",
       "2292               20          10             0.03            0.03  \n",
       "\n",
       "[2293 rows x 15 columns]"
      ]
     },
     "execution_count": 29,
     "metadata": {},
     "output_type": "execute_result"
    }
   ],
   "source": [
    "# Añade la información de la tarifa\n",
    "\n",
    "fusion_dfs_plan = fusion_dfs.merge(users, on = 'user_id', how='left')\n",
    "fusion_dfs_plan.drop(['first_name', 'last_name','age','reg_date','churn_date'], axis=1, inplace=True)\n",
    "fusion_dfs_plan.rename(columns={'plan': 'plan_name'}, inplace=True)\n",
    "fusion_dfs_plans = fusion_dfs_plan.merge(plans, on = 'plan_name', how='left')\n",
    "\n",
    "fusion_dfs_plans"
   ]
  },
  {
   "cell_type": "markdown",
   "metadata": {
    "id": "1IwGo4wg0q1I"
   },
   "source": [
    "[Calcula los ingresos mensuales por usuario (resta el límite del paquete gratuito del número total de llamadas, mensajes de texto y datos; multiplica el resultado por el valor del plan de llamadas; añade la tarifa mensual en función del plan de llamadas). Nota: Dadas las condiciones del plan, ¡esto podría no ser tan trivial como un par de líneas! Así que no pasa nada si dedicas algo de tiempo a ello.]"
   ]
  },
  {
   "cell_type": "code",
   "execution_count": 30,
   "metadata": {
    "id": "5FGCf_c60q1I"
   },
   "outputs": [
    {
     "data": {
      "text/html": [
       "<div>\n",
       "<style scoped>\n",
       "    .dataframe tbody tr th:only-of-type {\n",
       "        vertical-align: middle;\n",
       "    }\n",
       "\n",
       "    .dataframe tbody tr th {\n",
       "        vertical-align: top;\n",
       "    }\n",
       "\n",
       "    .dataframe thead th {\n",
       "        text-align: right;\n",
       "    }\n",
       "</style>\n",
       "<table border=\"1\" class=\"dataframe\">\n",
       "  <thead>\n",
       "    <tr style=\"text-align: right;\">\n",
       "      <th></th>\n",
       "      <th>user_id</th>\n",
       "      <th>month</th>\n",
       "      <th>calls_by_user</th>\n",
       "      <th>minutes_by_user</th>\n",
       "      <th>messages_number_by_user</th>\n",
       "      <th>internet_volume_mb_by_user</th>\n",
       "      <th>city</th>\n",
       "      <th>plan_name</th>\n",
       "      <th>messages_included</th>\n",
       "      <th>mb_per_month_included</th>\n",
       "      <th>...</th>\n",
       "      <th>excess_messages</th>\n",
       "      <th>excess_datos</th>\n",
       "      <th>extra_calls</th>\n",
       "      <th>extra_messages</th>\n",
       "      <th>extra_datos_gb</th>\n",
       "      <th>extra_call_income</th>\n",
       "      <th>extra_messages_income</th>\n",
       "      <th>extra_datos_income</th>\n",
       "      <th>monthly_payment_with_calls</th>\n",
       "      <th>monthly_payment_with_extras</th>\n",
       "    </tr>\n",
       "  </thead>\n",
       "  <tbody>\n",
       "    <tr>\n",
       "      <th>1195</th>\n",
       "      <td>1253</td>\n",
       "      <td>11</td>\n",
       "      <td>17.0</td>\n",
       "      <td>130.0</td>\n",
       "      <td>25.0</td>\n",
       "      <td>13641.06</td>\n",
       "      <td>cleveland-elyria, oh msa</td>\n",
       "      <td>ultimate</td>\n",
       "      <td>1000</td>\n",
       "      <td>30720</td>\n",
       "      <td>...</td>\n",
       "      <td>975.0</td>\n",
       "      <td>17078.94</td>\n",
       "      <td>0.0</td>\n",
       "      <td>0.0</td>\n",
       "      <td>0.0</td>\n",
       "      <td>0.00</td>\n",
       "      <td>0.00</td>\n",
       "      <td>0.0</td>\n",
       "      <td>70.00</td>\n",
       "      <td>70.00</td>\n",
       "    </tr>\n",
       "    <tr>\n",
       "      <th>1680</th>\n",
       "      <td>1362</td>\n",
       "      <td>5</td>\n",
       "      <td>88.0</td>\n",
       "      <td>594.0</td>\n",
       "      <td>65.0</td>\n",
       "      <td>13929.71</td>\n",
       "      <td>denver-aurora-lakewood, co msa</td>\n",
       "      <td>surf</td>\n",
       "      <td>50</td>\n",
       "      <td>15360</td>\n",
       "      <td>...</td>\n",
       "      <td>-15.0</td>\n",
       "      <td>1430.29</td>\n",
       "      <td>94.0</td>\n",
       "      <td>15.0</td>\n",
       "      <td>0.0</td>\n",
       "      <td>2.82</td>\n",
       "      <td>0.45</td>\n",
       "      <td>0.0</td>\n",
       "      <td>22.82</td>\n",
       "      <td>23.27</td>\n",
       "    </tr>\n",
       "    <tr>\n",
       "      <th>110</th>\n",
       "      <td>1030</td>\n",
       "      <td>10</td>\n",
       "      <td>75.0</td>\n",
       "      <td>469.0</td>\n",
       "      <td>9.0</td>\n",
       "      <td>11302.29</td>\n",
       "      <td>chicago-naperville-elgin, il-in-wi msa</td>\n",
       "      <td>ultimate</td>\n",
       "      <td>1000</td>\n",
       "      <td>30720</td>\n",
       "      <td>...</td>\n",
       "      <td>991.0</td>\n",
       "      <td>19417.71</td>\n",
       "      <td>0.0</td>\n",
       "      <td>0.0</td>\n",
       "      <td>0.0</td>\n",
       "      <td>0.00</td>\n",
       "      <td>0.00</td>\n",
       "      <td>0.0</td>\n",
       "      <td>70.00</td>\n",
       "      <td>70.00</td>\n",
       "    </tr>\n",
       "    <tr>\n",
       "      <th>1231</th>\n",
       "      <td>1259</td>\n",
       "      <td>8</td>\n",
       "      <td>24.0</td>\n",
       "      <td>199.0</td>\n",
       "      <td>36.0</td>\n",
       "      <td>2520.61</td>\n",
       "      <td>philadelphia-camden-wilmington, pa-nj-de-md msa</td>\n",
       "      <td>surf</td>\n",
       "      <td>50</td>\n",
       "      <td>15360</td>\n",
       "      <td>...</td>\n",
       "      <td>14.0</td>\n",
       "      <td>12839.39</td>\n",
       "      <td>0.0</td>\n",
       "      <td>0.0</td>\n",
       "      <td>0.0</td>\n",
       "      <td>0.00</td>\n",
       "      <td>0.00</td>\n",
       "      <td>0.0</td>\n",
       "      <td>20.00</td>\n",
       "      <td>20.00</td>\n",
       "    </tr>\n",
       "    <tr>\n",
       "      <th>828</th>\n",
       "      <td>1172</td>\n",
       "      <td>10</td>\n",
       "      <td>76.0</td>\n",
       "      <td>517.0</td>\n",
       "      <td>118.0</td>\n",
       "      <td>35075.21</td>\n",
       "      <td>boston-cambridge-newton, ma-nh msa</td>\n",
       "      <td>surf</td>\n",
       "      <td>50</td>\n",
       "      <td>15360</td>\n",
       "      <td>...</td>\n",
       "      <td>-68.0</td>\n",
       "      <td>-19715.21</td>\n",
       "      <td>17.0</td>\n",
       "      <td>68.0</td>\n",
       "      <td>20.0</td>\n",
       "      <td>0.51</td>\n",
       "      <td>2.04</td>\n",
       "      <td>200.0</td>\n",
       "      <td>20.51</td>\n",
       "      <td>222.55</td>\n",
       "    </tr>\n",
       "    <tr>\n",
       "      <th>61</th>\n",
       "      <td>1016</td>\n",
       "      <td>12</td>\n",
       "      <td>109.0</td>\n",
       "      <td>837.0</td>\n",
       "      <td>38.0</td>\n",
       "      <td>28188.01</td>\n",
       "      <td>fresno, ca msa</td>\n",
       "      <td>surf</td>\n",
       "      <td>50</td>\n",
       "      <td>15360</td>\n",
       "      <td>...</td>\n",
       "      <td>12.0</td>\n",
       "      <td>-12828.01</td>\n",
       "      <td>337.0</td>\n",
       "      <td>0.0</td>\n",
       "      <td>13.0</td>\n",
       "      <td>10.11</td>\n",
       "      <td>0.00</td>\n",
       "      <td>130.0</td>\n",
       "      <td>30.11</td>\n",
       "      <td>160.11</td>\n",
       "    </tr>\n",
       "    <tr>\n",
       "      <th>1208</th>\n",
       "      <td>1256</td>\n",
       "      <td>10</td>\n",
       "      <td>80.0</td>\n",
       "      <td>531.0</td>\n",
       "      <td>20.0</td>\n",
       "      <td>10774.25</td>\n",
       "      <td>chicago-naperville-elgin, il-in-wi msa</td>\n",
       "      <td>surf</td>\n",
       "      <td>50</td>\n",
       "      <td>15360</td>\n",
       "      <td>...</td>\n",
       "      <td>30.0</td>\n",
       "      <td>4585.75</td>\n",
       "      <td>31.0</td>\n",
       "      <td>0.0</td>\n",
       "      <td>0.0</td>\n",
       "      <td>0.93</td>\n",
       "      <td>0.00</td>\n",
       "      <td>0.0</td>\n",
       "      <td>20.93</td>\n",
       "      <td>20.93</td>\n",
       "    </tr>\n",
       "    <tr>\n",
       "      <th>492</th>\n",
       "      <td>1103</td>\n",
       "      <td>12</td>\n",
       "      <td>53.0</td>\n",
       "      <td>397.0</td>\n",
       "      <td>36.0</td>\n",
       "      <td>18351.86</td>\n",
       "      <td>seattle-tacoma-bellevue, wa msa</td>\n",
       "      <td>surf</td>\n",
       "      <td>50</td>\n",
       "      <td>15360</td>\n",
       "      <td>...</td>\n",
       "      <td>14.0</td>\n",
       "      <td>-2991.86</td>\n",
       "      <td>0.0</td>\n",
       "      <td>0.0</td>\n",
       "      <td>3.0</td>\n",
       "      <td>0.00</td>\n",
       "      <td>0.00</td>\n",
       "      <td>30.0</td>\n",
       "      <td>20.00</td>\n",
       "      <td>50.00</td>\n",
       "    </tr>\n",
       "    <tr>\n",
       "      <th>1122</th>\n",
       "      <td>1238</td>\n",
       "      <td>12</td>\n",
       "      <td>76.0</td>\n",
       "      <td>514.0</td>\n",
       "      <td>0.0</td>\n",
       "      <td>22777.73</td>\n",
       "      <td>dallas-fort worth-arlington, tx msa</td>\n",
       "      <td>surf</td>\n",
       "      <td>50</td>\n",
       "      <td>15360</td>\n",
       "      <td>...</td>\n",
       "      <td>50.0</td>\n",
       "      <td>-7417.73</td>\n",
       "      <td>14.0</td>\n",
       "      <td>0.0</td>\n",
       "      <td>8.0</td>\n",
       "      <td>0.42</td>\n",
       "      <td>0.00</td>\n",
       "      <td>80.0</td>\n",
       "      <td>20.42</td>\n",
       "      <td>100.42</td>\n",
       "    </tr>\n",
       "    <tr>\n",
       "      <th>2078</th>\n",
       "      <td>1448</td>\n",
       "      <td>11</td>\n",
       "      <td>36.0</td>\n",
       "      <td>238.0</td>\n",
       "      <td>55.0</td>\n",
       "      <td>12481.52</td>\n",
       "      <td>urban honolulu, hi msa</td>\n",
       "      <td>surf</td>\n",
       "      <td>50</td>\n",
       "      <td>15360</td>\n",
       "      <td>...</td>\n",
       "      <td>-5.0</td>\n",
       "      <td>2878.48</td>\n",
       "      <td>0.0</td>\n",
       "      <td>5.0</td>\n",
       "      <td>0.0</td>\n",
       "      <td>0.00</td>\n",
       "      <td>0.15</td>\n",
       "      <td>0.0</td>\n",
       "      <td>20.00</td>\n",
       "      <td>20.15</td>\n",
       "    </tr>\n",
       "  </tbody>\n",
       "</table>\n",
       "<p>10 rows × 26 columns</p>\n",
       "</div>"
      ],
      "text/plain": [
       "      user_id  month  calls_by_user  minutes_by_user  messages_number_by_user  \\\n",
       "1195     1253     11           17.0            130.0                     25.0   \n",
       "1680     1362      5           88.0            594.0                     65.0   \n",
       "110      1030     10           75.0            469.0                      9.0   \n",
       "1231     1259      8           24.0            199.0                     36.0   \n",
       "828      1172     10           76.0            517.0                    118.0   \n",
       "61       1016     12          109.0            837.0                     38.0   \n",
       "1208     1256     10           80.0            531.0                     20.0   \n",
       "492      1103     12           53.0            397.0                     36.0   \n",
       "1122     1238     12           76.0            514.0                      0.0   \n",
       "2078     1448     11           36.0            238.0                     55.0   \n",
       "\n",
       "      internet_volume_mb_by_user  \\\n",
       "1195                    13641.06   \n",
       "1680                    13929.71   \n",
       "110                     11302.29   \n",
       "1231                     2520.61   \n",
       "828                     35075.21   \n",
       "61                      28188.01   \n",
       "1208                    10774.25   \n",
       "492                     18351.86   \n",
       "1122                    22777.73   \n",
       "2078                    12481.52   \n",
       "\n",
       "                                                 city plan_name  \\\n",
       "1195                         cleveland-elyria, oh msa  ultimate   \n",
       "1680                   denver-aurora-lakewood, co msa      surf   \n",
       "110            chicago-naperville-elgin, il-in-wi msa  ultimate   \n",
       "1231  philadelphia-camden-wilmington, pa-nj-de-md msa      surf   \n",
       "828                boston-cambridge-newton, ma-nh msa      surf   \n",
       "61                                     fresno, ca msa      surf   \n",
       "1208           chicago-naperville-elgin, il-in-wi msa      surf   \n",
       "492                   seattle-tacoma-bellevue, wa msa      surf   \n",
       "1122              dallas-fort worth-arlington, tx msa      surf   \n",
       "2078                           urban honolulu, hi msa      surf   \n",
       "\n",
       "      messages_included  mb_per_month_included  ...  excess_messages  \\\n",
       "1195               1000                  30720  ...            975.0   \n",
       "1680                 50                  15360  ...            -15.0   \n",
       "110                1000                  30720  ...            991.0   \n",
       "1231                 50                  15360  ...             14.0   \n",
       "828                  50                  15360  ...            -68.0   \n",
       "61                   50                  15360  ...             12.0   \n",
       "1208                 50                  15360  ...             30.0   \n",
       "492                  50                  15360  ...             14.0   \n",
       "1122                 50                  15360  ...             50.0   \n",
       "2078                 50                  15360  ...             -5.0   \n",
       "\n",
       "      excess_datos  extra_calls  extra_messages  extra_datos_gb  \\\n",
       "1195      17078.94          0.0             0.0             0.0   \n",
       "1680       1430.29         94.0            15.0             0.0   \n",
       "110       19417.71          0.0             0.0             0.0   \n",
       "1231      12839.39          0.0             0.0             0.0   \n",
       "828      -19715.21         17.0            68.0            20.0   \n",
       "61       -12828.01        337.0             0.0            13.0   \n",
       "1208       4585.75         31.0             0.0             0.0   \n",
       "492       -2991.86          0.0             0.0             3.0   \n",
       "1122      -7417.73         14.0             0.0             8.0   \n",
       "2078       2878.48          0.0             5.0             0.0   \n",
       "\n",
       "      extra_call_income  extra_messages_income  extra_datos_income  \\\n",
       "1195               0.00                   0.00                 0.0   \n",
       "1680               2.82                   0.45                 0.0   \n",
       "110                0.00                   0.00                 0.0   \n",
       "1231               0.00                   0.00                 0.0   \n",
       "828                0.51                   2.04               200.0   \n",
       "61                10.11                   0.00               130.0   \n",
       "1208               0.93                   0.00                 0.0   \n",
       "492                0.00                   0.00                30.0   \n",
       "1122               0.42                   0.00                80.0   \n",
       "2078               0.00                   0.15                 0.0   \n",
       "\n",
       "      monthly_payment_with_calls  monthly_payment_with_extras  \n",
       "1195                       70.00                        70.00  \n",
       "1680                       22.82                        23.27  \n",
       "110                        70.00                        70.00  \n",
       "1231                       20.00                        20.00  \n",
       "828                        20.51                       222.55  \n",
       "61                         30.11                       160.11  \n",
       "1208                       20.93                        20.93  \n",
       "492                        20.00                        50.00  \n",
       "1122                       20.42                       100.42  \n",
       "2078                       20.00                        20.15  \n",
       "\n",
       "[10 rows x 26 columns]"
      ]
     },
     "execution_count": 30,
     "metadata": {},
     "output_type": "execute_result"
    }
   ],
   "source": [
    "# Calcula el ingreso mensual para cada usuario\n",
    "\n",
    "# Si algun valor es negativos, quiere decir que excedio el limite de su paquete\n",
    "fusion_dfs_plans['excess_calls'] = fusion_dfs_plans['minutes_included'] - fusion_dfs_plans['minutes_by_user']\n",
    "fusion_dfs_plans['excess_messages'] = fusion_dfs_plans['messages_included'] - fusion_dfs_plans['messages_number_by_user']\n",
    "fusion_dfs_plans['excess_datos'] = fusion_dfs_plans['mb_per_month_included'] - fusion_dfs_plans['internet_volume_mb_by_user']\n",
    "\n",
    "# Los numeros negativos los cambiamos a positivos\n",
    "fusion_dfs_plans['extra_calls'] = fusion_dfs_plans['excess_calls'].abs() * (fusion_dfs_plans['excess_calls'] < 0)\n",
    "fusion_dfs_plans['extra_messages'] = fusion_dfs_plans['excess_messages'].abs() * (fusion_dfs_plans['excess_messages'] < 0)\n",
    "fusion_dfs_plans['extra_datos_gb'] = np.ceil((fusion_dfs_plans['excess_datos']/1024).abs() * (fusion_dfs_plans['excess_datos'] < 0))\n",
    "\n",
    "\n",
    "# Multiplicamos la columna extra_ por usd_per_ para saber cual es el extra que pagara cada persona\n",
    "fusion_dfs_plans['extra_call_income'] = fusion_dfs_plans['extra_calls'] * fusion_dfs_plans['usd_per_minute']\n",
    "fusion_dfs_plans['extra_messages_income'] = fusion_dfs_plans['extra_messages'] * fusion_dfs_plans['usd_per_message']\n",
    "fusion_dfs_plans['extra_datos_income'] = fusion_dfs_plans['extra_datos_gb'] * fusion_dfs_plans['usd_per_gb']\n",
    "\n",
    "# Pago mensual más llamadas extras\n",
    "fusion_dfs_plans['monthly_payment_with_calls'] = fusion_dfs_plans['usd_monthly_pay'] + fusion_dfs_plans['extra_call_income']\n",
    "\n",
    "# Total a pagar incluyendo los extras\n",
    "fusion_dfs_plans['monthly_payment_with_extras'] = fusion_dfs_plans['usd_monthly_pay'] + fusion_dfs_plans['extra_call_income'] + fusion_dfs_plans['extra_messages_income'] + fusion_dfs_plans['extra_datos_income']\n",
    "\n",
    "\n",
    "\n",
    "fusion_dfs_plans.sample(10)"
   ]
  },
  {
   "cell_type": "markdown",
   "metadata": {
    "id": "-jtyHzJb0q1I"
   },
   "source": [
    "## Estudia el comportamiento de usuario"
   ]
  },
  {
   "cell_type": "markdown",
   "metadata": {
    "id": "AxU3Y0N70q1J"
   },
   "source": [
    "[Calcula algunas estadísticas descriptivas para los datos agregados y fusionados que nos sean útiles y que muestren un panorama general captado por los datos. Dibuja gráficos útiles para facilitar la comprensión. Dado que la tarea principal es comparar las tarifas y decidir cuál es más rentable, las estadísticas y gráficas deben calcularse por tarifa.]\n",
    "\n",
    "[En los comentarios hallarás pistas relevantes para las llamadas, pero no las hay para los mensajes e Internet. Sin embargo, el principio del estudio estadístico que se aplica para ellos es el mismo que para las llamadas.]"
   ]
  },
  {
   "cell_type": "markdown",
   "metadata": {
    "id": "vtW4CJEe0q1J"
   },
   "source": [
    "### Llamadas"
   ]
  },
  {
   "cell_type": "code",
   "execution_count": 31,
   "metadata": {
    "id": "Jf5v5--k0q1J"
   },
   "outputs": [
    {
     "data": {
      "image/png": "[encoded data removed]",
      "text/plain": [
       "<Figure size 640x480 with 1 Axes>"
      ]
     },
     "metadata": {},
     "output_type": "display_data"
    }
   ],
   "source": [
    "# Compara la duración promedio de llamadas por cada plan y por cada mes. Traza un gráfico de barras para visualizarla.\n",
    "\n",
    "average_call_duration = fusion_dfs_plans.groupby(['plan_name','month'])['minutes_by_user'].mean()\n",
    "average_call_duration_unstacked = average_call_duration.unstack(level=0)\n",
    "\n",
    "average_call_duration_unstacked.plot(\n",
    "    title='Duración promedio de llamadas por plan y por mes',\n",
    "    xlabel='month',\n",
    "    ylabel='Average call (minutes)',\n",
    "    kind='bar'\n",
    ")\n",
    "\n",
    "plt.grid(axis ='y',color='lightgray')\n",
    "plt.gca().set_axisbelow(True)"
   ]
  },
  {
   "cell_type": "code",
   "execution_count": 32,
   "metadata": {},
   "outputs": [
    {
     "data": {
      "image/png": "[encoded data removed]",
      "text/plain": [
       "<Figure size 640x480 with 1 Axes>"
      ]
     },
     "metadata": {},
     "output_type": "display_data"
    }
   ],
   "source": [
    "# Compara el número de minutos mensuales que necesitan los usuarios de cada plan. Traza un histograma.\n",
    "monthly_minutes = 'minutes_by_user'\n",
    "planes = ['surf', 'ultimate']\n",
    "\n",
    "for plan in planes:\n",
    "    fusion_dfs_plans[fusion_dfs_plans['plan_name'] == plan][monthly_minutes].plot(kind='hist', bins = 100)\n",
    "    \n",
    "plt.title('Minutos mensuales que ocupan los usuarios')\n",
    "plt.legend(planes)\n",
    "plt.xlabel('minutes')\n",
    "plt.show()"
   ]
  },
  {
   "cell_type": "markdown",
   "metadata": {
    "id": "bLS9T8OH0q1K"
   },
   "source": [
    "[Calcula la media y la variable de la duración de las llamadas para averiguar si los usuarios de los distintos planes se comportan de forma diferente al realizar sus llamadas.]"
   ]
  },
  {
   "cell_type": "code",
   "execution_count": 33,
   "metadata": {
    "id": "oSndbAnt0q1K"
   },
   "outputs": [
    {
     "name": "stdout",
     "output_type": "stream",
     "text": [
      "plan_name  month\n",
      "surf       1        203.000000\n",
      "           2        297.000000\n",
      "           3        330.000000\n",
      "           4        351.540000\n",
      "           5        399.584416\n",
      "           6        431.298969\n",
      "           7        449.983471\n",
      "           8        410.111111\n",
      "           9        414.226804\n",
      "           10       429.729958\n",
      "           11       423.325088\n",
      "           12       473.836478\n",
      "ultimate   1        193.500000\n",
      "           2        403.142857\n",
      "           3        304.250000\n",
      "           4        336.857143\n",
      "           5        406.241379\n",
      "           6        370.957447\n",
      "           7        427.067797\n",
      "           8        421.436620\n",
      "           9        437.511628\n",
      "           10       450.735849\n",
      "           11       445.196850\n",
      "           12       459.099338\n",
      "Name: minutes_by_user, dtype: float64 \n",
      "\n",
      "Varianza mensal de llamadas\n",
      "plan_name  month\n",
      "surf       1        15842.000000\n",
      "           2        52226.500000\n",
      "           3        35809.363636\n",
      "           4        50866.743265\n",
      "           5        59754.219754\n",
      "           6        45592.628436\n",
      "           7        61005.099725\n",
      "           8        54344.645963\n",
      "           9        46595.958656\n",
      "           10       52278.664056\n",
      "           11       51607.021602\n",
      "           12       63629.518918\n",
      "ultimate   1        16572.333333\n",
      "           2        76889.476190\n",
      "           3        61984.931818\n",
      "           4        34888.928571\n",
      "           5        43841.046798\n",
      "           6        42503.563367\n",
      "           7        72563.374635\n",
      "           8        53645.506640\n",
      "           9        57070.464569\n",
      "           10       54261.910512\n",
      "           11       60593.222847\n",
      "           12       62503.783400\n",
      "Name: minutes_by_user, dtype: float64\n"
     ]
    }
   ],
   "source": [
    "# Calcula la media y la varianza de la duración mensual de llamadas.\n",
    "\n",
    "average_month = fusion_dfs_plans.groupby(['plan_name','month'])['minutes_by_user'].mean()\n",
    "monthly_duration_var = fusion_dfs_plans.groupby(['plan_name','month'])['minutes_by_user'].var()\n",
    "\n",
    "print(average_month, '\\n')\n",
    "print('Varianza mensal de llamadas')\n",
    "print(monthly_duration_var)"
   ]
  },
  {
   "cell_type": "code",
   "execution_count": 34,
   "metadata": {},
   "outputs": [
    {
     "data": {
      "text/plain": [
       "<AxesSubplot:xlabel='month', ylabel='minutes_by_user'>"
      ]
     },
     "execution_count": 34,
     "metadata": {},
     "output_type": "execute_result"
    },
    {
     "data": {
      "image/png": "[encoded data removed]",
      "text/plain": [
       "<Figure size 640x480 with 1 Axes>"
      ]
     },
     "metadata": {},
     "output_type": "display_data"
    }
   ],
   "source": [
    "# Traza un diagrama de caja para visualizar la distribución de la duración mensual de llamadas\n",
    "\n",
    "sns.boxplot(x='month', y='minutes_by_user', data=fusion_dfs_plans)"
   ]
  },
  {
   "cell_type": "markdown",
   "metadata": {
    "id": "r627zBO50q1K"
   },
   "source": [
    "[Elabora las conclusiones sobre el comportamiento de los usuarios con respecto a las llamadas. ¿Su comportamiento varía en función del plan?]\n",
    "\n",
    "El comportamiento de los usuarios si varia según el plan, en promedio los usauarios que cuentan con el plan surf suelen hacer más llamadas mensualmente, mientras que los de el plan ultimate hacen menos llamadas."
   ]
  },
  {
   "cell_type": "markdown",
   "metadata": {},
   "source": [
    "\n",
    "<div class=\"alert alert-block alert-success\">\n",
    "<b>Comentario del revisor</b> <a class=\"tocSkip\"></a> Se han calculado correctamente las estadísticas descriptivas, y los gráficos reflejan claramente las diferencias entre los planes de manera efectiva. La elección de las visualizaciones es acertada, ya que facilitan la interpretación de los datos.\n",
    "En particular, el gráfico de caja (boxplot) es una excelente herramienta para comparar la distribución de los minutos de llamadas por mes. La representación por meses permite identificar no solo la mediana y la dispersión de los datos, sino también los valores atípicos que se destacan en algunos meses, lo que podría indicar patrones de uso inusuales. Esta visualización facilita una rápida evaluación de las diferencias en el comportamiento de los usuarios a lo largo del tiempo, lo que es clave para obtener insights valiosos</div>\n"
   ]
  },
  {
   "cell_type": "markdown",
   "metadata": {
    "id": "8idKy8Wh0q1L"
   },
   "source": [
    "### Mensajes"
   ]
  },
  {
   "cell_type": "code",
   "execution_count": 35,
   "metadata": {
    "id": "NXLxiTit0q1L"
   },
   "outputs": [
    {
     "data": {
      "image/png": "[encoded data removed]",
      "text/plain": [
       "<Figure size 640x480 with 1 Axes>"
      ]
     },
     "metadata": {},
     "output_type": "display_data"
    }
   ],
   "source": [
    "# Comprara el número promedio de mensajes que tienden a enviar cada mes los usuarios de cada plan\n",
    "\n",
    "number_of_messages = fusion_dfs_plans.groupby(['plan_name','month'])['messages_number_by_user'].mean()\n",
    "number_of_messages_unstacked = number_of_messages.unstack(level=0)\n",
    "\n",
    "number_of_messages_unstacked.plot(\n",
    "    title='Número promedio de mensajes que tienden a enviar cada mes los usuarios de cada plan',\n",
    "    xlabel='month',\n",
    "    ylabel='number of messages',\n",
    "    kind='bar'\n",
    ")\n",
    "\n",
    "plt.grid(axis ='y',color='lightgray')\n",
    "plt.gca().set_axisbelow(True)"
   ]
  },
  {
   "cell_type": "code",
   "execution_count": 36,
   "metadata": {
    "id": "GRI_R7xF0q1L"
   },
   "outputs": [
    {
     "name": "stdout",
     "output_type": "stream",
     "text": [
      "plan_name  month\n",
      "surf       1        10.500000\n",
      "           2        12.000000\n",
      "           3        15.260870\n",
      "           4        17.400000\n",
      "           5        24.012987\n",
      "           6        25.298969\n",
      "           7        27.033058\n",
      "           8        28.777778\n",
      "           9        30.762887\n",
      "           10       33.839662\n",
      "           11       32.385159\n",
      "           12       38.600629\n",
      "ultimate   1        15.500000\n",
      "           2        21.571429\n",
      "           3        20.250000\n",
      "           4        22.047619\n",
      "           5        32.103448\n",
      "           6        29.340426\n",
      "           7        32.830508\n",
      "           8        38.478873\n",
      "           9        37.895349\n",
      "           10       39.443396\n",
      "           11       38.606299\n",
      "           12       45.006623\n",
      "Name: messages_number_by_user, dtype: float64 \n",
      "\n",
      "Varianza mensal de ms enviados\n",
      "plan_name  month\n",
      "surf       1         220.500000\n",
      "           2         386.000000\n",
      "           3         346.565217\n",
      "           4         501.591837\n",
      "           5         847.197198\n",
      "           6         914.920103\n",
      "           7         923.915565\n",
      "           8        1029.515528\n",
      "           9        1003.829496\n",
      "           10       1275.465708\n",
      "           11       1065.344034\n",
      "           12       1458.158612\n",
      "ultimate   1         313.666667\n",
      "           2         478.285714\n",
      "           3         654.386364\n",
      "           4         544.147619\n",
      "           5        1297.310345\n",
      "           6         857.620722\n",
      "           7         960.488019\n",
      "           8        1196.367404\n",
      "           9        1050.918331\n",
      "           10       1221.106289\n",
      "           11       1232.669166\n",
      "           12       1549.419956\n",
      "Name: messages_number_by_user, dtype: float64\n"
     ]
    }
   ],
   "source": [
    "# Calcula la media y la varianza del número de ms enviados mensual\n",
    "\n",
    "average_number_of_messages = fusion_dfs_plans.groupby(['plan_name','month'])['messages_number_by_user'].mean()\n",
    "number_of_messages_var = fusion_dfs_plans.groupby(['plan_name','month'])['messages_number_by_user'].var()\n",
    "\n",
    "print(average_number_of_messages, '\\n')\n",
    "print('Varianza mensal de ms enviados')\n",
    "print(number_of_messages_var)"
   ]
  },
  {
   "cell_type": "code",
   "execution_count": 37,
   "metadata": {},
   "outputs": [
    {
     "name": "stdout",
     "output_type": "stream",
     "text": [
      "plan_name\n",
      "surf        31.159568\n",
      "ultimate    37.551389\n",
      "Name: messages_number_by_user, dtype: float64 \n",
      "\n"
     ]
    }
   ],
   "source": [
    "average_number_of_messages = fusion_dfs_plans.groupby('plan_name')['messages_number_by_user'].mean()\n",
    "\n",
    "print(average_number_of_messages, '\\n')"
   ]
  },
  {
   "cell_type": "code",
   "execution_count": 38,
   "metadata": {
    "id": "dtFwCGAp0q1M"
   },
   "outputs": [
    {
     "data": {
      "text/plain": [
       "<AxesSubplot:xlabel='month', ylabel='messages_number_by_user'>"
      ]
     },
     "execution_count": 38,
     "metadata": {},
     "output_type": "execute_result"
    },
    {
     "data": {
      "image/png": "[encoded data removed]",
      "text/plain": [
       "<Figure size 640x480 with 1 Axes>"
      ]
     },
     "metadata": {},
     "output_type": "display_data"
    }
   ],
   "source": [
    "# Traza un diagrama de caja para visualizar la distribución del envio de mensajes mensual\n",
    "\n",
    "sns.boxplot(x='month', y='messages_number_by_user', data=fusion_dfs_plans)"
   ]
  },
  {
   "cell_type": "markdown",
   "metadata": {
    "id": "390SSL480q1M"
   },
   "source": [
    "[Elabora las conclusiones sobre el comportamiento de los usuarios con respecto a los mensajes. ¿Su comportamiento varía en función del plan?]\n",
    "\n",
    "Los usuarios suelen enviar más ms con el plan ultimate"
   ]
  },
  {
   "cell_type": "markdown",
   "metadata": {},
   "source": [
    "<div class=\"alert alert-block alert-success\">\n",
    "<b>Comentario del revisor</b> <a class=\"tocSkip\"></a>¡Excelente trabajo! Las estadísticas descriptivas y los gráficos se han implementado correctamente. El gráfico de barras muestra de manera clara el número promedio de mensajes enviados por mes según el plan, lo que facilita la comparación. Además, el diagrama de caja proporciona una visualización útil de la dispersión de los datos, resaltando la tendencia de los usuarios del plan \"Ultimate\" a enviar más mensajes en promedio. ¡Sigue así!\n",
    "</div>\n"
   ]
  },
  {
   "cell_type": "markdown",
   "metadata": {
    "id": "42YSypXz0q1M"
   },
   "source": [
    "### Internet"
   ]
  },
  {
   "cell_type": "code",
   "execution_count": 39,
   "metadata": {},
   "outputs": [
    {
     "data": {
      "image/png": "[encoded data removed]",
      "text/plain": [
       "<Figure size 640x480 with 1 Axes>"
      ]
     },
     "metadata": {},
     "output_type": "display_data"
    }
   ],
   "source": [
    "# Compara los datos promedio muensuales consumido que necesitan los usuarios de cada plan.\n",
    "\n",
    "monthly_data = fusion_dfs_plans.groupby(['plan_name','month'])['internet_volume_mb_by_user'].mean()\n",
    "monthly_data_unstacked = monthly_data.unstack(level=0)\n",
    "\n",
    "monthly_data_unstacked.plot(\n",
    "    title='Datos muensuales consumidos',\n",
    "    xlabel='month',\n",
    "    ylabel='internet traffic (mb)',\n",
    "    kind='bar'\n",
    ")\n",
    "\n",
    "plt.grid(axis ='y',color='lightgray')\n",
    "plt.gca().set_axisbelow(True)"
   ]
  },
  {
   "cell_type": "code",
   "execution_count": 40,
   "metadata": {
    "id": "lSuKPtjh0q1M"
   },
   "outputs": [
    {
     "data": {
      "image/png": "[encoded data removed]",
      "text/plain": [
       "<Figure size 640x480 with 1 Axes>"
      ]
     },
     "metadata": {},
     "output_type": "display_data"
    }
   ],
   "source": [
    "# Compara la cantidad de tráfico de Internet consumido por usuarios por plan\n",
    "\n",
    "internet_traffic = 'internet_volume_mb_by_user'\n",
    "planes = ['surf', 'ultimate']\n",
    "\n",
    "for plan in planes:\n",
    "        fusion_dfs_plans[fusion_dfs_plans['plan_name'] == plan][internet_traffic].plot(kind='hist', bins = 100)\n",
    "plt.title('Cantidad de tráfico de Internet')\n",
    "plt.legend(planes)\n",
    "plt.xlabel('internet traffic (mb)')\n",
    "plt.show()"
   ]
  },
  {
   "cell_type": "code",
   "execution_count": 41,
   "metadata": {
    "id": "wnh8jYXi0q1N"
   },
   "outputs": [
    {
     "name": "stdout",
     "output_type": "stream",
     "text": [
      "plan_name  month\n",
      "surf       1         4874.860000\n",
      "           2        12178.843333\n",
      "           3        13345.440000\n",
      "           4        11984.203000\n",
      "           5        13936.354935\n",
      "           6        15301.529175\n",
      "           7        16783.600579\n",
      "           8        16795.331358\n",
      "           9        16591.431289\n",
      "           10       17311.335063\n",
      "           11       16339.254417\n",
      "           12       18132.469371\n",
      "ultimate   1         6918.092500\n",
      "           2        17128.808571\n",
      "           3        18321.518333\n",
      "           4        16121.654762\n",
      "           5        16624.482414\n",
      "           6        15337.921064\n",
      "           7        16344.744407\n",
      "           8        17814.720141\n",
      "           9        16969.869535\n",
      "           10       17612.553396\n",
      "           11       17033.685354\n",
      "           12       18323.191854\n",
      "Name: internet_volume_mb_by_user, dtype: float64 \n",
      "\n",
      "Varianza mensual de ms enviados\n",
      "plan_name  month\n",
      "surf       1        1.823995e+07\n",
      "           2        4.367296e+07\n",
      "           3        6.824556e+07\n",
      "           4        5.904494e+07\n",
      "           5        6.147653e+07\n",
      "           6        4.913339e+07\n",
      "           7        6.468655e+07\n",
      "           8        7.463649e+07\n",
      "           9        5.131665e+07\n",
      "           10       6.252794e+07\n",
      "           11       5.717547e+07\n",
      "           12       7.214741e+07\n",
      "ultimate   1        1.639471e+07\n",
      "           2        3.764910e+07\n",
      "           3        1.403392e+08\n",
      "           4        8.842861e+07\n",
      "           5        5.679012e+07\n",
      "           6        7.201453e+07\n",
      "           7        6.841921e+07\n",
      "           8        6.044708e+07\n",
      "           9        4.933904e+07\n",
      "           10       5.699528e+07\n",
      "           11       5.758948e+07\n",
      "           12       6.188130e+07\n",
      "Name: internet_volume_mb_by_user, dtype: float64\n"
     ]
    }
   ],
   "source": [
    "# Calcula la media y la varianza de la duración mensual de llamadas.\n",
    "\n",
    "average_internet_traffic = fusion_dfs_plans.groupby(['plan_name','month'])['internet_volume_mb_by_user'].mean()\n",
    "internet_traffic_var = fusion_dfs_plans.groupby(['plan_name','month'])['internet_volume_mb_by_user'].var()\n",
    "\n",
    "print(average_internet_traffic, '\\n')\n",
    "print('Varianza mensual de ms enviados')\n",
    "print(internet_traffic_var)"
   ]
  },
  {
   "cell_type": "code",
   "execution_count": 42,
   "metadata": {
    "id": "5VlyJ9ry0q1N"
   },
   "outputs": [
    {
     "data": {
      "text/plain": [
       "<AxesSubplot:xlabel='month', ylabel='internet_volume_mb_by_user'>"
      ]
     },
     "execution_count": 42,
     "metadata": {},
     "output_type": "execute_result"
    },
    {
     "data": {
      "image/png": "[encoded data removed]",
      "text/plain": [
       "<Figure size 640x480 with 1 Axes>"
      ]
     },
     "metadata": {},
     "output_type": "display_data"
    }
   ],
   "source": [
    "# Traza un diagrama de caja para visualizar la distribución de la duración mensual de llamadas\n",
    "\n",
    "sns.boxplot(x='month', y='internet_volume_mb_by_user', data=fusion_dfs_plans)"
   ]
  },
  {
   "cell_type": "markdown",
   "metadata": {
    "id": "UN9zwuMP0q1N"
   },
   "source": [
    "[Elabora las conclusiones sobre cómo los usuarios tienden a consumir el tráfico de Internet. ¿Su comportamiento varía en función del plan?]\n",
    "\n",
    "En promedio, los usuarios que tienen plan ultimate suelen consumir más datos en comparacion con los del plan surf"
   ]
  },
  {
   "cell_type": "markdown",
   "metadata": {},
   "source": [
    "<div class=\"alert alert-block alert-success\">\n",
    "<b>Comentario del revisor</b> <a class=\"tocSkip\"></a>\n",
    "¡Excelente trabajo! Los cálculos y gráficos reflejan con precisión el comportamiento de los usuarios en términos de consumo de datos. El gráfico de barras muestra de manera clara el tráfico promedio de Internet consumido por mes, y el histograma ayuda a visualizar la distribución del consumo por plan. Los usuarios del plan \"Ultimate\" tienden a consumir más datos en comparación con los del plan \"Surf\". ¡Sigue así!\n",
    "</div>\n"
   ]
  },
  {
   "cell_type": "markdown",
   "metadata": {
    "id": "tCijq3260q1N"
   },
   "source": [
    "## Ingreso"
   ]
  },
  {
   "cell_type": "markdown",
   "metadata": {
    "id": "9nq5IAcy0q1O"
   },
   "source": [
    "[Del mismo modo que has estudiado el comportamiento de los usuarios, describe estadísticamente los ingresos de los planes.]"
   ]
  },
  {
   "cell_type": "code",
   "execution_count": 43,
   "metadata": {
    "id": "tz-dq_V00q1O"
   },
   "outputs": [
    {
     "name": "stdout",
     "output_type": "stream",
     "text": [
      "plan_name\n",
      "surf        60.706408\n",
      "ultimate    72.313889\n",
      "Name: monthly_payment_with_extras, dtype: float64 \n",
      "\n",
      "Desviación estándar de los ingresos\n",
      "plan_name\n",
      "surf        55.388042\n",
      "ultimate    11.395108\n",
      "Name: monthly_payment_with_extras, dtype: float64\n"
     ]
    }
   ],
   "source": [
    "# Calcula la media y la varianza de los ingresos de cada plan\n",
    "\n",
    "average_income = fusion_dfs_plans.groupby('plan_name')['monthly_payment_with_extras'].mean()\n",
    "income_var = fusion_dfs_plans.groupby('plan_name')['monthly_payment_with_extras'].var()\n",
    "income_std = np.sqrt(income_var)\n",
    "\n",
    "print(average_income, '\\n')\n",
    "print('Desviación estándar de los ingresos')\n",
    "print(income_std)"
   ]
  },
  {
   "cell_type": "code",
   "execution_count": 44,
   "metadata": {
    "id": "0Y1v8ZUz0q1P"
   },
   "outputs": [
    {
     "data": {
      "text/plain": [
       "<AxesSubplot:xlabel='plan_name', ylabel='monthly_payment_with_extras'>"
      ]
     },
     "execution_count": 44,
     "metadata": {},
     "output_type": "execute_result"
    },
    {
     "data": {
      "image/png": "[encoded data removed]",
      "text/plain": [
       "<Figure size 640x480 with 1 Axes>"
      ]
     },
     "metadata": {},
     "output_type": "display_data"
    }
   ],
   "source": [
    "# Traza un diagrama de caja para visualizar la distribución de los ingresos\n",
    "\n",
    "sns.boxplot(x='plan_name', y='monthly_payment_with_extras', data=fusion_dfs_plans)"
   ]
  },
  {
   "cell_type": "markdown",
   "metadata": {
    "id": "KAFidcXZ0q1P"
   },
   "source": [
    "[Elabora las conclusiones sobre cómo difiere el ingreso entre los planes.]\n",
    "\n",
    "En promedio, el plan ultimate genera mayores ingresos y tiene menor varianza en comparación al plan surf, lo que ocasiona que haya menor incertidumbre en los ingresos"
   ]
  },
  {
   "cell_type": "markdown",
   "metadata": {},
   "source": [
    "<div class=\"alert alert-block alert-success\">\n",
    "<b>Comentario del revisor</b> <a class=\"tocSkip\"></a>\n",
    "Excelente trabajo al calcular la media y la varianza de los ingresos por plan. La visualización con el diagrama de caja es clara y efectiva.\n",
    "</div>\n",
    "\n"
   ]
  },
  {
   "cell_type": "markdown",
   "metadata": {
    "id": "ajJ7VKeI0q1Q"
   },
   "source": [
    "## Prueba las hipótesis estadísticas"
   ]
  },
  {
   "cell_type": "markdown",
   "metadata": {
    "id": "AdXAZ-yL0q1Q"
   },
   "source": [
    "[Prueba la hipótesis de que son diferentes los ingresos promedio procedentes de los usuarios de los planes de llamada Ultimate y Surf.]"
   ]
  },
  {
   "cell_type": "markdown",
   "metadata": {
    "id": "IQwa_hsh0q1Q"
   },
   "source": [
    "[Elabora las hipótesis nula y alternativa, escoge la prueba estadística, determina el valor alfa.]"
   ]
  },
  {
   "cell_type": "code",
   "execution_count": 45,
   "metadata": {},
   "outputs": [
    {
     "data": {
      "text/html": [
       "<div>\n",
       "<style scoped>\n",
       "    .dataframe tbody tr th:only-of-type {\n",
       "        vertical-align: middle;\n",
       "    }\n",
       "\n",
       "    .dataframe tbody tr th {\n",
       "        vertical-align: top;\n",
       "    }\n",
       "\n",
       "    .dataframe thead th {\n",
       "        text-align: right;\n",
       "    }\n",
       "</style>\n",
       "<table border=\"1\" class=\"dataframe\">\n",
       "  <thead>\n",
       "    <tr style=\"text-align: right;\">\n",
       "      <th></th>\n",
       "      <th>user_id</th>\n",
       "      <th>month</th>\n",
       "      <th>calls_by_user</th>\n",
       "      <th>minutes_by_user</th>\n",
       "      <th>messages_number_by_user</th>\n",
       "      <th>internet_volume_mb_by_user</th>\n",
       "      <th>city</th>\n",
       "      <th>plan_name</th>\n",
       "      <th>messages_included</th>\n",
       "      <th>mb_per_month_included</th>\n",
       "      <th>...</th>\n",
       "      <th>excess_messages</th>\n",
       "      <th>excess_datos</th>\n",
       "      <th>extra_calls</th>\n",
       "      <th>extra_messages</th>\n",
       "      <th>extra_datos_gb</th>\n",
       "      <th>extra_call_income</th>\n",
       "      <th>extra_messages_income</th>\n",
       "      <th>extra_datos_income</th>\n",
       "      <th>monthly_payment_with_calls</th>\n",
       "      <th>monthly_payment_with_extras</th>\n",
       "    </tr>\n",
       "  </thead>\n",
       "  <tbody>\n",
       "    <tr>\n",
       "      <th>0</th>\n",
       "      <td>1000</td>\n",
       "      <td>12</td>\n",
       "      <td>16.0</td>\n",
       "      <td>124.0</td>\n",
       "      <td>11.0</td>\n",
       "      <td>1901.47</td>\n",
       "      <td>atlanta-sandy springs-roswell, ga msa</td>\n",
       "      <td>ultimate</td>\n",
       "      <td>1000</td>\n",
       "      <td>30720</td>\n",
       "      <td>...</td>\n",
       "      <td>989.0</td>\n",
       "      <td>28818.53</td>\n",
       "      <td>0.0</td>\n",
       "      <td>0.0</td>\n",
       "      <td>0.0</td>\n",
       "      <td>0.0</td>\n",
       "      <td>0.00</td>\n",
       "      <td>0.0</td>\n",
       "      <td>70.0</td>\n",
       "      <td>70.00</td>\n",
       "    </tr>\n",
       "    <tr>\n",
       "      <th>1</th>\n",
       "      <td>1001</td>\n",
       "      <td>8</td>\n",
       "      <td>27.0</td>\n",
       "      <td>182.0</td>\n",
       "      <td>30.0</td>\n",
       "      <td>6919.15</td>\n",
       "      <td>seattle-tacoma-bellevue, wa msa</td>\n",
       "      <td>surf</td>\n",
       "      <td>50</td>\n",
       "      <td>15360</td>\n",
       "      <td>...</td>\n",
       "      <td>20.0</td>\n",
       "      <td>8440.85</td>\n",
       "      <td>0.0</td>\n",
       "      <td>0.0</td>\n",
       "      <td>0.0</td>\n",
       "      <td>0.0</td>\n",
       "      <td>0.00</td>\n",
       "      <td>0.0</td>\n",
       "      <td>20.0</td>\n",
       "      <td>20.00</td>\n",
       "    </tr>\n",
       "    <tr>\n",
       "      <th>2</th>\n",
       "      <td>1001</td>\n",
       "      <td>9</td>\n",
       "      <td>49.0</td>\n",
       "      <td>315.0</td>\n",
       "      <td>44.0</td>\n",
       "      <td>13314.82</td>\n",
       "      <td>seattle-tacoma-bellevue, wa msa</td>\n",
       "      <td>surf</td>\n",
       "      <td>50</td>\n",
       "      <td>15360</td>\n",
       "      <td>...</td>\n",
       "      <td>6.0</td>\n",
       "      <td>2045.18</td>\n",
       "      <td>0.0</td>\n",
       "      <td>0.0</td>\n",
       "      <td>0.0</td>\n",
       "      <td>0.0</td>\n",
       "      <td>0.00</td>\n",
       "      <td>0.0</td>\n",
       "      <td>20.0</td>\n",
       "      <td>20.00</td>\n",
       "    </tr>\n",
       "    <tr>\n",
       "      <th>3</th>\n",
       "      <td>1001</td>\n",
       "      <td>10</td>\n",
       "      <td>65.0</td>\n",
       "      <td>393.0</td>\n",
       "      <td>53.0</td>\n",
       "      <td>22330.49</td>\n",
       "      <td>seattle-tacoma-bellevue, wa msa</td>\n",
       "      <td>surf</td>\n",
       "      <td>50</td>\n",
       "      <td>15360</td>\n",
       "      <td>...</td>\n",
       "      <td>-3.0</td>\n",
       "      <td>-6970.49</td>\n",
       "      <td>0.0</td>\n",
       "      <td>3.0</td>\n",
       "      <td>7.0</td>\n",
       "      <td>0.0</td>\n",
       "      <td>0.09</td>\n",
       "      <td>70.0</td>\n",
       "      <td>20.0</td>\n",
       "      <td>90.09</td>\n",
       "    </tr>\n",
       "    <tr>\n",
       "      <th>4</th>\n",
       "      <td>1001</td>\n",
       "      <td>11</td>\n",
       "      <td>64.0</td>\n",
       "      <td>426.0</td>\n",
       "      <td>36.0</td>\n",
       "      <td>18504.30</td>\n",
       "      <td>seattle-tacoma-bellevue, wa msa</td>\n",
       "      <td>surf</td>\n",
       "      <td>50</td>\n",
       "      <td>15360</td>\n",
       "      <td>...</td>\n",
       "      <td>14.0</td>\n",
       "      <td>-3144.30</td>\n",
       "      <td>0.0</td>\n",
       "      <td>0.0</td>\n",
       "      <td>4.0</td>\n",
       "      <td>0.0</td>\n",
       "      <td>0.00</td>\n",
       "      <td>40.0</td>\n",
       "      <td>20.0</td>\n",
       "      <td>60.00</td>\n",
       "    </tr>\n",
       "    <tr>\n",
       "      <th>...</th>\n",
       "      <td>...</td>\n",
       "      <td>...</td>\n",
       "      <td>...</td>\n",
       "      <td>...</td>\n",
       "      <td>...</td>\n",
       "      <td>...</td>\n",
       "      <td>...</td>\n",
       "      <td>...</td>\n",
       "      <td>...</td>\n",
       "      <td>...</td>\n",
       "      <td>...</td>\n",
       "      <td>...</td>\n",
       "      <td>...</td>\n",
       "      <td>...</td>\n",
       "      <td>...</td>\n",
       "      <td>...</td>\n",
       "      <td>...</td>\n",
       "      <td>...</td>\n",
       "      <td>...</td>\n",
       "      <td>...</td>\n",
       "      <td>...</td>\n",
       "    </tr>\n",
       "    <tr>\n",
       "      <th>2288</th>\n",
       "      <td>1498</td>\n",
       "      <td>12</td>\n",
       "      <td>39.0</td>\n",
       "      <td>339.0</td>\n",
       "      <td>0.0</td>\n",
       "      <td>23137.69</td>\n",
       "      <td>new york-newark-jersey city, ny-nj-pa msa</td>\n",
       "      <td>surf</td>\n",
       "      <td>50</td>\n",
       "      <td>15360</td>\n",
       "      <td>...</td>\n",
       "      <td>50.0</td>\n",
       "      <td>-7777.69</td>\n",
       "      <td>0.0</td>\n",
       "      <td>0.0</td>\n",
       "      <td>8.0</td>\n",
       "      <td>0.0</td>\n",
       "      <td>0.00</td>\n",
       "      <td>80.0</td>\n",
       "      <td>20.0</td>\n",
       "      <td>100.00</td>\n",
       "    </tr>\n",
       "    <tr>\n",
       "      <th>2289</th>\n",
       "      <td>1499</td>\n",
       "      <td>9</td>\n",
       "      <td>41.0</td>\n",
       "      <td>346.0</td>\n",
       "      <td>0.0</td>\n",
       "      <td>12984.76</td>\n",
       "      <td>orlando-kissimmee-sanford, fl msa</td>\n",
       "      <td>surf</td>\n",
       "      <td>50</td>\n",
       "      <td>15360</td>\n",
       "      <td>...</td>\n",
       "      <td>50.0</td>\n",
       "      <td>2375.24</td>\n",
       "      <td>0.0</td>\n",
       "      <td>0.0</td>\n",
       "      <td>0.0</td>\n",
       "      <td>0.0</td>\n",
       "      <td>0.00</td>\n",
       "      <td>0.0</td>\n",
       "      <td>20.0</td>\n",
       "      <td>20.00</td>\n",
       "    </tr>\n",
       "    <tr>\n",
       "      <th>2290</th>\n",
       "      <td>1499</td>\n",
       "      <td>10</td>\n",
       "      <td>53.0</td>\n",
       "      <td>385.0</td>\n",
       "      <td>0.0</td>\n",
       "      <td>19492.43</td>\n",
       "      <td>orlando-kissimmee-sanford, fl msa</td>\n",
       "      <td>surf</td>\n",
       "      <td>50</td>\n",
       "      <td>15360</td>\n",
       "      <td>...</td>\n",
       "      <td>50.0</td>\n",
       "      <td>-4132.43</td>\n",
       "      <td>0.0</td>\n",
       "      <td>0.0</td>\n",
       "      <td>5.0</td>\n",
       "      <td>0.0</td>\n",
       "      <td>0.00</td>\n",
       "      <td>50.0</td>\n",
       "      <td>20.0</td>\n",
       "      <td>70.00</td>\n",
       "    </tr>\n",
       "    <tr>\n",
       "      <th>2291</th>\n",
       "      <td>1499</td>\n",
       "      <td>11</td>\n",
       "      <td>45.0</td>\n",
       "      <td>308.0</td>\n",
       "      <td>0.0</td>\n",
       "      <td>16813.83</td>\n",
       "      <td>orlando-kissimmee-sanford, fl msa</td>\n",
       "      <td>surf</td>\n",
       "      <td>50</td>\n",
       "      <td>15360</td>\n",
       "      <td>...</td>\n",
       "      <td>50.0</td>\n",
       "      <td>-1453.83</td>\n",
       "      <td>0.0</td>\n",
       "      <td>0.0</td>\n",
       "      <td>2.0</td>\n",
       "      <td>0.0</td>\n",
       "      <td>0.00</td>\n",
       "      <td>20.0</td>\n",
       "      <td>20.0</td>\n",
       "      <td>40.00</td>\n",
       "    </tr>\n",
       "    <tr>\n",
       "      <th>2292</th>\n",
       "      <td>1499</td>\n",
       "      <td>12</td>\n",
       "      <td>65.0</td>\n",
       "      <td>496.0</td>\n",
       "      <td>0.0</td>\n",
       "      <td>22059.21</td>\n",
       "      <td>orlando-kissimmee-sanford, fl msa</td>\n",
       "      <td>surf</td>\n",
       "      <td>50</td>\n",
       "      <td>15360</td>\n",
       "      <td>...</td>\n",
       "      <td>50.0</td>\n",
       "      <td>-6699.21</td>\n",
       "      <td>0.0</td>\n",
       "      <td>0.0</td>\n",
       "      <td>7.0</td>\n",
       "      <td>0.0</td>\n",
       "      <td>0.00</td>\n",
       "      <td>70.0</td>\n",
       "      <td>20.0</td>\n",
       "      <td>90.00</td>\n",
       "    </tr>\n",
       "  </tbody>\n",
       "</table>\n",
       "<p>2293 rows × 26 columns</p>\n",
       "</div>"
      ],
      "text/plain": [
       "      user_id  month  calls_by_user  minutes_by_user  messages_number_by_user  \\\n",
       "0        1000     12           16.0            124.0                     11.0   \n",
       "1        1001      8           27.0            182.0                     30.0   \n",
       "2        1001      9           49.0            315.0                     44.0   \n",
       "3        1001     10           65.0            393.0                     53.0   \n",
       "4        1001     11           64.0            426.0                     36.0   \n",
       "...       ...    ...            ...              ...                      ...   \n",
       "2288     1498     12           39.0            339.0                      0.0   \n",
       "2289     1499      9           41.0            346.0                      0.0   \n",
       "2290     1499     10           53.0            385.0                      0.0   \n",
       "2291     1499     11           45.0            308.0                      0.0   \n",
       "2292     1499     12           65.0            496.0                      0.0   \n",
       "\n",
       "      internet_volume_mb_by_user                                       city  \\\n",
       "0                        1901.47      atlanta-sandy springs-roswell, ga msa   \n",
       "1                        6919.15            seattle-tacoma-bellevue, wa msa   \n",
       "2                       13314.82            seattle-tacoma-bellevue, wa msa   \n",
       "3                       22330.49            seattle-tacoma-bellevue, wa msa   \n",
       "4                       18504.30            seattle-tacoma-bellevue, wa msa   \n",
       "...                          ...                                        ...   \n",
       "2288                    23137.69  new york-newark-jersey city, ny-nj-pa msa   \n",
       "2289                    12984.76          orlando-kissimmee-sanford, fl msa   \n",
       "2290                    19492.43          orlando-kissimmee-sanford, fl msa   \n",
       "2291                    16813.83          orlando-kissimmee-sanford, fl msa   \n",
       "2292                    22059.21          orlando-kissimmee-sanford, fl msa   \n",
       "\n",
       "     plan_name  messages_included  mb_per_month_included  ...  \\\n",
       "0     ultimate               1000                  30720  ...   \n",
       "1         surf                 50                  15360  ...   \n",
       "2         surf                 50                  15360  ...   \n",
       "3         surf                 50                  15360  ...   \n",
       "4         surf                 50                  15360  ...   \n",
       "...        ...                ...                    ...  ...   \n",
       "2288      surf                 50                  15360  ...   \n",
       "2289      surf                 50                  15360  ...   \n",
       "2290      surf                 50                  15360  ...   \n",
       "2291      surf                 50                  15360  ...   \n",
       "2292      surf                 50                  15360  ...   \n",
       "\n",
       "      excess_messages  excess_datos  extra_calls  extra_messages  \\\n",
       "0               989.0      28818.53          0.0             0.0   \n",
       "1                20.0       8440.85          0.0             0.0   \n",
       "2                 6.0       2045.18          0.0             0.0   \n",
       "3                -3.0      -6970.49          0.0             3.0   \n",
       "4                14.0      -3144.30          0.0             0.0   \n",
       "...               ...           ...          ...             ...   \n",
       "2288             50.0      -7777.69          0.0             0.0   \n",
       "2289             50.0       2375.24          0.0             0.0   \n",
       "2290             50.0      -4132.43          0.0             0.0   \n",
       "2291             50.0      -1453.83          0.0             0.0   \n",
       "2292             50.0      -6699.21          0.0             0.0   \n",
       "\n",
       "      extra_datos_gb  extra_call_income  extra_messages_income  \\\n",
       "0                0.0                0.0                   0.00   \n",
       "1                0.0                0.0                   0.00   \n",
       "2                0.0                0.0                   0.00   \n",
       "3                7.0                0.0                   0.09   \n",
       "4                4.0                0.0                   0.00   \n",
       "...              ...                ...                    ...   \n",
       "2288             8.0                0.0                   0.00   \n",
       "2289             0.0                0.0                   0.00   \n",
       "2290             5.0                0.0                   0.00   \n",
       "2291             2.0                0.0                   0.00   \n",
       "2292             7.0                0.0                   0.00   \n",
       "\n",
       "      extra_datos_income  monthly_payment_with_calls  \\\n",
       "0                    0.0                        70.0   \n",
       "1                    0.0                        20.0   \n",
       "2                    0.0                        20.0   \n",
       "3                   70.0                        20.0   \n",
       "4                   40.0                        20.0   \n",
       "...                  ...                         ...   \n",
       "2288                80.0                        20.0   \n",
       "2289                 0.0                        20.0   \n",
       "2290                50.0                        20.0   \n",
       "2291                20.0                        20.0   \n",
       "2292                70.0                        20.0   \n",
       "\n",
       "      monthly_payment_with_extras  \n",
       "0                           70.00  \n",
       "1                           20.00  \n",
       "2                           20.00  \n",
       "3                           90.09  \n",
       "4                           60.00  \n",
       "...                           ...  \n",
       "2288                       100.00  \n",
       "2289                        20.00  \n",
       "2290                        70.00  \n",
       "2291                        40.00  \n",
       "2292                        90.00  \n",
       "\n",
       "[2293 rows x 26 columns]"
      ]
     },
     "execution_count": 45,
     "metadata": {},
     "output_type": "execute_result"
    }
   ],
   "source": [
    "fusion_dfs_plans"
   ]
  },
  {
   "cell_type": "markdown",
   "metadata": {},
   "source": [
    "Hipotesis nula - Los ingresos promedio procedentes de los usuarios de los planes en llamadas son iguales en ambos planes\n",
    "Hipotesis alternativa - Los ingresos promedio procedentes de los usuarios de los planes en llamadas son diferentes en ambos planes"
   ]
  },
  {
   "cell_type": "code",
   "execution_count": 46,
   "metadata": {
    "id": "nFoPNlPq0q1R"
   },
   "outputs": [
    {
     "name": "stdout",
     "output_type": "stream",
     "text": [
      "valor p:  0.0\n",
      "Rechazamos la hipótesis nula\n"
     ]
    },
    {
     "name": "stderr",
     "output_type": "stream",
     "text": [
      "/tmp/ipykernel_100/1564516764.py:8: RuntimeWarning: Precision loss occurred in moment calculation due to catastrophic cancellation. This occurs when the data are nearly identical. Results may be unreliable.\n",
      "  results = st.ttest_ind(surf, ultimate,equal_var = False)\n"
     ]
    }
   ],
   "source": [
    "# Prueba las hipótesis\n",
    "surf = fusion_dfs_plans[fusion_dfs_plans['plan_name'] == 'surf']['monthly_payment_with_calls']\n",
    "ultimate = fusion_dfs_plans[fusion_dfs_plans['plan_name'] == 'ultimate']['monthly_payment_with_calls']\n",
    "\n",
    "alpha = 0.05    # el nivel de significancia estadística crítica\n",
    "\n",
    "# si el valor p es menor que alpha, rechazamos la hipótesis\n",
    "results = st.ttest_ind(surf, ultimate,equal_var = False) \n",
    "\n",
    "print('valor p: ',results.pvalue)  # extraer el valor p\n",
    "\n",
    "if results.pvalue < alpha:\n",
    "    print(\"Rechazamos la hipótesis nula\")\n",
    "else:\n",
    "    print(\"No podemos rechazar la hipótesis nula\")"
   ]
  },
  {
   "cell_type": "markdown",
   "metadata": {
    "id": "tCcAruM60q1R"
   },
   "source": [
    "[Prueba la hipótesis de que el ingreso promedio de los usuarios del área NY-NJ es diferente al de los usuarios de otras regiones.]"
   ]
  },
  {
   "cell_type": "markdown",
   "metadata": {
    "id": "LsBgitqj0q1R"
   },
   "source": [
    "[Elabora las hipótesis nula y alternativa, escoge la prueba estadística, determina el valor alfa.]"
   ]
  },
  {
   "cell_type": "markdown",
   "metadata": {},
   "source": [
    "Hipotesis nula - El ingreso promedio de los usuarios del área NY-NJ es igual al de los usuarios de otras regiones.\n",
    "Hipotesis alternativa - El ingreso promedio de los usuarios del área NY-NJ es diferente al de los usuarios de otras regiones."
   ]
  },
  {
   "cell_type": "code",
   "execution_count": 47,
   "metadata": {
    "id": "Cqcj7wrZ0q1S"
   },
   "outputs": [
    {
     "name": "stdout",
     "output_type": "stream",
     "text": [
      "valor p:  0.0335256158853001\n",
      "Rechazamos la hipótesis nula\n"
     ]
    }
   ],
   "source": [
    "# Prueba las hipótesis\n",
    "\n",
    "ny_nj = fusion_dfs_plans[fusion_dfs_plans['city'] == 'new york-newark-jersey city, ny-nj-pa msa']['monthly_payment_with_extras']\n",
    "other_regions = fusion_dfs_plans[fusion_dfs_plans['city'] != 'new york-newark-jersey city, ny-nj-pa msa']['monthly_payment_with_extras']\n",
    "\n",
    "alpha = 0.05    # el nivel de significancia estadística crítica\n",
    "\n",
    "# si el valor p es menor que alpha, rechazamos la hipótesis\n",
    "results = st.ttest_ind(ny_nj, other_regions,equal_var = False) \n",
    "\n",
    "print('valor p: ',results.pvalue)  # extraer el valor p\n",
    "\n",
    "if results.pvalue < alpha:\n",
    "    print(\"Rechazamos la hipótesis nula\")\n",
    "else:\n",
    "    print(\"No podemos rechazar la hipótesis nula\")"
   ]
  },
  {
   "cell_type": "markdown",
   "metadata": {
    "id": "bbTR8UQO0q1T"
   },
   "source": [
    "## Conclusión general\n",
    "\n",
    "[En esta sección final, enumera tus conclusiones importantes. Asegúrate de que estas abarquen todas las decisiones (suposiciones) importantes que adoptaste y que determinaron la forma elegida para procesar y analizar los datos.]\n",
    "\n",
    "1. Con el plan surf se suelen hacer más llamadas, mientras que el plan ultimate es con el que los usuarios gastan más datos y envian más ms, por lo cual se generan más ingresos\n",
    "\n",
    "2. El plan surf tiene mayor varianza en comparación al plan ultimate, por lo que esto puede generar mayor incertidumple en los ingresos\n",
    "\n",
    "3. El plan ultimate es el que genera mayores ingresos y es más confiable en cuanto a que los ingresos no varian mucho"
   ]
  },
  {
   "cell_type": "markdown",
   "metadata": {},
   "source": [
    "<div class=\"alert alert-block alert-success\">\n",
    "<b>Comentario del revisor</b> <a class=\"tocSkip\"></a>\n",
    "Muy buen trabajo al establecer las hipótesis nula y alternativa. La elección de la prueba estadística y la claridad en la interpretación de los resultados son excelentes. Has hecho un gran progreso en este proyecto. Cada análisis que realizas te acerca más a una comprensión más profunda de los datos. Sigue así, ¡estás en el camino correcto!\n",
    "</div>\n"
   ]
  },
  {
   "cell_type": "markdown",
   "metadata": {},
   "source": [
    "\n",
    "<div class=\"alert alert-block alert-success\"> <b>Comentario del revisor</b> <a class=“tocSkip”></a> ¡Excelente trabajo! 👏 Tu proyecto ha sido aprobado. Has demostrado un gran dominio de las herramientas y metodologías aplicadas. Sigue con el mismo entusiasmo en los próximos sprints, ¡estás haciendo un trabajo increíble! 🚀 </div>"
   ]
  },
  {
   "cell_type": "code",
   "execution_count": null,
   "metadata": {},
   "outputs": [],
   "source": []
  }
 ],
 "metadata": {
  "ExecuteTimeLog": [
   {
    "duration": 828,
    "start_time": "2021-11-16T09:21:11.304Z"
   },
   {
    "duration": 893,
    "start_time": "2021-11-16T09:21:17.728Z"
   },
   {
    "duration": 1150,
    "start_time": "2021-11-16T09:21:29.568Z"
   },
   {
    "duration": 3,
    "start_time": "2021-11-16T09:24:14.495Z"
   },
   {
    "duration": 120,
    "start_time": "2021-11-16T09:24:46.630Z"
   },
   {
    "duration": 3,
    "start_time": "2021-11-16T09:28:27.882Z"
   },
   {
    "duration": 4,
    "start_time": "2021-11-16T09:29:54.281Z"
   },
   {
    "duration": 3,
    "start_time": "2021-11-16T09:30:45.936Z"
   },
   {
    "duration": 4,
    "start_time": "2021-11-16T09:31:06.300Z"
   },
   {
    "duration": 113,
    "start_time": "2021-11-16T09:31:37.208Z"
   },
   {
    "duration": 143,
    "start_time": "2021-11-16T09:31:48.656Z"
   },
   {
    "duration": 98,
    "start_time": "2021-11-16T09:31:55.678Z"
   },
   {
    "duration": 3,
    "start_time": "2021-11-16T09:32:08.535Z"
   },
   {
    "duration": 111,
    "start_time": "2021-11-16T09:32:10.120Z"
   },
   {
    "duration": 3,
    "start_time": "2021-11-16T09:32:15.732Z"
   },
   {
    "duration": 4,
    "start_time": "2021-11-16T09:32:29.423Z"
   },
   {
    "duration": 3,
    "start_time": "2021-11-16T10:03:03.074Z"
   },
   {
    "duration": 3,
    "start_time": "2021-11-16T10:10:01.288Z"
   },
   {
    "duration": 3,
    "start_time": "2021-11-16T10:10:46.923Z"
   },
   {
    "duration": 121,
    "start_time": "2021-11-16T10:37:46.494Z"
   },
   {
    "duration": 125,
    "start_time": "2021-11-16T10:38:20.632Z"
   },
   {
    "duration": 112,
    "start_time": "2021-11-16T10:46:53.001Z"
   },
   {
    "duration": 110,
    "start_time": "2021-11-16T10:48:25.775Z"
   },
   {
    "duration": 3,
    "start_time": "2021-11-16T10:50:18.720Z"
   },
   {
    "duration": 4,
    "start_time": "2021-11-16T10:50:37.649Z"
   },
   {
    "duration": 2,
    "start_time": "2021-11-16T10:50:51.884Z"
   },
   {
    "duration": 3,
    "start_time": "2021-11-16T10:51:56.237Z"
   },
   {
    "duration": 101,
    "start_time": "2021-11-16T10:53:13.791Z"
   },
   {
    "duration": 3,
    "start_time": "2021-11-16T10:55:59.186Z"
   },
   {
    "duration": 3,
    "start_time": "2021-11-16T10:56:10.751Z"
   },
   {
    "duration": 3,
    "start_time": "2021-11-16T10:56:49.038Z"
   },
   {
    "duration": 3,
    "start_time": "2021-11-16T10:56:49.174Z"
   },
   {
    "duration": 4,
    "start_time": "2021-11-16T10:56:49.414Z"
   },
   {
    "duration": 3,
    "start_time": "2021-11-16T10:56:49.680Z"
   },
   {
    "duration": 3,
    "start_time": "2021-11-16T10:56:50.370Z"
   },
   {
    "duration": 114,
    "start_time": "2021-11-16T10:59:34.518Z"
   },
   {
    "duration": 3,
    "start_time": "2021-11-16T11:01:41.201Z"
   },
   {
    "duration": 116,
    "start_time": "2021-11-16T11:01:48.754Z"
   },
   {
    "duration": 3,
    "start_time": "2021-11-16T11:02:16.685Z"
   },
   {
    "duration": 3,
    "start_time": "2021-11-16T11:02:19.479Z"
   },
   {
    "duration": 3,
    "start_time": "2021-11-16T11:02:47.067Z"
   },
   {
    "duration": 3,
    "start_time": "2021-11-16T11:02:49.353Z"
   },
   {
    "duration": 3,
    "start_time": "2021-11-16T11:03:07.835Z"
   },
   {
    "duration": 3,
    "start_time": "2021-11-16T11:03:07.953Z"
   },
   {
    "duration": 112,
    "start_time": "2021-11-16T11:07:52.072Z"
   },
   {
    "duration": 187,
    "start_time": "2021-11-16T11:09:23.468Z"
   },
   {
    "duration": 4,
    "start_time": "2021-11-16T11:10:01.455Z"
   },
   {
    "duration": 3,
    "start_time": "2021-11-16T11:10:05.069Z"
   },
   {
    "duration": 4,
    "start_time": "2021-11-16T11:10:13.376Z"
   },
   {
    "duration": 3,
    "start_time": "2021-11-16T11:10:14.434Z"
   },
   {
    "duration": 3,
    "start_time": "2021-11-16T11:10:22.853Z"
   },
   {
    "duration": 4,
    "start_time": "2021-11-16T11:27:29.279Z"
   },
   {
    "duration": 4,
    "start_time": "2021-11-16T11:29:08.919Z"
   },
   {
    "duration": 118,
    "start_time": "2021-11-16T11:29:46.703Z"
   },
   {
    "duration": 437,
    "start_time": "2021-11-16T11:36:02.181Z"
   },
   {
    "duration": 157,
    "start_time": "2021-11-16T11:36:14.388Z"
   },
   {
    "duration": 207,
    "start_time": "2021-11-16T11:47:15.898Z"
   },
   {
    "duration": 3,
    "start_time": "2021-11-16T11:53:52.092Z"
   },
   {
    "duration": 3,
    "start_time": "2021-11-16T11:53:52.236Z"
   },
   {
    "duration": 3,
    "start_time": "2021-11-16T11:59:12.005Z"
   },
   {
    "duration": 112,
    "start_time": "2021-11-16T12:00:33.446Z"
   },
   {
    "duration": 3,
    "start_time": "2021-11-16T12:02:14.453Z"
   },
   {
    "duration": 3,
    "start_time": "2021-11-16T12:02:39.512Z"
   },
   {
    "duration": 106,
    "start_time": "2021-11-16T12:03:03.460Z"
   },
   {
    "duration": 3,
    "start_time": "2021-11-17T20:37:21.139Z"
   },
   {
    "duration": 3,
    "start_time": "2021-11-17T20:37:22.229Z"
   },
   {
    "duration": 3,
    "start_time": "2021-11-17T20:38:38.806Z"
   },
   {
    "duration": 3,
    "start_time": "2021-11-17T20:38:41.958Z"
   },
   {
    "duration": 3,
    "start_time": "2021-11-17T20:43:46.551Z"
   },
   {
    "duration": 4,
    "start_time": "2021-11-17T20:58:21.835Z"
   },
   {
    "duration": 3,
    "start_time": "2021-11-17T20:59:21.872Z"
   },
   {
    "duration": 4,
    "start_time": "2021-11-17T20:59:45.352Z"
   },
   {
    "duration": 4,
    "start_time": "2021-11-17T20:59:49.646Z"
   },
   {
    "duration": 159,
    "start_time": "2021-11-17T21:02:26.949Z"
   },
   {
    "duration": 3,
    "start_time": "2021-11-17T21:03:53.461Z"
   },
   {
    "duration": 3,
    "start_time": "2021-11-17T21:03:53.694Z"
   },
   {
    "duration": 3,
    "start_time": "2021-11-17T21:05:28.145Z"
   },
   {
    "duration": 116,
    "start_time": "2021-11-17T21:05:57.787Z"
   },
   {
    "duration": 3,
    "start_time": "2021-11-17T21:06:37.993Z"
   },
   {
    "duration": 3,
    "start_time": "2021-11-17T21:06:38.261Z"
   },
   {
    "duration": 3,
    "start_time": "2021-11-17T21:11:54.358Z"
   },
   {
    "duration": 3,
    "start_time": "2021-11-17T21:12:43.846Z"
   },
   {
    "duration": 4,
    "start_time": "2021-11-17T21:13:08.773Z"
   },
   {
    "duration": 3,
    "start_time": "2021-11-17T21:14:44.441Z"
   },
   {
    "duration": 3,
    "start_time": "2021-11-17T21:15:42.059Z"
   },
   {
    "duration": 4,
    "start_time": "2021-11-17T21:15:51.995Z"
   },
   {
    "duration": 3,
    "start_time": "2021-11-17T21:15:53.923Z"
   },
   {
    "duration": 3,
    "start_time": "2021-11-17T21:15:55.282Z"
   },
   {
    "duration": 3,
    "start_time": "2021-11-17T21:16:28.492Z"
   },
   {
    "duration": 3,
    "start_time": "2021-11-17T21:16:32.603Z"
   },
   {
    "duration": 3,
    "start_time": "2021-11-17T21:17:06.941Z"
   },
   {
    "duration": 98,
    "start_time": "2021-11-17T21:18:05.733Z"
   },
   {
    "duration": 4,
    "start_time": "2021-11-17T21:21:35.255Z"
   },
   {
    "duration": 3,
    "start_time": "2021-11-17T21:21:37.804Z"
   },
   {
    "duration": 4,
    "start_time": "2021-11-17T21:23:06.071Z"
   },
   {
    "duration": 3,
    "start_time": "2021-11-17T21:23:24.799Z"
   },
   {
    "duration": 3,
    "start_time": "2021-11-17T21:23:32.591Z"
   },
   {
    "duration": 98,
    "start_time": "2021-11-17T21:28:31.559Z"
   },
   {
    "duration": 3,
    "start_time": "2021-11-17T21:28:45.448Z"
   },
   {
    "duration": 3,
    "start_time": "2021-11-17T21:29:17.303Z"
   },
   {
    "duration": 3,
    "start_time": "2021-11-17T21:29:29.617Z"
   },
   {
    "duration": 3,
    "start_time": "2021-11-17T21:29:32.681Z"
   },
   {
    "duration": 3,
    "start_time": "2021-11-17T21:36:11.474Z"
   },
   {
    "duration": 3,
    "start_time": "2021-11-17T21:36:14.791Z"
   },
   {
    "duration": 3,
    "start_time": "2021-11-17T21:36:53.943Z"
   },
   {
    "duration": 3,
    "start_time": "2021-11-17T21:36:56.165Z"
   },
   {
    "duration": 4,
    "start_time": "2021-11-17T21:37:16.590Z"
   },
   {
    "duration": 3,
    "start_time": "2021-11-17T21:37:22.702Z"
   },
   {
    "duration": 4,
    "start_time": "2021-11-17T21:38:03.479Z"
   },
   {
    "duration": 3,
    "start_time": "2021-11-17T21:38:08.601Z"
   },
   {
    "duration": 3,
    "start_time": "2021-11-17T21:38:12.928Z"
   },
   {
    "duration": 3,
    "start_time": "2021-11-17T21:38:48.896Z"
   },
   {
    "duration": 2,
    "start_time": "2021-11-17T21:38:49.171Z"
   },
   {
    "duration": 4,
    "start_time": "2021-11-17T21:39:57.889Z"
   },
   {
    "duration": 3,
    "start_time": "2021-11-17T21:39:58.057Z"
   },
   {
    "duration": 3,
    "start_time": "2021-11-17T21:41:20.108Z"
   },
   {
    "duration": 3,
    "start_time": "2021-11-17T21:41:20.629Z"
   },
   {
    "duration": 3,
    "start_time": "2021-11-17T21:42:49.136Z"
   },
   {
    "duration": 3,
    "start_time": "2021-11-17T21:43:15.137Z"
   },
   {
    "duration": 4,
    "start_time": "2021-11-17T21:43:16.766Z"
   },
   {
    "duration": 4,
    "start_time": "2021-11-17T21:43:31.711Z"
   },
   {
    "duration": 3,
    "start_time": "2021-11-17T21:43:36.312Z"
   },
   {
    "duration": 4,
    "start_time": "2021-11-17T21:45:08.825Z"
   },
   {
    "duration": 4,
    "start_time": "2021-11-17T21:45:10.119Z"
   },
   {
    "duration": 4,
    "start_time": "2021-11-17T21:45:13.748Z"
   },
   {
    "duration": 3,
    "start_time": "2021-11-17T21:45:22.219Z"
   },
   {
    "duration": 3,
    "start_time": "2021-11-17T21:45:33.412Z"
   },
   {
    "duration": 2,
    "start_time": "2021-11-17T21:46:01.885Z"
   },
   {
    "duration": 3,
    "start_time": "2021-11-17T21:46:03.628Z"
   },
   {
    "duration": 107,
    "start_time": "2021-11-17T21:47:32.512Z"
   },
   {
    "duration": 103,
    "start_time": "2021-11-17T21:50:36.243Z"
   },
   {
    "duration": 3,
    "start_time": "2021-11-18T06:28:31.440Z"
   },
   {
    "duration": 3,
    "start_time": "2021-11-18T06:29:00.168Z"
   },
   {
    "duration": 3,
    "start_time": "2021-11-18T06:31:27.008Z"
   },
   {
    "duration": 2,
    "start_time": "2021-11-18T06:35:34.288Z"
   },
   {
    "duration": 2,
    "start_time": "2021-11-18T06:38:04.527Z"
   },
   {
    "duration": 603,
    "start_time": "2024-09-12T21:20:03.050Z"
   },
   {
    "duration": 269,
    "start_time": "2024-09-12T21:23:25.426Z"
   },
   {
    "duration": 9,
    "start_time": "2024-09-12T21:25:28.972Z"
   },
   {
    "duration": 7,
    "start_time": "2024-09-12T21:27:29.849Z"
   },
   {
    "duration": 168,
    "start_time": "2024-09-15T03:25:37.299Z"
   },
   {
    "duration": 597,
    "start_time": "2024-09-15T03:25:50.457Z"
   },
   {
    "duration": 267,
    "start_time": "2024-09-15T03:25:51.056Z"
   },
   {
    "duration": 9,
    "start_time": "2024-09-15T03:25:51.325Z"
   },
   {
    "duration": 7,
    "start_time": "2024-09-15T03:25:51.336Z"
   },
   {
    "duration": 7,
    "start_time": "2024-09-15T03:25:51.346Z"
   },
   {
    "duration": 2,
    "start_time": "2024-09-15T03:25:51.355Z"
   },
   {
    "duration": 2,
    "start_time": "2024-09-15T03:25:51.359Z"
   },
   {
    "duration": 5,
    "start_time": "2024-09-15T03:25:51.363Z"
   },
   {
    "duration": 3,
    "start_time": "2024-09-15T03:25:51.370Z"
   },
   {
    "duration": 2,
    "start_time": "2024-09-15T03:25:51.376Z"
   },
   {
    "duration": 31,
    "start_time": "2024-09-15T03:25:51.379Z"
   },
   {
    "duration": 3,
    "start_time": "2024-09-15T03:25:51.412Z"
   },
   {
    "duration": 3,
    "start_time": "2024-09-15T03:25:51.416Z"
   },
   {
    "duration": 2,
    "start_time": "2024-09-15T03:25:51.422Z"
   },
   {
    "duration": 2,
    "start_time": "2024-09-15T03:25:51.426Z"
   },
   {
    "duration": 3,
    "start_time": "2024-09-15T03:25:51.430Z"
   },
   {
    "duration": 3,
    "start_time": "2024-09-15T03:25:51.434Z"
   },
   {
    "duration": 2,
    "start_time": "2024-09-15T03:25:51.439Z"
   },
   {
    "duration": 3,
    "start_time": "2024-09-15T03:25:51.442Z"
   },
   {
    "duration": 3,
    "start_time": "2024-09-15T03:25:51.446Z"
   },
   {
    "duration": 2,
    "start_time": "2024-09-15T03:25:51.451Z"
   },
   {
    "duration": 3,
    "start_time": "2024-09-15T03:25:51.455Z"
   },
   {
    "duration": 51,
    "start_time": "2024-09-15T03:25:51.460Z"
   },
   {
    "duration": 5,
    "start_time": "2024-09-15T03:25:51.512Z"
   },
   {
    "duration": 3,
    "start_time": "2024-09-15T03:25:51.518Z"
   },
   {
    "duration": 3,
    "start_time": "2024-09-15T03:25:51.523Z"
   },
   {
    "duration": 3,
    "start_time": "2024-09-15T03:25:51.527Z"
   },
   {
    "duration": 3,
    "start_time": "2024-09-15T03:25:51.531Z"
   },
   {
    "duration": 156,
    "start_time": "2024-09-15T05:46:02.371Z"
   },
   {
    "duration": 565,
    "start_time": "2024-09-15T05:46:17.444Z"
   },
   {
    "duration": 229,
    "start_time": "2024-09-15T05:46:18.011Z"
   },
   {
    "duration": 10,
    "start_time": "2024-09-15T05:46:18.242Z"
   },
   {
    "duration": 6,
    "start_time": "2024-09-15T05:46:18.253Z"
   },
   {
    "duration": 4,
    "start_time": "2024-09-15T05:46:18.261Z"
   },
   {
    "duration": 7,
    "start_time": "2024-09-15T05:46:18.270Z"
   },
   {
    "duration": 2,
    "start_time": "2024-09-15T05:46:18.279Z"
   },
   {
    "duration": 2,
    "start_time": "2024-09-15T05:46:18.284Z"
   },
   {
    "duration": 3,
    "start_time": "2024-09-15T05:46:18.287Z"
   },
   {
    "duration": 3,
    "start_time": "2024-09-15T05:46:18.291Z"
   },
   {
    "duration": 2,
    "start_time": "2024-09-15T05:46:18.295Z"
   },
   {
    "duration": 2,
    "start_time": "2024-09-15T05:46:18.299Z"
   },
   {
    "duration": 2,
    "start_time": "2024-09-15T05:46:18.303Z"
   },
   {
    "duration": 2,
    "start_time": "2024-09-15T05:46:18.309Z"
   },
   {
    "duration": 2,
    "start_time": "2024-09-15T05:46:18.313Z"
   },
   {
    "duration": 3,
    "start_time": "2024-09-15T05:46:18.316Z"
   },
   {
    "duration": 2,
    "start_time": "2024-09-15T05:46:18.370Z"
   },
   {
    "duration": 2,
    "start_time": "2024-09-15T05:46:18.374Z"
   },
   {
    "duration": 2,
    "start_time": "2024-09-15T05:46:18.378Z"
   },
   {
    "duration": 2,
    "start_time": "2024-09-15T05:46:18.382Z"
   },
   {
    "duration": 2,
    "start_time": "2024-09-15T05:46:18.386Z"
   },
   {
    "duration": 2,
    "start_time": "2024-09-15T05:46:18.390Z"
   },
   {
    "duration": 2,
    "start_time": "2024-09-15T05:46:18.394Z"
   },
   {
    "duration": 2,
    "start_time": "2024-09-15T05:46:18.398Z"
   },
   {
    "duration": 2,
    "start_time": "2024-09-15T05:46:18.402Z"
   },
   {
    "duration": 2,
    "start_time": "2024-09-15T05:46:18.406Z"
   },
   {
    "duration": 2,
    "start_time": "2024-09-15T05:46:18.410Z"
   },
   {
    "duration": 3,
    "start_time": "2024-09-15T05:46:18.413Z"
   },
   {
    "duration": 54,
    "start_time": "2024-09-15T05:46:18.417Z"
   },
   {
    "duration": 6,
    "start_time": "2024-09-15T06:03:06.416Z"
   },
   {
    "duration": 5,
    "start_time": "2024-09-15T06:03:51.120Z"
   },
   {
    "duration": 6,
    "start_time": "2024-09-15T06:04:28.298Z"
   },
   {
    "duration": 6,
    "start_time": "2024-09-15T06:04:52.008Z"
   },
   {
    "duration": 6,
    "start_time": "2024-09-15T06:06:03.155Z"
   },
   {
    "duration": 3,
    "start_time": "2024-09-15T06:06:11.966Z"
   },
   {
    "duration": 256,
    "start_time": "2024-09-15T06:06:40.381Z"
   },
   {
    "duration": 9,
    "start_time": "2024-09-15T06:06:56.975Z"
   },
   {
    "duration": 7,
    "start_time": "2024-09-15T06:07:23.560Z"
   },
   {
    "duration": 8,
    "start_time": "2024-09-15T06:07:35.441Z"
   },
   {
    "duration": 7,
    "start_time": "2024-09-15T06:10:45.647Z"
   },
   {
    "duration": 3,
    "start_time": "2024-09-15T06:12:04.352Z"
   },
   {
    "duration": 4,
    "start_time": "2024-09-15T06:12:21.418Z"
   },
   {
    "duration": 3,
    "start_time": "2024-09-15T06:12:35.467Z"
   },
   {
    "duration": 15,
    "start_time": "2024-09-15T06:16:01.770Z"
   },
   {
    "duration": 5,
    "start_time": "2024-09-15T06:16:44.894Z"
   },
   {
    "duration": 12,
    "start_time": "2024-09-15T06:18:13.807Z"
   },
   {
    "duration": 4,
    "start_time": "2024-09-15T06:18:35.232Z"
   },
   {
    "duration": 15,
    "start_time": "2024-09-15T06:19:46.623Z"
   },
   {
    "duration": 5,
    "start_time": "2024-09-15T06:20:03.547Z"
   },
   {
    "duration": 5,
    "start_time": "2024-09-15T06:20:12.263Z"
   },
   {
    "duration": 177,
    "start_time": "2024-09-17T20:20:29.809Z"
   },
   {
    "duration": 626,
    "start_time": "2024-09-17T20:20:48.459Z"
   },
   {
    "duration": 289,
    "start_time": "2024-09-17T20:20:49.088Z"
   },
   {
    "duration": 10,
    "start_time": "2024-09-17T20:20:49.379Z"
   },
   {
    "duration": 6,
    "start_time": "2024-09-17T20:20:49.390Z"
   },
   {
    "duration": 8,
    "start_time": "2024-09-17T20:20:49.399Z"
   },
   {
    "duration": 6,
    "start_time": "2024-09-17T20:20:49.409Z"
   },
   {
    "duration": 245,
    "start_time": "2024-09-17T20:20:49.431Z"
   },
   {
    "duration": 0,
    "start_time": "2024-09-17T20:20:49.679Z"
   },
   {
    "duration": 0,
    "start_time": "2024-09-17T20:20:49.680Z"
   },
   {
    "duration": 1,
    "start_time": "2024-09-17T20:20:49.680Z"
   },
   {
    "duration": 0,
    "start_time": "2024-09-17T20:20:49.682Z"
   },
   {
    "duration": 0,
    "start_time": "2024-09-17T20:20:49.683Z"
   },
   {
    "duration": 0,
    "start_time": "2024-09-17T20:20:49.685Z"
   },
   {
    "duration": 0,
    "start_time": "2024-09-17T20:20:49.687Z"
   },
   {
    "duration": 0,
    "start_time": "2024-09-17T20:20:49.688Z"
   },
   {
    "duration": 0,
    "start_time": "2024-09-17T20:20:49.689Z"
   },
   {
    "duration": 0,
    "start_time": "2024-09-17T20:20:49.690Z"
   },
   {
    "duration": 0,
    "start_time": "2024-09-17T20:20:49.691Z"
   },
   {
    "duration": 0,
    "start_time": "2024-09-17T20:20:49.692Z"
   },
   {
    "duration": 0,
    "start_time": "2024-09-17T20:20:49.694Z"
   },
   {
    "duration": 0,
    "start_time": "2024-09-17T20:20:49.695Z"
   },
   {
    "duration": 0,
    "start_time": "2024-09-17T20:20:49.697Z"
   },
   {
    "duration": 0,
    "start_time": "2024-09-17T20:20:49.731Z"
   },
   {
    "duration": 0,
    "start_time": "2024-09-17T20:20:49.732Z"
   },
   {
    "duration": 0,
    "start_time": "2024-09-17T20:20:49.733Z"
   },
   {
    "duration": 0,
    "start_time": "2024-09-17T20:20:49.734Z"
   },
   {
    "duration": 0,
    "start_time": "2024-09-17T20:20:49.736Z"
   },
   {
    "duration": 0,
    "start_time": "2024-09-17T20:20:49.737Z"
   },
   {
    "duration": 0,
    "start_time": "2024-09-17T20:20:49.738Z"
   },
   {
    "duration": 3,
    "start_time": "2024-09-17T20:21:09.668Z"
   },
   {
    "duration": 9,
    "start_time": "2024-09-17T20:21:24.431Z"
   },
   {
    "duration": 551,
    "start_time": "2024-09-17T20:26:05.209Z"
   },
   {
    "duration": 38,
    "start_time": "2024-09-17T20:26:42.254Z"
   },
   {
    "duration": 5,
    "start_time": "2024-09-17T20:29:34.384Z"
   },
   {
    "duration": 9,
    "start_time": "2024-09-17T20:29:37.523Z"
   },
   {
    "duration": 14,
    "start_time": "2024-09-17T20:32:39.858Z"
   },
   {
    "duration": 15,
    "start_time": "2024-09-17T20:34:39.746Z"
   },
   {
    "duration": 5,
    "start_time": "2024-09-17T20:35:37.426Z"
   },
   {
    "duration": 6,
    "start_time": "2024-09-17T20:35:54.068Z"
   },
   {
    "duration": 6,
    "start_time": "2024-09-17T20:36:18.743Z"
   },
   {
    "duration": 9,
    "start_time": "2024-09-17T20:37:11.505Z"
   },
   {
    "duration": 11,
    "start_time": "2024-09-17T20:37:34.786Z"
   },
   {
    "duration": 11,
    "start_time": "2024-09-17T20:37:38.544Z"
   },
   {
    "duration": 5,
    "start_time": "2024-09-17T20:40:22.549Z"
   },
   {
    "duration": 7,
    "start_time": "2024-09-17T20:41:21.893Z"
   },
   {
    "duration": 7,
    "start_time": "2024-09-17T20:41:53.178Z"
   },
   {
    "duration": 5,
    "start_time": "2024-09-17T20:42:06.792Z"
   },
   {
    "duration": 7,
    "start_time": "2024-09-17T20:42:15.638Z"
   },
   {
    "duration": 6,
    "start_time": "2024-09-17T20:42:23.811Z"
   },
   {
    "duration": 7,
    "start_time": "2024-09-17T20:42:30.561Z"
   },
   {
    "duration": 16,
    "start_time": "2024-09-17T20:43:27.354Z"
   },
   {
    "duration": 6,
    "start_time": "2024-09-17T20:43:36.518Z"
   },
   {
    "duration": 42,
    "start_time": "2024-09-17T20:49:10.428Z"
   },
   {
    "duration": 6,
    "start_time": "2024-09-17T20:49:36.705Z"
   },
   {
    "duration": 15,
    "start_time": "2024-09-17T20:50:03.701Z"
   },
   {
    "duration": 14,
    "start_time": "2024-09-17T20:50:11.312Z"
   },
   {
    "duration": 6,
    "start_time": "2024-09-17T20:51:51.704Z"
   },
   {
    "duration": 6,
    "start_time": "2024-09-17T20:52:19.660Z"
   },
   {
    "duration": 20,
    "start_time": "2024-09-17T20:58:52.386Z"
   },
   {
    "duration": 12,
    "start_time": "2024-09-17T20:58:56.636Z"
   },
   {
    "duration": 14,
    "start_time": "2024-09-17T20:59:09.149Z"
   },
   {
    "duration": 31,
    "start_time": "2024-09-17T21:01:44.191Z"
   },
   {
    "duration": 26,
    "start_time": "2024-09-17T21:02:53.977Z"
   },
   {
    "duration": 13,
    "start_time": "2024-09-17T21:03:05.115Z"
   },
   {
    "duration": 4,
    "start_time": "2024-09-17T21:04:38.156Z"
   },
   {
    "duration": 12,
    "start_time": "2024-09-17T21:06:44.114Z"
   },
   {
    "duration": 18,
    "start_time": "2024-09-17T21:07:58.390Z"
   },
   {
    "duration": 25,
    "start_time": "2024-09-17T21:08:12.824Z"
   },
   {
    "duration": 19,
    "start_time": "2024-09-17T21:10:35.609Z"
   },
   {
    "duration": 13,
    "start_time": "2024-09-17T21:32:33.436Z"
   },
   {
    "duration": 6,
    "start_time": "2024-09-17T21:32:37.302Z"
   },
   {
    "duration": 22,
    "start_time": "2024-09-17T21:40:11.211Z"
   },
   {
    "duration": 24,
    "start_time": "2024-09-17T21:40:18.091Z"
   },
   {
    "duration": 55,
    "start_time": "2024-09-17T21:40:42.975Z"
   },
   {
    "duration": 38,
    "start_time": "2024-09-17T21:41:36.938Z"
   },
   {
    "duration": 3,
    "start_time": "2024-09-17T21:44:06.309Z"
   },
   {
    "duration": 4,
    "start_time": "2024-09-17T21:44:16.366Z"
   },
   {
    "duration": 6,
    "start_time": "2024-09-17T21:45:32.110Z"
   },
   {
    "duration": 5,
    "start_time": "2024-09-17T21:51:52.549Z"
   },
   {
    "duration": 49,
    "start_time": "2024-09-17T22:44:04.914Z"
   },
   {
    "duration": 45,
    "start_time": "2024-09-17T22:46:40.099Z"
   },
   {
    "duration": 86,
    "start_time": "2024-09-17T22:47:24.853Z"
   },
   {
    "duration": 15,
    "start_time": "2024-09-17T22:53:31.857Z"
   },
   {
    "duration": 24,
    "start_time": "2024-09-17T22:53:50.922Z"
   },
   {
    "duration": 17,
    "start_time": "2024-09-17T22:54:18.006Z"
   },
   {
    "duration": 18,
    "start_time": "2024-09-17T22:54:28.500Z"
   },
   {
    "duration": 22,
    "start_time": "2024-09-17T22:55:22.240Z"
   },
   {
    "duration": 20,
    "start_time": "2024-09-17T22:55:27.344Z"
   },
   {
    "duration": 30,
    "start_time": "2024-09-17T22:56:25.731Z"
   },
   {
    "duration": 43,
    "start_time": "2024-09-17T22:57:23.794Z"
   },
   {
    "duration": 49,
    "start_time": "2024-09-17T22:59:56.451Z"
   },
   {
    "duration": 136,
    "start_time": "2024-09-17T23:02:28.297Z"
   },
   {
    "duration": 222,
    "start_time": "2024-09-17T23:02:55.046Z"
   },
   {
    "duration": 3,
    "start_time": "2024-09-17T23:03:06.712Z"
   },
   {
    "duration": 3,
    "start_time": "2024-09-17T23:03:16.045Z"
   },
   {
    "duration": 5,
    "start_time": "2024-09-17T23:06:37.449Z"
   },
   {
    "duration": 7,
    "start_time": "2024-09-17T23:07:17.823Z"
   },
   {
    "duration": 7,
    "start_time": "2024-09-17T23:07:49.827Z"
   },
   {
    "duration": 7,
    "start_time": "2024-09-17T23:08:19.374Z"
   },
   {
    "duration": 21,
    "start_time": "2024-09-17T23:11:15.544Z"
   },
   {
    "duration": 19,
    "start_time": "2024-09-17T23:11:23.337Z"
   },
   {
    "duration": 16,
    "start_time": "2024-09-17T23:11:43.608Z"
   },
   {
    "duration": 3,
    "start_time": "2024-09-17T23:11:55.581Z"
   },
   {
    "duration": 23,
    "start_time": "2024-09-17T23:12:22.300Z"
   },
   {
    "duration": 16,
    "start_time": "2024-09-17T23:14:00.837Z"
   },
   {
    "duration": 21,
    "start_time": "2024-09-17T23:33:38.436Z"
   },
   {
    "duration": 709,
    "start_time": "2024-09-17T23:43:25.348Z"
   },
   {
    "duration": 168,
    "start_time": "2024-09-17T23:43:26.060Z"
   },
   {
    "duration": 19,
    "start_time": "2024-09-17T23:43:26.231Z"
   },
   {
    "duration": 9,
    "start_time": "2024-09-17T23:43:26.253Z"
   },
   {
    "duration": 14,
    "start_time": "2024-09-17T23:43:26.265Z"
   },
   {
    "duration": 6,
    "start_time": "2024-09-17T23:43:26.281Z"
   },
   {
    "duration": 42,
    "start_time": "2024-09-17T23:43:26.289Z"
   },
   {
    "duration": 9,
    "start_time": "2024-09-17T23:43:26.333Z"
   },
   {
    "duration": 7,
    "start_time": "2024-09-17T23:43:26.344Z"
   },
   {
    "duration": 26,
    "start_time": "2024-09-17T23:43:26.355Z"
   },
   {
    "duration": 7,
    "start_time": "2024-09-17T23:43:26.383Z"
   },
   {
    "duration": 6,
    "start_time": "2024-09-17T23:43:26.392Z"
   },
   {
    "duration": 58,
    "start_time": "2024-09-17T23:43:26.400Z"
   },
   {
    "duration": 12,
    "start_time": "2024-09-17T23:43:26.463Z"
   },
   {
    "duration": 4,
    "start_time": "2024-09-17T23:43:26.478Z"
   },
   {
    "duration": 21,
    "start_time": "2024-09-17T23:43:26.484Z"
   },
   {
    "duration": 23,
    "start_time": "2024-09-17T23:43:26.531Z"
   },
   {
    "duration": 7,
    "start_time": "2024-09-17T23:43:26.555Z"
   },
   {
    "duration": 42,
    "start_time": "2024-09-17T23:43:26.563Z"
   },
   {
    "duration": 25,
    "start_time": "2024-09-17T23:43:26.606Z"
   },
   {
    "duration": 29,
    "start_time": "2024-09-17T23:43:26.633Z"
   },
   {
    "duration": 2,
    "start_time": "2024-09-17T23:43:26.663Z"
   },
   {
    "duration": 3,
    "start_time": "2024-09-17T23:43:26.667Z"
   },
   {
    "duration": 3,
    "start_time": "2024-09-17T23:43:26.671Z"
   },
   {
    "duration": 2,
    "start_time": "2024-09-17T23:43:26.676Z"
   },
   {
    "duration": 2,
    "start_time": "2024-09-17T23:43:26.680Z"
   },
   {
    "duration": 2,
    "start_time": "2024-09-17T23:43:26.684Z"
   },
   {
    "duration": 46,
    "start_time": "2024-09-17T23:43:26.687Z"
   },
   {
    "duration": 3,
    "start_time": "2024-09-17T23:43:26.734Z"
   },
   {
    "duration": 3,
    "start_time": "2024-09-17T23:43:26.738Z"
   },
   {
    "duration": 2,
    "start_time": "2024-09-17T23:43:26.743Z"
   },
   {
    "duration": 3,
    "start_time": "2024-09-17T23:43:26.746Z"
   },
   {
    "duration": 2,
    "start_time": "2024-09-17T23:43:26.750Z"
   },
   {
    "duration": 3,
    "start_time": "2024-09-17T23:43:26.754Z"
   },
   {
    "duration": 2,
    "start_time": "2024-09-17T23:43:26.759Z"
   },
   {
    "duration": 6,
    "start_time": "2024-09-17T23:44:56.404Z"
   },
   {
    "duration": 11,
    "start_time": "2024-09-17T23:45:57.296Z"
   },
   {
    "duration": 10,
    "start_time": "2024-09-18T00:11:16.513Z"
   },
   {
    "duration": 31,
    "start_time": "2024-09-18T00:12:40.002Z"
   },
   {
    "duration": 9,
    "start_time": "2024-09-18T00:17:48.783Z"
   },
   {
    "duration": 14,
    "start_time": "2024-09-18T00:20:48.362Z"
   },
   {
    "duration": 9,
    "start_time": "2024-09-18T00:21:11.245Z"
   },
   {
    "duration": 19,
    "start_time": "2024-09-18T00:21:22.933Z"
   },
   {
    "duration": 27,
    "start_time": "2024-09-18T00:22:53.968Z"
   },
   {
    "duration": 16,
    "start_time": "2024-09-18T00:23:05.947Z"
   },
   {
    "duration": 12,
    "start_time": "2024-09-18T00:23:15.545Z"
   },
   {
    "duration": 609,
    "start_time": "2024-09-18T00:23:43.654Z"
   },
   {
    "duration": 154,
    "start_time": "2024-09-18T00:23:44.265Z"
   },
   {
    "duration": 11,
    "start_time": "2024-09-18T00:23:44.420Z"
   },
   {
    "duration": 6,
    "start_time": "2024-09-18T00:23:44.433Z"
   },
   {
    "duration": 7,
    "start_time": "2024-09-18T00:23:44.441Z"
   },
   {
    "duration": 5,
    "start_time": "2024-09-18T00:23:44.450Z"
   },
   {
    "duration": 10,
    "start_time": "2024-09-18T00:23:44.457Z"
   },
   {
    "duration": 8,
    "start_time": "2024-09-18T00:23:44.468Z"
   },
   {
    "duration": 5,
    "start_time": "2024-09-18T00:23:44.478Z"
   },
   {
    "duration": 56,
    "start_time": "2024-09-18T00:23:44.485Z"
   },
   {
    "duration": 5,
    "start_time": "2024-09-18T00:23:44.543Z"
   },
   {
    "duration": 7,
    "start_time": "2024-09-18T00:23:44.550Z"
   },
   {
    "duration": 33,
    "start_time": "2024-09-18T00:23:44.559Z"
   },
   {
    "duration": 36,
    "start_time": "2024-09-18T00:23:44.596Z"
   },
   {
    "duration": 5,
    "start_time": "2024-09-18T00:23:44.633Z"
   },
   {
    "duration": 20,
    "start_time": "2024-09-18T00:23:44.640Z"
   },
   {
    "duration": 10,
    "start_time": "2024-09-18T00:23:44.663Z"
   },
   {
    "duration": 15,
    "start_time": "2024-09-18T00:23:44.677Z"
   },
   {
    "duration": 4,
    "start_time": "2024-09-18T00:23:44.694Z"
   },
   {
    "duration": 37,
    "start_time": "2024-09-18T00:23:44.731Z"
   },
   {
    "duration": 5,
    "start_time": "2024-09-18T00:23:44.770Z"
   },
   {
    "duration": 669,
    "start_time": "2024-09-18T00:23:44.777Z"
   },
   {
    "duration": 0,
    "start_time": "2024-09-18T00:23:45.448Z"
   },
   {
    "duration": 0,
    "start_time": "2024-09-18T00:23:45.449Z"
   },
   {
    "duration": 0,
    "start_time": "2024-09-18T00:23:45.451Z"
   },
   {
    "duration": 0,
    "start_time": "2024-09-18T00:23:45.452Z"
   },
   {
    "duration": 0,
    "start_time": "2024-09-18T00:23:45.453Z"
   },
   {
    "duration": 0,
    "start_time": "2024-09-18T00:23:45.454Z"
   },
   {
    "duration": 0,
    "start_time": "2024-09-18T00:23:45.457Z"
   },
   {
    "duration": 0,
    "start_time": "2024-09-18T00:23:45.458Z"
   },
   {
    "duration": 0,
    "start_time": "2024-09-18T00:23:45.459Z"
   },
   {
    "duration": 0,
    "start_time": "2024-09-18T00:23:45.460Z"
   },
   {
    "duration": 0,
    "start_time": "2024-09-18T00:23:45.461Z"
   },
   {
    "duration": 0,
    "start_time": "2024-09-18T00:23:45.462Z"
   },
   {
    "duration": 0,
    "start_time": "2024-09-18T00:23:45.463Z"
   },
   {
    "duration": 0,
    "start_time": "2024-09-18T00:23:45.464Z"
   },
   {
    "duration": 0,
    "start_time": "2024-09-18T00:23:45.465Z"
   },
   {
    "duration": 0,
    "start_time": "2024-09-18T00:23:45.466Z"
   },
   {
    "duration": 30,
    "start_time": "2024-09-18T00:24:20.702Z"
   },
   {
    "duration": 21,
    "start_time": "2024-09-18T00:24:33.324Z"
   },
   {
    "duration": 10,
    "start_time": "2024-09-18T00:24:35.207Z"
   },
   {
    "duration": 12,
    "start_time": "2024-09-18T00:24:43.613Z"
   },
   {
    "duration": 12,
    "start_time": "2024-09-18T00:24:49.992Z"
   },
   {
    "duration": 6,
    "start_time": "2024-09-18T00:27:27.324Z"
   },
   {
    "duration": 10,
    "start_time": "2024-09-18T00:32:19.259Z"
   },
   {
    "duration": 10,
    "start_time": "2024-09-18T00:33:56.532Z"
   },
   {
    "duration": 13,
    "start_time": "2024-09-18T00:34:36.414Z"
   },
   {
    "duration": 10,
    "start_time": "2024-09-18T00:35:47.346Z"
   },
   {
    "duration": 796,
    "start_time": "2024-09-18T00:38:30.031Z"
   },
   {
    "duration": 39,
    "start_time": "2024-09-18T00:46:55.223Z"
   },
   {
    "duration": 14,
    "start_time": "2024-09-18T00:47:24.165Z"
   },
   {
    "duration": 30,
    "start_time": "2024-09-18T00:50:27.642Z"
   },
   {
    "duration": 13,
    "start_time": "2024-09-18T00:58:37.484Z"
   },
   {
    "duration": 8,
    "start_time": "2024-09-18T01:01:56.056Z"
   },
   {
    "duration": 22,
    "start_time": "2024-09-18T01:02:22.964Z"
   },
   {
    "duration": 20,
    "start_time": "2024-09-18T01:06:41.853Z"
   },
   {
    "duration": 18,
    "start_time": "2024-09-18T01:07:14.884Z"
   },
   {
    "duration": 19,
    "start_time": "2024-09-18T01:08:06.806Z"
   },
   {
    "duration": 24,
    "start_time": "2024-09-18T01:10:20.637Z"
   },
   {
    "duration": 5,
    "start_time": "2024-09-18T03:19:33.237Z"
   },
   {
    "duration": 5,
    "start_time": "2024-09-18T03:19:44.784Z"
   },
   {
    "duration": 11,
    "start_time": "2024-09-18T03:40:47.825Z"
   },
   {
    "duration": 15,
    "start_time": "2024-09-18T03:42:50.390Z"
   },
   {
    "duration": 14,
    "start_time": "2024-09-18T03:48:01.502Z"
   },
   {
    "duration": 358,
    "start_time": "2024-09-18T04:12:50.943Z"
   },
   {
    "duration": 12,
    "start_time": "2024-09-18T04:14:03.872Z"
   },
   {
    "duration": 13,
    "start_time": "2024-09-18T04:20:04.556Z"
   },
   {
    "duration": 20,
    "start_time": "2024-09-18T04:21:31.688Z"
   },
   {
    "duration": 25,
    "start_time": "2024-09-18T04:21:40.778Z"
   },
   {
    "duration": 23,
    "start_time": "2024-09-18T04:23:23.919Z"
   },
   {
    "duration": 19,
    "start_time": "2024-09-18T04:51:20.304Z"
   },
   {
    "duration": 5,
    "start_time": "2024-09-18T04:51:30.027Z"
   },
   {
    "duration": 6,
    "start_time": "2024-09-18T04:51:48.919Z"
   },
   {
    "duration": 7,
    "start_time": "2024-09-18T04:52:07.113Z"
   },
   {
    "duration": 24,
    "start_time": "2024-09-18T05:02:19.196Z"
   },
   {
    "duration": 168,
    "start_time": "2024-09-18T23:23:35.054Z"
   },
   {
    "duration": 639,
    "start_time": "2024-09-18T23:23:43.409Z"
   },
   {
    "duration": 238,
    "start_time": "2024-09-18T23:23:44.050Z"
   },
   {
    "duration": 9,
    "start_time": "2024-09-18T23:23:44.290Z"
   },
   {
    "duration": 6,
    "start_time": "2024-09-18T23:23:44.302Z"
   },
   {
    "duration": 7,
    "start_time": "2024-09-18T23:23:44.310Z"
   },
   {
    "duration": 6,
    "start_time": "2024-09-18T23:23:44.319Z"
   },
   {
    "duration": 10,
    "start_time": "2024-09-18T23:23:44.327Z"
   },
   {
    "duration": 7,
    "start_time": "2024-09-18T23:23:44.339Z"
   },
   {
    "duration": 6,
    "start_time": "2024-09-18T23:23:44.348Z"
   },
   {
    "duration": 14,
    "start_time": "2024-09-18T23:23:44.358Z"
   },
   {
    "duration": 41,
    "start_time": "2024-09-18T23:23:44.373Z"
   },
   {
    "duration": 5,
    "start_time": "2024-09-18T23:23:44.416Z"
   },
   {
    "duration": 28,
    "start_time": "2024-09-18T23:23:44.423Z"
   },
   {
    "duration": 12,
    "start_time": "2024-09-18T23:23:44.452Z"
   },
   {
    "duration": 4,
    "start_time": "2024-09-18T23:23:44.466Z"
   },
   {
    "duration": 51,
    "start_time": "2024-09-18T23:23:44.472Z"
   },
   {
    "duration": 9,
    "start_time": "2024-09-18T23:23:44.525Z"
   },
   {
    "duration": 13,
    "start_time": "2024-09-18T23:23:44.536Z"
   },
   {
    "duration": 7,
    "start_time": "2024-09-18T23:23:44.551Z"
   },
   {
    "duration": 65,
    "start_time": "2024-09-18T23:23:44.561Z"
   },
   {
    "duration": 12,
    "start_time": "2024-09-18T23:23:44.628Z"
   },
   {
    "duration": 4,
    "start_time": "2024-09-18T23:23:44.641Z"
   },
   {
    "duration": 14,
    "start_time": "2024-09-18T23:23:44.647Z"
   },
   {
    "duration": 9,
    "start_time": "2024-09-18T23:23:44.663Z"
   },
   {
    "duration": 42,
    "start_time": "2024-09-18T23:23:44.673Z"
   },
   {
    "duration": 11,
    "start_time": "2024-09-18T23:23:44.717Z"
   },
   {
    "duration": 51,
    "start_time": "2024-09-18T23:23:44.730Z"
   },
   {
    "duration": 7,
    "start_time": "2024-09-18T23:23:44.786Z"
   },
   {
    "duration": 43,
    "start_time": "2024-09-18T23:23:44.794Z"
   },
   {
    "duration": 5,
    "start_time": "2024-09-18T23:23:44.838Z"
   },
   {
    "duration": 2,
    "start_time": "2024-09-18T23:23:44.845Z"
   },
   {
    "duration": 2,
    "start_time": "2024-09-18T23:23:44.849Z"
   },
   {
    "duration": 3,
    "start_time": "2024-09-18T23:23:44.853Z"
   },
   {
    "duration": 3,
    "start_time": "2024-09-18T23:23:44.857Z"
   },
   {
    "duration": 3,
    "start_time": "2024-09-18T23:23:44.861Z"
   },
   {
    "duration": 2,
    "start_time": "2024-09-18T23:23:44.866Z"
   },
   {
    "duration": 42,
    "start_time": "2024-09-18T23:23:44.870Z"
   },
   {
    "duration": 2,
    "start_time": "2024-09-18T23:23:44.914Z"
   },
   {
    "duration": 2,
    "start_time": "2024-09-18T23:23:44.919Z"
   },
   {
    "duration": 14,
    "start_time": "2024-09-18T23:34:09.325Z"
   },
   {
    "duration": 17,
    "start_time": "2024-09-18T23:35:09.953Z"
   },
   {
    "duration": 31,
    "start_time": "2024-09-18T23:38:22.318Z"
   },
   {
    "duration": 18,
    "start_time": "2024-09-18T23:45:39.423Z"
   },
   {
    "duration": 20,
    "start_time": "2024-09-18T23:51:18.211Z"
   },
   {
    "duration": 22,
    "start_time": "2024-09-19T02:17:28.169Z"
   },
   {
    "duration": 632,
    "start_time": "2024-09-19T02:19:39.907Z"
   },
   {
    "duration": 165,
    "start_time": "2024-09-19T02:19:40.541Z"
   },
   {
    "duration": 10,
    "start_time": "2024-09-19T02:19:40.710Z"
   },
   {
    "duration": 5,
    "start_time": "2024-09-19T02:19:40.722Z"
   },
   {
    "duration": 10,
    "start_time": "2024-09-19T02:19:40.729Z"
   },
   {
    "duration": 6,
    "start_time": "2024-09-19T02:19:40.740Z"
   },
   {
    "duration": 11,
    "start_time": "2024-09-19T02:19:40.747Z"
   },
   {
    "duration": 9,
    "start_time": "2024-09-19T02:19:40.759Z"
   },
   {
    "duration": 42,
    "start_time": "2024-09-19T02:19:40.770Z"
   },
   {
    "duration": 16,
    "start_time": "2024-09-19T02:19:40.814Z"
   },
   {
    "duration": 5,
    "start_time": "2024-09-19T02:19:40.831Z"
   },
   {
    "duration": 5,
    "start_time": "2024-09-19T02:19:40.838Z"
   },
   {
    "duration": 29,
    "start_time": "2024-09-19T02:19:40.845Z"
   },
   {
    "duration": 40,
    "start_time": "2024-09-19T02:19:40.878Z"
   },
   {
    "duration": 4,
    "start_time": "2024-09-19T02:19:40.920Z"
   },
   {
    "duration": 20,
    "start_time": "2024-09-19T02:19:40.925Z"
   },
   {
    "duration": 9,
    "start_time": "2024-09-19T02:19:40.946Z"
   },
   {
    "duration": 14,
    "start_time": "2024-09-19T02:19:40.956Z"
   },
   {
    "duration": 6,
    "start_time": "2024-09-19T02:19:40.971Z"
   },
   {
    "duration": 79,
    "start_time": "2024-09-19T02:19:40.979Z"
   },
   {
    "duration": 11,
    "start_time": "2024-09-19T02:19:41.059Z"
   },
   {
    "duration": 5,
    "start_time": "2024-09-19T02:19:41.072Z"
   },
   {
    "duration": 34,
    "start_time": "2024-09-19T02:19:41.079Z"
   },
   {
    "duration": 9,
    "start_time": "2024-09-19T02:19:41.115Z"
   },
   {
    "duration": 8,
    "start_time": "2024-09-19T02:19:41.126Z"
   },
   {
    "duration": 7,
    "start_time": "2024-09-19T02:19:41.136Z"
   },
   {
    "duration": 81,
    "start_time": "2024-09-19T02:19:41.144Z"
   },
   {
    "duration": 8,
    "start_time": "2024-09-19T02:19:41.226Z"
   },
   {
    "duration": 24,
    "start_time": "2024-09-19T02:19:41.236Z"
   },
   {
    "duration": 22,
    "start_time": "2024-09-19T02:19:41.261Z"
   },
   {
    "duration": 1,
    "start_time": "2024-09-19T02:19:41.285Z"
   },
   {
    "duration": 3,
    "start_time": "2024-09-19T02:19:41.312Z"
   },
   {
    "duration": 2,
    "start_time": "2024-09-19T02:19:41.317Z"
   },
   {
    "duration": 3,
    "start_time": "2024-09-19T02:19:41.320Z"
   },
   {
    "duration": 3,
    "start_time": "2024-09-19T02:19:41.324Z"
   },
   {
    "duration": 2,
    "start_time": "2024-09-19T02:19:41.329Z"
   },
   {
    "duration": 3,
    "start_time": "2024-09-19T02:19:41.333Z"
   },
   {
    "duration": 3,
    "start_time": "2024-09-19T02:19:41.337Z"
   },
   {
    "duration": 22,
    "start_time": "2024-09-19T02:28:31.728Z"
   },
   {
    "duration": 22,
    "start_time": "2024-09-19T02:31:48.443Z"
   },
   {
    "duration": 26,
    "start_time": "2024-09-19T02:34:01.577Z"
   },
   {
    "duration": 26,
    "start_time": "2024-09-19T02:35:22.844Z"
   },
   {
    "duration": 24,
    "start_time": "2024-09-19T02:36:05.952Z"
   },
   {
    "duration": 9,
    "start_time": "2024-09-19T02:41:22.965Z"
   },
   {
    "duration": 7,
    "start_time": "2024-09-19T02:47:16.866Z"
   },
   {
    "duration": 1882,
    "start_time": "2024-09-19T02:50:03.492Z"
   },
   {
    "duration": 262,
    "start_time": "2024-09-19T02:53:32.397Z"
   },
   {
    "duration": 6,
    "start_time": "2024-09-19T02:53:39.343Z"
   },
   {
    "duration": 6,
    "start_time": "2024-09-19T02:54:32.780Z"
   },
   {
    "duration": 6,
    "start_time": "2024-09-19T02:55:06.693Z"
   },
   {
    "duration": 7,
    "start_time": "2024-09-19T02:55:21.790Z"
   },
   {
    "duration": 7,
    "start_time": "2024-09-19T02:55:39.148Z"
   },
   {
    "duration": 7,
    "start_time": "2024-09-19T02:55:53.585Z"
   },
   {
    "duration": 4,
    "start_time": "2024-09-19T02:55:58.462Z"
   },
   {
    "duration": 8,
    "start_time": "2024-09-19T02:57:48.025Z"
   },
   {
    "duration": 204,
    "start_time": "2024-09-19T03:02:39.973Z"
   },
   {
    "duration": 217,
    "start_time": "2024-09-19T03:05:35.190Z"
   },
   {
    "duration": 192,
    "start_time": "2024-09-19T03:06:57.746Z"
   },
   {
    "duration": 191,
    "start_time": "2024-09-19T03:07:06.076Z"
   },
   {
    "duration": 193,
    "start_time": "2024-09-19T03:14:50.607Z"
   },
   {
    "duration": 64,
    "start_time": "2024-09-19T03:45:12.358Z"
   },
   {
    "duration": 4,
    "start_time": "2024-09-19T03:48:13.630Z"
   },
   {
    "duration": 4,
    "start_time": "2024-09-19T03:48:23.179Z"
   },
   {
    "duration": 6,
    "start_time": "2024-09-19T03:48:27.263Z"
   },
   {
    "duration": 5,
    "start_time": "2024-09-19T03:52:41.584Z"
   },
   {
    "duration": 6,
    "start_time": "2024-09-19T03:53:21.795Z"
   },
   {
    "duration": 4,
    "start_time": "2024-09-19T03:54:57.988Z"
   },
   {
    "duration": 5,
    "start_time": "2024-09-19T03:55:12.917Z"
   },
   {
    "duration": 7,
    "start_time": "2024-09-19T03:55:33.728Z"
   },
   {
    "duration": 6,
    "start_time": "2024-09-19T03:55:40.802Z"
   },
   {
    "duration": 75,
    "start_time": "2024-09-19T04:02:16.669Z"
   },
   {
    "duration": 6,
    "start_time": "2024-09-19T04:05:36.915Z"
   },
   {
    "duration": 188,
    "start_time": "2024-09-19T04:08:58.618Z"
   },
   {
    "duration": 284,
    "start_time": "2024-09-19T04:43:39.719Z"
   },
   {
    "duration": 109,
    "start_time": "2024-09-19T04:46:52.183Z"
   },
   {
    "duration": 22,
    "start_time": "2024-09-19T04:49:57.930Z"
   },
   {
    "duration": 3,
    "start_time": "2024-09-19T04:54:42.536Z"
   },
   {
    "duration": 19,
    "start_time": "2024-09-19T05:01:12.606Z"
   },
   {
    "duration": 3,
    "start_time": "2024-09-19T05:01:25.328Z"
   },
   {
    "duration": 1007,
    "start_time": "2024-09-19T05:01:27.412Z"
   },
   {
    "duration": 284,
    "start_time": "2024-09-19T06:51:30.719Z"
   },
   {
    "duration": 456,
    "start_time": "2024-09-19T06:58:48.763Z"
   },
   {
    "duration": 15,
    "start_time": "2024-09-19T07:00:08.205Z"
   },
   {
    "duration": 16,
    "start_time": "2024-09-19T07:00:30.443Z"
   },
   {
    "duration": 330,
    "start_time": "2024-09-19T07:02:02.661Z"
   },
   {
    "duration": 6,
    "start_time": "2024-09-19T07:07:09.252Z"
   },
   {
    "duration": 332,
    "start_time": "2024-09-19T07:12:08.536Z"
   },
   {
    "duration": 75,
    "start_time": "2024-09-19T07:20:32.546Z"
   },
   {
    "duration": 55,
    "start_time": "2024-09-19T07:21:32.033Z"
   },
   {
    "duration": 52,
    "start_time": "2024-09-19T07:21:37.943Z"
   },
   {
    "duration": 174,
    "start_time": "2024-09-19T07:23:37.508Z"
   },
   {
    "duration": 5,
    "start_time": "2024-09-19T07:26:32.643Z"
   },
   {
    "duration": 7,
    "start_time": "2024-09-19T07:27:56.986Z"
   },
   {
    "duration": 2462,
    "start_time": "2024-09-19T19:00:19.297Z"
   },
   {
    "duration": 237,
    "start_time": "2024-09-19T19:00:21.761Z"
   },
   {
    "duration": 10,
    "start_time": "2024-09-19T19:00:21.999Z"
   },
   {
    "duration": 6,
    "start_time": "2024-09-19T19:00:22.011Z"
   },
   {
    "duration": 7,
    "start_time": "2024-09-19T19:00:22.020Z"
   },
   {
    "duration": 6,
    "start_time": "2024-09-19T19:00:22.029Z"
   },
   {
    "duration": 10,
    "start_time": "2024-09-19T19:00:22.036Z"
   },
   {
    "duration": 9,
    "start_time": "2024-09-19T19:00:22.048Z"
   },
   {
    "duration": 6,
    "start_time": "2024-09-19T19:00:22.059Z"
   },
   {
    "duration": 14,
    "start_time": "2024-09-19T19:00:22.067Z"
   },
   {
    "duration": 4,
    "start_time": "2024-09-19T19:00:22.082Z"
   },
   {
    "duration": 41,
    "start_time": "2024-09-19T19:00:22.088Z"
   },
   {
    "duration": 29,
    "start_time": "2024-09-19T19:00:22.130Z"
   },
   {
    "duration": 12,
    "start_time": "2024-09-19T19:00:22.163Z"
   },
   {
    "duration": 5,
    "start_time": "2024-09-19T19:00:22.176Z"
   },
   {
    "duration": 49,
    "start_time": "2024-09-19T19:00:22.182Z"
   },
   {
    "duration": 10,
    "start_time": "2024-09-19T19:00:22.233Z"
   },
   {
    "duration": 15,
    "start_time": "2024-09-19T19:00:22.245Z"
   },
   {
    "duration": 7,
    "start_time": "2024-09-19T19:00:22.262Z"
   },
   {
    "duration": 58,
    "start_time": "2024-09-19T19:00:22.271Z"
   },
   {
    "duration": 12,
    "start_time": "2024-09-19T19:00:22.330Z"
   },
   {
    "duration": 4,
    "start_time": "2024-09-19T19:00:22.344Z"
   },
   {
    "duration": 15,
    "start_time": "2024-09-19T19:00:22.350Z"
   },
   {
    "duration": 9,
    "start_time": "2024-09-19T19:00:22.366Z"
   },
   {
    "duration": 9,
    "start_time": "2024-09-19T19:00:22.377Z"
   },
   {
    "duration": 42,
    "start_time": "2024-09-19T19:00:22.387Z"
   },
   {
    "duration": 18,
    "start_time": "2024-09-19T19:00:22.430Z"
   },
   {
    "duration": 8,
    "start_time": "2024-09-19T19:00:22.450Z"
   },
   {
    "duration": 24,
    "start_time": "2024-09-19T19:00:22.459Z"
   },
   {
    "duration": 45,
    "start_time": "2024-09-19T19:00:22.484Z"
   },
   {
    "duration": 178,
    "start_time": "2024-09-19T19:00:22.530Z"
   },
   {
    "duration": 373,
    "start_time": "2024-09-19T19:00:22.710Z"
   },
   {
    "duration": 6,
    "start_time": "2024-09-19T19:00:23.084Z"
   },
   {
    "duration": 197,
    "start_time": "2024-09-19T19:00:23.092Z"
   },
   {
    "duration": 2,
    "start_time": "2024-09-19T19:00:23.291Z"
   },
   {
    "duration": 5,
    "start_time": "2024-09-19T19:00:23.294Z"
   },
   {
    "duration": 3,
    "start_time": "2024-09-19T19:00:23.300Z"
   },
   {
    "duration": 3,
    "start_time": "2024-09-19T19:00:23.304Z"
   },
   {
    "duration": 165,
    "start_time": "2024-09-19T19:07:15.047Z"
   },
   {
    "duration": 183,
    "start_time": "2024-09-19T19:08:45.824Z"
   },
   {
    "duration": 22,
    "start_time": "2024-09-19T19:10:00.237Z"
   },
   {
    "duration": 21,
    "start_time": "2024-09-19T19:10:32.428Z"
   },
   {
    "duration": 15,
    "start_time": "2024-09-19T19:11:12.720Z"
   },
   {
    "duration": 15,
    "start_time": "2024-09-19T19:11:42.495Z"
   },
   {
    "duration": 16,
    "start_time": "2024-09-19T19:11:50.544Z"
   },
   {
    "duration": 17,
    "start_time": "2024-09-19T19:11:59.843Z"
   },
   {
    "duration": 15,
    "start_time": "2024-09-19T19:12:09.003Z"
   },
   {
    "duration": 23,
    "start_time": "2024-09-19T19:12:24.640Z"
   },
   {
    "duration": 12,
    "start_time": "2024-09-19T19:14:08.493Z"
   },
   {
    "duration": 12,
    "start_time": "2024-09-19T19:14:18.546Z"
   },
   {
    "duration": 161,
    "start_time": "2024-09-19T19:14:41.482Z"
   },
   {
    "duration": 159,
    "start_time": "2024-09-19T19:16:03.375Z"
   },
   {
    "duration": 13,
    "start_time": "2024-09-19T19:17:10.468Z"
   },
   {
    "duration": 135,
    "start_time": "2024-09-19T19:18:53.276Z"
   },
   {
    "duration": 14,
    "start_time": "2024-09-19T19:20:07.029Z"
   },
   {
    "duration": 169,
    "start_time": "2024-09-19T19:21:21.459Z"
   },
   {
    "duration": 163,
    "start_time": "2024-09-19T19:23:16.723Z"
   },
   {
    "duration": 171,
    "start_time": "2024-09-19T19:23:49.220Z"
   },
   {
    "duration": 168,
    "start_time": "2024-09-19T19:24:11.725Z"
   },
   {
    "duration": 23,
    "start_time": "2024-09-19T19:25:14.207Z"
   },
   {
    "duration": 220,
    "start_time": "2024-09-19T19:26:16.597Z"
   },
   {
    "duration": 6,
    "start_time": "2024-09-19T19:48:26.037Z"
   },
   {
    "duration": 5,
    "start_time": "2024-09-19T19:55:17.372Z"
   },
   {
    "duration": 5,
    "start_time": "2024-09-19T19:59:11.962Z"
   },
   {
    "duration": 5,
    "start_time": "2024-09-19T20:00:12.612Z"
   },
   {
    "duration": 7,
    "start_time": "2024-09-19T20:03:15.191Z"
   },
   {
    "duration": 8,
    "start_time": "2024-09-19T20:03:42.343Z"
   },
   {
    "duration": 9,
    "start_time": "2024-09-19T20:04:41.112Z"
   },
   {
    "duration": 159,
    "start_time": "2024-09-19T20:07:14.306Z"
   },
   {
    "duration": 169,
    "start_time": "2024-09-19T20:07:46.054Z"
   },
   {
    "duration": 174,
    "start_time": "2024-09-19T20:09:32.332Z"
   },
   {
    "duration": 5,
    "start_time": "2024-09-19T20:11:15.708Z"
   },
   {
    "duration": 9,
    "start_time": "2024-09-19T20:14:40.096Z"
   },
   {
    "duration": 9,
    "start_time": "2024-09-19T20:15:10.839Z"
   },
   {
    "duration": 332,
    "start_time": "2024-09-19T20:29:56.398Z"
   },
   {
    "duration": 9,
    "start_time": "2024-09-19T20:32:50.483Z"
   },
   {
    "duration": 4,
    "start_time": "2024-09-19T20:34:19.832Z"
   },
   {
    "duration": 5,
    "start_time": "2024-09-19T20:34:40.011Z"
   },
   {
    "duration": 5,
    "start_time": "2024-09-19T20:42:27.131Z"
   },
   {
    "duration": 5,
    "start_time": "2024-09-19T20:43:24.893Z"
   },
   {
    "duration": 2455,
    "start_time": "2024-09-19T22:08:12.114Z"
   },
   {
    "duration": 239,
    "start_time": "2024-09-19T22:08:14.571Z"
   },
   {
    "duration": 11,
    "start_time": "2024-09-19T22:08:14.812Z"
   },
   {
    "duration": 5,
    "start_time": "2024-09-19T22:08:14.827Z"
   },
   {
    "duration": 8,
    "start_time": "2024-09-19T22:08:14.834Z"
   },
   {
    "duration": 5,
    "start_time": "2024-09-19T22:08:14.843Z"
   },
   {
    "duration": 10,
    "start_time": "2024-09-19T22:08:14.850Z"
   },
   {
    "duration": 6,
    "start_time": "2024-09-19T22:08:14.862Z"
   },
   {
    "duration": 6,
    "start_time": "2024-09-19T22:08:14.870Z"
   },
   {
    "duration": 48,
    "start_time": "2024-09-19T22:08:14.878Z"
   },
   {
    "duration": 4,
    "start_time": "2024-09-19T22:08:14.927Z"
   },
   {
    "duration": 6,
    "start_time": "2024-09-19T22:08:14.932Z"
   },
   {
    "duration": 29,
    "start_time": "2024-09-19T22:08:14.940Z"
   },
   {
    "duration": 11,
    "start_time": "2024-09-19T22:08:14.973Z"
   },
   {
    "duration": 3,
    "start_time": "2024-09-19T22:08:14.986Z"
   },
   {
    "duration": 18,
    "start_time": "2024-09-19T22:08:15.024Z"
   },
   {
    "duration": 9,
    "start_time": "2024-09-19T22:08:15.044Z"
   },
   {
    "duration": 13,
    "start_time": "2024-09-19T22:08:15.054Z"
   },
   {
    "duration": 6,
    "start_time": "2024-09-19T22:08:15.069Z"
   },
   {
    "duration": 72,
    "start_time": "2024-09-19T22:08:15.076Z"
   },
   {
    "duration": 11,
    "start_time": "2024-09-19T22:08:15.150Z"
   },
   {
    "duration": 5,
    "start_time": "2024-09-19T22:08:15.162Z"
   },
   {
    "duration": 14,
    "start_time": "2024-09-19T22:08:15.169Z"
   },
   {
    "duration": 9,
    "start_time": "2024-09-19T22:08:15.184Z"
   },
   {
    "duration": 37,
    "start_time": "2024-09-19T22:08:15.195Z"
   },
   {
    "duration": 8,
    "start_time": "2024-09-19T22:08:15.233Z"
   },
   {
    "duration": 19,
    "start_time": "2024-09-19T22:08:15.242Z"
   },
   {
    "duration": 7,
    "start_time": "2024-09-19T22:08:15.263Z"
   },
   {
    "duration": 23,
    "start_time": "2024-09-19T22:08:15.272Z"
   },
   {
    "duration": 21,
    "start_time": "2024-09-19T22:08:15.324Z"
   },
   {
    "duration": 185,
    "start_time": "2024-09-19T22:08:15.347Z"
   },
   {
    "duration": 329,
    "start_time": "2024-09-19T22:08:15.533Z"
   },
   {
    "duration": 7,
    "start_time": "2024-09-19T22:08:15.864Z"
   },
   {
    "duration": 4,
    "start_time": "2024-09-19T22:08:15.873Z"
   },
   {
    "duration": 206,
    "start_time": "2024-09-19T22:08:15.878Z"
   },
   {
    "duration": 240,
    "start_time": "2024-09-19T22:08:16.086Z"
   },
   {
    "duration": 8,
    "start_time": "2024-09-19T22:08:16.328Z"
   },
   {
    "duration": 199,
    "start_time": "2024-09-19T22:08:16.338Z"
   },
   {
    "duration": 334,
    "start_time": "2024-09-19T22:08:16.539Z"
   },
   {
    "duration": 3,
    "start_time": "2024-09-19T22:08:16.875Z"
   },
   {
    "duration": 7,
    "start_time": "2024-09-19T22:08:16.882Z"
   },
   {
    "duration": 2,
    "start_time": "2024-09-19T22:08:16.891Z"
   },
   {
    "duration": 3,
    "start_time": "2024-09-19T22:08:16.895Z"
   },
   {
    "duration": 3,
    "start_time": "2024-09-19T22:08:16.900Z"
   },
   {
    "duration": 228,
    "start_time": "2024-09-19T22:19:06.297Z"
   },
   {
    "duration": 146,
    "start_time": "2024-09-19T22:19:24.122Z"
   },
   {
    "duration": 407,
    "start_time": "2024-09-19T22:19:35.021Z"
   },
   {
    "duration": 329,
    "start_time": "2024-09-19T22:22:16.405Z"
   },
   {
    "duration": 157,
    "start_time": "2024-09-19T22:26:37.972Z"
   },
   {
    "duration": 181,
    "start_time": "2024-09-19T22:27:00.353Z"
   },
   {
    "duration": 160,
    "start_time": "2024-09-19T22:28:33.990Z"
   },
   {
    "duration": 164,
    "start_time": "2024-09-19T22:29:53.600Z"
   },
   {
    "duration": 5,
    "start_time": "2024-09-19T22:33:58.000Z"
   },
   {
    "duration": 172,
    "start_time": "2024-09-19T22:34:13.696Z"
   },
   {
    "duration": 171,
    "start_time": "2024-09-19T22:34:45.153Z"
   },
   {
    "duration": 162,
    "start_time": "2024-09-19T22:35:00.455Z"
   },
   {
    "duration": 247,
    "start_time": "2024-09-19T22:37:24.024Z"
   },
   {
    "duration": 161,
    "start_time": "2024-09-19T22:37:35.452Z"
   },
   {
    "duration": 4,
    "start_time": "2024-09-19T22:38:25.953Z"
   },
   {
    "duration": 349,
    "start_time": "2024-09-19T22:40:33.333Z"
   },
   {
    "duration": 448,
    "start_time": "2024-09-19T22:43:27.570Z"
   },
   {
    "duration": 197,
    "start_time": "2024-09-19T22:43:37.886Z"
   },
   {
    "duration": 439,
    "start_time": "2024-09-19T22:46:26.138Z"
   },
   {
    "duration": 336,
    "start_time": "2024-09-19T22:48:52.511Z"
   },
   {
    "duration": 323,
    "start_time": "2024-09-19T22:56:56.853Z"
   },
   {
    "duration": 442,
    "start_time": "2024-09-19T22:57:03.639Z"
   },
   {
    "duration": 335,
    "start_time": "2024-09-19T22:58:16.223Z"
   },
   {
    "duration": 327,
    "start_time": "2024-09-19T23:04:55.005Z"
   },
   {
    "duration": 328,
    "start_time": "2024-09-19T23:20:33.118Z"
   },
   {
    "duration": 9,
    "start_time": "2024-09-20T01:11:59.352Z"
   },
   {
    "duration": 31,
    "start_time": "2024-09-20T01:31:31.990Z"
   },
   {
    "duration": 20,
    "start_time": "2024-09-20T01:38:58.324Z"
   },
   {
    "duration": 8,
    "start_time": "2024-09-20T01:39:13.087Z"
   },
   {
    "duration": 34,
    "start_time": "2024-09-20T01:39:21.889Z"
   },
   {
    "duration": 29,
    "start_time": "2024-09-20T01:39:32.090Z"
   },
   {
    "duration": 29,
    "start_time": "2024-09-20T01:41:06.859Z"
   },
   {
    "duration": 372,
    "start_time": "2024-09-20T01:44:31.609Z"
   },
   {
    "duration": 59,
    "start_time": "2024-09-20T01:44:51.623Z"
   },
   {
    "duration": 2209,
    "start_time": "2024-09-20T01:48:22.515Z"
   },
   {
    "duration": 30,
    "start_time": "2024-09-20T01:51:41.486Z"
   },
   {
    "duration": 27,
    "start_time": "2024-09-20T02:00:37.118Z"
   },
   {
    "duration": 28,
    "start_time": "2024-09-20T02:01:56.021Z"
   },
   {
    "duration": 4,
    "start_time": "2024-09-20T02:09:11.245Z"
   },
   {
    "duration": 28,
    "start_time": "2024-09-20T02:12:27.028Z"
   },
   {
    "duration": 28,
    "start_time": "2024-09-20T02:16:10.830Z"
   },
   {
    "duration": 31,
    "start_time": "2024-09-20T02:18:32.641Z"
   },
   {
    "duration": 783,
    "start_time": "2024-09-20T02:18:55.501Z"
   },
   {
    "duration": 154,
    "start_time": "2024-09-20T02:18:56.286Z"
   },
   {
    "duration": 8,
    "start_time": "2024-09-20T02:18:56.442Z"
   },
   {
    "duration": 6,
    "start_time": "2024-09-20T02:18:56.453Z"
   },
   {
    "duration": 8,
    "start_time": "2024-09-20T02:18:56.460Z"
   },
   {
    "duration": 5,
    "start_time": "2024-09-20T02:18:56.469Z"
   },
   {
    "duration": 10,
    "start_time": "2024-09-20T02:18:56.476Z"
   },
   {
    "duration": 8,
    "start_time": "2024-09-20T02:18:56.487Z"
   },
   {
    "duration": 5,
    "start_time": "2024-09-20T02:18:56.524Z"
   },
   {
    "duration": 14,
    "start_time": "2024-09-20T02:18:56.532Z"
   },
   {
    "duration": 4,
    "start_time": "2024-09-20T02:18:56.547Z"
   },
   {
    "duration": 5,
    "start_time": "2024-09-20T02:18:56.553Z"
   },
   {
    "duration": 28,
    "start_time": "2024-09-20T02:18:56.560Z"
   },
   {
    "duration": 43,
    "start_time": "2024-09-20T02:18:56.590Z"
   },
   {
    "duration": 4,
    "start_time": "2024-09-20T02:18:56.635Z"
   },
   {
    "duration": 18,
    "start_time": "2024-09-20T02:18:56.640Z"
   },
   {
    "duration": 8,
    "start_time": "2024-09-20T02:18:56.661Z"
   },
   {
    "duration": 13,
    "start_time": "2024-09-20T02:18:56.672Z"
   },
   {
    "duration": 6,
    "start_time": "2024-09-20T02:18:56.686Z"
   },
   {
    "duration": 66,
    "start_time": "2024-09-20T02:18:56.694Z"
   },
   {
    "duration": 12,
    "start_time": "2024-09-20T02:18:56.761Z"
   },
   {
    "duration": 4,
    "start_time": "2024-09-20T02:18:56.774Z"
   },
   {
    "duration": 14,
    "start_time": "2024-09-20T02:18:56.780Z"
   },
   {
    "duration": 34,
    "start_time": "2024-09-20T02:18:56.796Z"
   },
   {
    "duration": 8,
    "start_time": "2024-09-20T02:18:56.832Z"
   },
   {
    "duration": 8,
    "start_time": "2024-09-20T02:18:56.842Z"
   },
   {
    "duration": 21,
    "start_time": "2024-09-20T02:18:56.852Z"
   },
   {
    "duration": 7,
    "start_time": "2024-09-20T02:18:56.877Z"
   },
   {
    "duration": 53,
    "start_time": "2024-09-20T02:18:56.886Z"
   },
   {
    "duration": 670,
    "start_time": "2024-09-20T02:18:56.940Z"
   },
   {
    "duration": 0,
    "start_time": "2024-09-20T02:18:57.612Z"
   },
   {
    "duration": 0,
    "start_time": "2024-09-20T02:18:57.613Z"
   },
   {
    "duration": 0,
    "start_time": "2024-09-20T02:18:57.614Z"
   },
   {
    "duration": 0,
    "start_time": "2024-09-20T02:18:57.615Z"
   },
   {
    "duration": 0,
    "start_time": "2024-09-20T02:18:57.624Z"
   },
   {
    "duration": 0,
    "start_time": "2024-09-20T02:18:57.628Z"
   },
   {
    "duration": 0,
    "start_time": "2024-09-20T02:18:57.629Z"
   },
   {
    "duration": 0,
    "start_time": "2024-09-20T02:18:57.631Z"
   },
   {
    "duration": 0,
    "start_time": "2024-09-20T02:18:57.632Z"
   },
   {
    "duration": 0,
    "start_time": "2024-09-20T02:18:57.633Z"
   },
   {
    "duration": 0,
    "start_time": "2024-09-20T02:18:57.634Z"
   },
   {
    "duration": 0,
    "start_time": "2024-09-20T02:18:57.636Z"
   },
   {
    "duration": 0,
    "start_time": "2024-09-20T02:18:57.638Z"
   },
   {
    "duration": 0,
    "start_time": "2024-09-20T02:18:57.639Z"
   },
   {
    "duration": 0,
    "start_time": "2024-09-20T02:18:57.640Z"
   },
   {
    "duration": 0,
    "start_time": "2024-09-20T02:18:57.641Z"
   },
   {
    "duration": 52,
    "start_time": "2024-09-20T02:19:33.623Z"
   },
   {
    "duration": 29,
    "start_time": "2024-09-20T02:19:42.026Z"
   },
   {
    "duration": 33,
    "start_time": "2024-09-20T02:20:12.233Z"
   },
   {
    "duration": 169,
    "start_time": "2024-09-20T02:22:39.488Z"
   },
   {
    "duration": 325,
    "start_time": "2024-09-20T02:22:43.186Z"
   },
   {
    "duration": 334,
    "start_time": "2024-09-20T02:22:47.245Z"
   },
   {
    "duration": 10,
    "start_time": "2024-09-20T02:23:36.560Z"
   },
   {
    "duration": 284,
    "start_time": "2024-09-20T02:23:45.977Z"
   },
   {
    "duration": 233,
    "start_time": "2024-09-20T02:23:53.309Z"
   },
   {
    "duration": 8,
    "start_time": "2024-09-20T02:23:58.365Z"
   },
   {
    "duration": 6,
    "start_time": "2024-09-20T02:24:02.422Z"
   },
   {
    "duration": 192,
    "start_time": "2024-09-20T02:24:05.574Z"
   },
   {
    "duration": 162,
    "start_time": "2024-09-20T02:24:10.859Z"
   },
   {
    "duration": 336,
    "start_time": "2024-09-20T02:24:13.664Z"
   },
   {
    "duration": 8,
    "start_time": "2024-09-20T02:24:16.804Z"
   },
   {
    "duration": 184,
    "start_time": "2024-09-20T02:24:20.141Z"
   },
   {
    "duration": 7,
    "start_time": "2024-09-20T02:26:54.467Z"
   },
   {
    "duration": 116,
    "start_time": "2024-09-20T02:27:50.838Z"
   },
   {
    "duration": 6,
    "start_time": "2024-09-20T02:29:55.145Z"
   },
   {
    "duration": 6,
    "start_time": "2024-09-20T02:35:49.232Z"
   },
   {
    "duration": 8,
    "start_time": "2024-09-20T02:37:47.291Z"
   },
   {
    "duration": 124,
    "start_time": "2024-09-20T03:11:56.657Z"
   },
   {
    "duration": 27,
    "start_time": "2024-09-20T03:12:24.326Z"
   },
   {
    "duration": 26,
    "start_time": "2024-09-20T03:12:59.172Z"
   },
   {
    "duration": 26,
    "start_time": "2024-09-20T03:13:23.315Z"
   },
   {
    "duration": 5,
    "start_time": "2024-09-20T03:29:59.231Z"
   },
   {
    "duration": 23,
    "start_time": "2024-09-20T03:30:06.841Z"
   },
   {
    "duration": 24,
    "start_time": "2024-09-20T03:31:33.731Z"
   },
   {
    "duration": 6,
    "start_time": "2024-09-20T03:31:58.203Z"
   },
   {
    "duration": 6,
    "start_time": "2024-09-20T03:32:11.583Z"
   },
   {
    "duration": 17,
    "start_time": "2024-09-20T03:33:05.065Z"
   },
   {
    "duration": 6,
    "start_time": "2024-09-20T03:33:11.678Z"
   },
   {
    "duration": 7,
    "start_time": "2024-09-20T03:34:14.244Z"
   },
   {
    "duration": 8,
    "start_time": "2024-09-20T03:34:49.711Z"
   },
   {
    "duration": 7,
    "start_time": "2024-09-20T03:36:41.026Z"
   },
   {
    "duration": 7,
    "start_time": "2024-09-20T03:37:21.260Z"
   },
   {
    "duration": 7,
    "start_time": "2024-09-20T03:37:47.565Z"
   },
   {
    "duration": 6,
    "start_time": "2024-09-20T03:39:23.891Z"
   },
   {
    "duration": 3,
    "start_time": "2024-09-20T03:40:28.807Z"
   },
   {
    "duration": 4,
    "start_time": "2024-09-20T03:40:34.722Z"
   },
   {
    "duration": 6,
    "start_time": "2024-09-20T03:44:25.739Z"
   },
   {
    "duration": 7,
    "start_time": "2024-09-20T03:44:36.054Z"
   },
   {
    "duration": 17,
    "start_time": "2024-09-20T03:44:54.372Z"
   },
   {
    "duration": 6,
    "start_time": "2024-09-20T03:45:03.715Z"
   },
   {
    "duration": 7,
    "start_time": "2024-09-20T03:45:19.936Z"
   },
   {
    "duration": 8,
    "start_time": "2024-09-20T03:47:02.891Z"
   },
   {
    "duration": 7,
    "start_time": "2024-09-20T03:47:23.660Z"
   },
   {
    "duration": 12,
    "start_time": "2024-09-20T03:55:42.283Z"
   },
   {
    "duration": 14,
    "start_time": "2024-09-20T03:56:05.581Z"
   },
   {
    "duration": 13,
    "start_time": "2024-09-20T03:56:54.556Z"
   },
   {
    "duration": 11,
    "start_time": "2024-09-20T03:57:43.750Z"
   },
   {
    "duration": 11,
    "start_time": "2024-09-20T03:57:48.371Z"
   },
   {
    "duration": 118,
    "start_time": "2024-09-20T03:58:18.369Z"
   },
   {
    "duration": 4,
    "start_time": "2024-09-20T03:58:45.787Z"
   },
   {
    "duration": 4,
    "start_time": "2024-09-20T03:59:41.011Z"
   },
   {
    "duration": 5,
    "start_time": "2024-09-20T03:59:45.656Z"
   },
   {
    "duration": 13,
    "start_time": "2024-09-20T04:01:33.887Z"
   },
   {
    "duration": 7,
    "start_time": "2024-09-20T04:01:43.616Z"
   },
   {
    "duration": 11,
    "start_time": "2024-09-20T04:01:58.344Z"
   },
   {
    "duration": 13,
    "start_time": "2024-09-20T04:02:14.556Z"
   },
   {
    "duration": 23,
    "start_time": "2024-09-20T04:03:09.320Z"
   },
   {
    "duration": 29,
    "start_time": "2024-09-20T04:03:32.088Z"
   },
   {
    "duration": 13,
    "start_time": "2024-09-20T04:16:41.353Z"
   },
   {
    "duration": 6,
    "start_time": "2024-09-20T04:16:49.301Z"
   },
   {
    "duration": 5,
    "start_time": "2024-09-20T04:16:58.025Z"
   },
   {
    "duration": 20,
    "start_time": "2024-09-20T04:17:56.570Z"
   },
   {
    "duration": 27,
    "start_time": "2024-09-20T04:18:06.813Z"
   },
   {
    "duration": 800,
    "start_time": "2024-09-20T04:25:44.866Z"
   },
   {
    "duration": 151,
    "start_time": "2024-09-20T04:25:45.668Z"
   },
   {
    "duration": 9,
    "start_time": "2024-09-20T04:25:45.821Z"
   },
   {
    "duration": 7,
    "start_time": "2024-09-20T04:25:45.832Z"
   },
   {
    "duration": 8,
    "start_time": "2024-09-20T04:25:45.841Z"
   },
   {
    "duration": 5,
    "start_time": "2024-09-20T04:25:45.850Z"
   },
   {
    "duration": 10,
    "start_time": "2024-09-20T04:25:45.857Z"
   },
   {
    "duration": 13,
    "start_time": "2024-09-20T04:25:45.868Z"
   },
   {
    "duration": 7,
    "start_time": "2024-09-20T04:25:45.883Z"
   },
   {
    "duration": 14,
    "start_time": "2024-09-20T04:25:45.924Z"
   },
   {
    "duration": 4,
    "start_time": "2024-09-20T04:25:45.940Z"
   },
   {
    "duration": 5,
    "start_time": "2024-09-20T04:25:45.946Z"
   },
   {
    "duration": 29,
    "start_time": "2024-09-20T04:25:45.952Z"
   },
   {
    "duration": 11,
    "start_time": "2024-09-20T04:25:45.984Z"
   },
   {
    "duration": 28,
    "start_time": "2024-09-20T04:25:45.997Z"
   },
   {
    "duration": 20,
    "start_time": "2024-09-20T04:25:46.028Z"
   },
   {
    "duration": 9,
    "start_time": "2024-09-20T04:25:46.049Z"
   },
   {
    "duration": 13,
    "start_time": "2024-09-20T04:25:46.059Z"
   },
   {
    "duration": 6,
    "start_time": "2024-09-20T04:25:46.074Z"
   },
   {
    "duration": 68,
    "start_time": "2024-09-20T04:25:46.082Z"
   },
   {
    "duration": 10,
    "start_time": "2024-09-20T04:25:46.152Z"
   },
   {
    "duration": 5,
    "start_time": "2024-09-20T04:25:46.164Z"
   },
   {
    "duration": 15,
    "start_time": "2024-09-20T04:25:46.170Z"
   },
   {
    "duration": 37,
    "start_time": "2024-09-20T04:25:46.187Z"
   },
   {
    "duration": 9,
    "start_time": "2024-09-20T04:25:46.226Z"
   },
   {
    "duration": 8,
    "start_time": "2024-09-20T04:25:46.237Z"
   },
   {
    "duration": 20,
    "start_time": "2024-09-20T04:25:46.247Z"
   },
   {
    "duration": 7,
    "start_time": "2024-09-20T04:25:46.268Z"
   },
   {
    "duration": 54,
    "start_time": "2024-09-20T04:25:46.277Z"
   },
   {
    "duration": 28,
    "start_time": "2024-09-20T04:25:46.333Z"
   },
   {
    "duration": 207,
    "start_time": "2024-09-20T04:25:46.362Z"
   },
   {
    "duration": 364,
    "start_time": "2024-09-20T04:25:46.571Z"
   },
   {
    "duration": 7,
    "start_time": "2024-09-20T04:25:46.937Z"
   },
   {
    "duration": 198,
    "start_time": "2024-09-20T04:25:46.946Z"
   },
   {
    "duration": 169,
    "start_time": "2024-09-20T04:25:47.146Z"
   },
   {
    "duration": 13,
    "start_time": "2024-09-20T04:25:47.316Z"
   },
   {
    "duration": 4,
    "start_time": "2024-09-20T04:25:47.330Z"
   },
   {
    "duration": 210,
    "start_time": "2024-09-20T04:25:47.336Z"
   },
   {
    "duration": 178,
    "start_time": "2024-09-20T04:25:47.548Z"
   },
   {
    "duration": 405,
    "start_time": "2024-09-20T04:25:47.727Z"
   },
   {
    "duration": 9,
    "start_time": "2024-09-20T04:25:48.136Z"
   },
   {
    "duration": 200,
    "start_time": "2024-09-20T04:25:48.146Z"
   },
   {
    "duration": 6,
    "start_time": "2024-09-20T04:25:48.348Z"
   },
   {
    "duration": 110,
    "start_time": "2024-09-20T04:25:48.356Z"
   },
   {
    "duration": 23,
    "start_time": "2024-09-20T04:25:48.467Z"
   },
   {
    "duration": 7,
    "start_time": "2024-09-20T04:25:48.492Z"
   },
   {
    "duration": 26,
    "start_time": "2024-09-20T04:25:48.500Z"
   },
   {
    "duration": 6,
    "start_time": "2024-09-21T00:24:18.339Z"
   }
  ],
  "colab": {
   "provenance": []
  },
  "kernelspec": {
   "display_name": "Python 3 (ipykernel)",
   "language": "python",
   "name": "python3"
  },
  "language_info": {
   "codemirror_mode": {
    "name": "ipython",
    "version": 3
   },
   "file_extension": ".py",
   "mimetype": "text/x-python",
   "name": "python",
   "nbconvert_exporter": "python",
   "pygments_lexer": "ipython3",
   "version": "3.9.19"
  },
  "toc": {
   "base_numbering": 1,
   "nav_menu": {},
   "number_sections": true,
   "sideBar": true,
   "skip_h1_title": false,
   "title_cell": "Table of Contents",
   "title_sidebar": "Contents",
   "toc_cell": false,
   "toc_position": {
    "height": "calc(100% - 180px)",
    "left": "10px",
    "top": "150px",
    "width": "238px"
   },
   "toc_section_display": true,
   "toc_window_display": true
  }
 },
 "nbformat": 4,
 "nbformat_minor": 1
}
